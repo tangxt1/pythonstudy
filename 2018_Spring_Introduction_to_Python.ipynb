{
 "cells": [
  {
   "cell_type": "markdown",
   "metadata": {},
   "source": [
    "<center><h1>Introduction to Python</h1><center>\n",
    "\n",
    "<center>\n",
    "<h3>Texas A&amp;M High Performance Research Computing (TAMU HPRC)<br>\n",
    "Yang Liu</h3>\n",
    "<h3><a href=\"https://hprc.tamu.edu/training/intro_python.html\">course web page</a></h3>\n",
    "</center>"
   ]
  },
  {
   "cell_type": "markdown",
   "metadata": {},
   "source": [
    "# Agenda\n",
    "\n",
    "2. Constants and Variables\n",
    "- Data Types: Numbers, Strings, and Lists\n",
    "- Control Statement: If/Else, For, While\n",
    "- Functions\n",
    "- Scripts and Modules\n",
    "- File Input and Output\n",
    "- Errors and Exceptions\n",
    "- Dictionaries\n",
    "- Sorting\n",
    "- Regular Expression\n",
    "- Slicing, List Comprehension, List Assignment and Copy"
   ]
  },
  {
   "cell_type": "markdown",
   "metadata": {},
   "source": [
    "This class will cover the basics of Python 3.\n",
    "\n",
    "# 1. Constants and Variables\n",
    "\n",
    "Constants and variables are data for program to process and store information.\n",
    "\n",
    "# 1.1 Constants\n",
    "A constant is a value stored in computer memory. For example, constant 5 means the number 5 stored in computer memory. The number of bytes used to store a constant varies. \n",
    "- The 'getsizeof()' function in the 'sys' module returns the number of bytes of a constant (or a variable).\n",
    "- The 'id()' function returns the identify (memory address in cython) of a constant (or a variable)"
   ]
  },
  {
   "cell_type": "code",
   "execution_count": 33,
   "metadata": {},
   "outputs": [
    {
     "name": "stdout",
     "output_type": "stream",
     "text": [
      "the number of bytes used to store constant 5 in memory is 28 \n",
      "the identify (memory address) of constant 5 is 0x7f1e6dc58a40\n",
      "the number of bytes used to store constant 1234567890 in memory is 32\n",
      "the identify (memory address) of constant 1234567890 is 0000007f1e5c18c510\n",
      "a = hello world\n"
     ]
    }
   ],
   "source": [
    "import sys     # import the 'sys' module\n",
    "print('the number of bytes used to store constant 5 in memory is {:d} '.format(sys.getsizeof(5))) #print function for output\n",
    "print('the identify (memory address) of constant 5 is {:s}'.format(hex(id(5))))\n",
    "print('the number of bytes used to store constant 1234567890 in memory is {:d}'.format(sys.getsizeof(1234567890)))\n",
    "print('the identify (memory address) of constant 1234567890 is {:018x}'.format(id(1234567890)))\n",
    "\n",
    "# Task to do:\n",
    "# Execute the python statements in this cell\n",
    "# by 'Click this cell, and then press 'Ctrl + Enter' keys (or click the 'run cell, select below' icon. "
   ]
  },
  {
   "cell_type": "markdown",
   "metadata": {},
   "source": [
    "The example above shows that the number of bytes used to store a constant (numbers in the example) depends the constant value. Actually, a constant is an object which uses some bits to store extra information other than the constant value.\n",
    "\n",
    "Function print('{}'.format()) displays the message in quote on output device (screen). For example:\n",
    "- print('a = {:d}'.format(a)) displays 'a = 5' if a is an integer of value 5.\n",
    "- print('a = {:s}'.format(a)) displays 'a = hello world' if a is a string of value 'hello world'.\n",
    "\n",
    "The {} in the (single or double) quote means it should be replaced by its corresponding varible from the arguments of the format() function.\n",
    "The ':d' inside a {} tells to format the variable to display as a signed integer, while the \n",
    "':s' tells to format the variable to display as a string.\n",
    "\n",
    "Run the following program to see the actual output."
   ]
  },
  {
   "cell_type": "code",
   "execution_count": 34,
   "metadata": {},
   "outputs": [
    {
     "name": "stdout",
     "output_type": "stream",
     "text": [
      "a = 5\n",
      "a = hello world\n"
     ]
    }
   ],
   "source": [
    "a = 5\n",
    "print('a = {:d}'.format(a))\n",
    "a = 'hello world'\n",
    "print('a = {:s}'.format(a))"
   ]
  },
  {
   "cell_type": "markdown",
   "metadata": {},
   "source": [
    "#                                         1.2 Variables\n",
    "Variables in a program are data for the program to work on. A variable x is an object in memory: integer, string, etc. A variable can refer to different objects at different time.<br>\n",
    "There are four important properites for each variable:\n",
    "<ul>\n",
    "<li>A variable x has a name, e.g., x.<br>\n",
    "<li>A variable x is a reference to a memory location where an object is stored.<br>\n",
    "<li>A variable x has a value, i.e., the object stored in the memory location referred by x.\n",
    "<li>A variable x has an type: integer, string (object type)\n",
    "</ul>\n",
    "\n",
    "\n",
    "<img src = \"image/variable-money.png\"  height=60>\n",
    "Example: variable balance\n",
    "<ul>\n",
    "<li>Variable Name: balance\n",
    "<li>Memory/Location Reference: the box (memory) where the money (object) is stored\n",
    "<li>Variable Type: money (floating point number).\n",
    "<li>Variable Value: the amount of money stored in the box/memory\n",
    "</ul>"
   ]
  },
  {
   "cell_type": "markdown",
   "metadata": {},
   "source": [
    "# 1.2.1 Variable Names\n",
    "Rules for variable names:\n",
    "<ul>\n",
    "<li> A variable name must begin with a letter (a-z, A-Z) or underscore (_).\n",
    "     <ul>\n",
    "         <li>valid variable names: A, a, boy, account_balance, _system.\n",
    "         <li>invalid variable names: 9year_average, $balance.\n",
    "     </ul>\n",
    "<li> The other characters in a variable name can be a letter, number(0-9), or underscore.\n",
    "     <ul>\n",
    "          <li>valid variable name: student_2.\n",
    "          <li>invalid variable name: average-GPA.\n",
    "     </ul>\n",
    "<li> A variable name is case sensitive.\n",
    "     <ul>\n",
    "          <li> Boy and boy are two different variables.\n",
    "     </ul>\n",
    "<li> A variable name cannot be a keyword.\n",
    "     <ul>\n",
    "           <li>a variable name cannot be and (and is a key word).\n",
    "     </ul>\n",
    "</ul>\n",
    "# 1.2.2 Variable Assignment Operator =\n",
    "Assignment statement 'x = y' assign the reference of y to x. Therefore, both x and y refer/point to the same object. "
   ]
  },
  {
   "cell_type": "code",
   "execution_count": 26,
   "metadata": {},
   "outputs": [
    {
     "name": "stdout",
     "output_type": "stream",
     "text": [
      "age = 20, Age = 30\n"
     ]
    }
   ],
   "source": [
    "age = 20   # assign variable age with reference to the constant 20 (object)\n",
    "Age = 30   # assign variable Age with reference to tje constant 30 (object)\n",
    "print('age = {:d}, Age = {:d}'.format(age, Age))     # display the value of variable age and Age\n",
    "\n",
    "# Tasks to do\n",
    "# Execute the python statements above by 'Click this cell, and then press 'Ctrl + Enter' keys. \n",
    "# Does this convince you that variables are case sensitive?"
   ]
  },
  {
   "cell_type": "code",
   "execution_count": 36,
   "metadata": {},
   "outputs": [
    {
     "name": "stdout",
     "output_type": "stream",
     "text": [
      "Before changing age to 40, age = 20, Age = 20\n",
      "Before changing age to 40, id(age) = 139768667409440, id(Age) = 139768667409440\n",
      "After changing age to 40, age = 40, Age = 20\n",
      "After changing age to 40, id(age) = 139768667410080, id(Age) = 139768667409440\n"
     ]
    }
   ],
   "source": [
    "age = 20\n",
    "Age = 20\n",
    "print('Before changing age to 40, age = {:d}, Age = {:d}'.format(age, Age)) \n",
    "print('Before changing age to 40, id(age) = {:d}, id(Age) = {:d}'.format(id(age), id(Age))) \n",
    "age = 40\n",
    "print('After changing age to 40, age = {:d}, Age = {:d}'.format(age, Age)) \n",
    "print('After changing age to 40, id(age) = {:d}, id(Age) = {:d}'.format(id(age), id(Age)))\n",
    "\n",
    "# Tasks to do\n",
    "# Execute the program in this cell\n",
    "# What does the program output tell you"
   ]
  },
  {
   "cell_type": "markdown",
   "metadata": {},
   "source": [
    "The program above should convince you that a variable may refer to different objects at different time. Moreover, the id of the variable changes when it is assigned with different object.\n",
    "\n",
    "# 1.2.3 Errors from Incorrect Variable Names\n",
    "\n",
    "Now we will look at the errors related to incorrect variable names."
   ]
  },
  {
   "cell_type": "code",
   "execution_count": 37,
   "metadata": {},
   "outputs": [
    {
     "ename": "SyntaxError",
     "evalue": "invalid syntax (<ipython-input-37-6857ad617bb7>, line 1)",
     "output_type": "error",
     "traceback": [
      "\u001b[0;36m  File \u001b[0;32m\"<ipython-input-37-6857ad617bb7>\"\u001b[0;36m, line \u001b[0;32m1\u001b[0m\n\u001b[0;31m    and=5\u001b[0m\n\u001b[0m      ^\u001b[0m\n\u001b[0;31mSyntaxError\u001b[0m\u001b[0;31m:\u001b[0m invalid syntax\n"
     ]
    }
   ],
   "source": [
    "and=5\n",
    "print('{:d}'.format(and))\n",
    "# Tasks to do\n",
    "# (1) Execute the python statement above\n",
    "#     What does the error tells you? What causes this error?"
   ]
  },
  {
   "cell_type": "markdown",
   "metadata": {},
   "source": [
    "The error message 'invalid syntax' is not self-evident. The error was caused by the variable and which is a keyword. The following program shows the keywords used by Python."
   ]
  },
  {
   "cell_type": "code",
   "execution_count": 38,
   "metadata": {},
   "outputs": [
    {
     "name": "stdout",
     "output_type": "stream",
     "text": [
      "['False', 'None', 'True', 'and', 'as', 'assert', 'break', 'class', 'continue', 'def', 'del', 'elif', 'else', 'except', 'finally', 'for', 'from', 'global', 'if', 'import', 'in', 'is', 'lambda', 'nonlocal', 'not', 'or', 'pass', 'raise', 'return', 'try', 'while', 'with', 'yield']\n"
     ]
    }
   ],
   "source": [
    "import keyword\n",
    "print(keyword.kwlist)  # print the keywords used in Python\n",
    "\n",
    "# Tasks to do\n",
    "# (1) Execute the python statement in this cell"
   ]
  },
  {
   "cell_type": "code",
   "execution_count": 39,
   "metadata": {},
   "outputs": [
    {
     "ename": "SyntaxError",
     "evalue": "can't assign to operator (<ipython-input-39-582eb3f541ca>, line 1)",
     "output_type": "error",
     "traceback": [
      "\u001b[0;36m  File \u001b[0;32m\"<ipython-input-39-582eb3f541ca>\"\u001b[0;36m, line \u001b[0;32m1\u001b[0m\n\u001b[0;31m    average-GPA = 90\u001b[0m\n\u001b[0m                    ^\u001b[0m\n\u001b[0;31mSyntaxError\u001b[0m\u001b[0;31m:\u001b[0m can't assign to operator\n"
     ]
    }
   ],
   "source": [
    "average-GPA = 90\n",
    "print(average-GPA)\n",
    "# Tasks to do\n",
    "# Execute the python statement above\n",
    "# What does the error tells you? Why is there such an error?"
   ]
  },
  {
   "cell_type": "markdown",
   "metadata": {},
   "source": [
    "The error message \"can't assign to operator\" is not self-evident too. The error was caused by the variable 'average-GPA' which is not a valid variable because it contains an invalid symbol '-'."
   ]
  },
  {
   "cell_type": "code",
   "execution_count": 40,
   "metadata": {},
   "outputs": [
    {
     "ename": "SyntaxError",
     "evalue": "invalid syntax (<ipython-input-40-d9748506f4cb>, line 1)",
     "output_type": "error",
     "traceback": [
      "\u001b[0;36m  File \u001b[0;32m\"<ipython-input-40-d9748506f4cb>\"\u001b[0;36m, line \u001b[0;32m1\u001b[0m\n\u001b[0;31m    $balance = 2000\u001b[0m\n\u001b[0m    ^\u001b[0m\n\u001b[0;31mSyntaxError\u001b[0m\u001b[0;31m:\u001b[0m invalid syntax\n"
     ]
    }
   ],
   "source": [
    "$balance = 2000\n",
    "print($balance)\n",
    "# Tasks to do\n",
    "# Execute the python statement above\n",
    "# What does the error tells you? Why is there such an error?"
   ]
  },
  {
   "cell_type": "markdown",
   "metadata": {},
   "source": [
    "Again the error message \"invalid syntax\" is not self-evident. The error was caused by the variable '$balance' which is not a valid variable because it does not start with a letter ('a'-'z', 'A'-'Z') nor the underscore symbol ('_').\n",
    "\n",
    "# 1.2.4 Variables Must be Defined First\n",
    "\n",
    "A variable must be defined before it is used."
   ]
  },
  {
   "cell_type": "code",
   "execution_count": 41,
   "metadata": {},
   "outputs": [
    {
     "ename": "NameError",
     "evalue": "name 'undefined_variable' is not defined",
     "output_type": "error",
     "traceback": [
      "\u001b[0;31m---------------------------------------------------------------------------\u001b[0m",
      "\u001b[0;31mNameError\u001b[0m                                 Traceback (most recent call last)",
      "\u001b[0;32m<ipython-input-41-66122dd5b020>\u001b[0m in \u001b[0;36m<module>\u001b[0;34m()\u001b[0m\n\u001b[0;32m----> 1\u001b[0;31m \u001b[0mprint\u001b[0m\u001b[0;34m(\u001b[0m\u001b[0mundefined_variable\u001b[0m\u001b[0;34m)\u001b[0m\u001b[0;34m\u001b[0m\u001b[0m\n\u001b[0m\u001b[1;32m      2\u001b[0m \u001b[0;34m\u001b[0m\u001b[0m\n\u001b[1;32m      3\u001b[0m \u001b[0;31m# Tasks to do\u001b[0m\u001b[0;34m\u001b[0m\u001b[0;34m\u001b[0m\u001b[0m\n\u001b[1;32m      4\u001b[0m \u001b[0;31m# Execute the python statement above\u001b[0m\u001b[0;34m\u001b[0m\u001b[0;34m\u001b[0m\u001b[0m\n\u001b[1;32m      5\u001b[0m \u001b[0;31m# What does the error tells you? Why is there such an error? How to fix the error?\u001b[0m\u001b[0;34m\u001b[0m\u001b[0;34m\u001b[0m\u001b[0m\n",
      "\u001b[0;31mNameError\u001b[0m: name 'undefined_variable' is not defined"
     ]
    }
   ],
   "source": [
    "print(undefined_variable)\n",
    "\n",
    "# Tasks to do\n",
    "# Execute the python statement above\n",
    "# What does the error tells you? Why is there such an error? How to fix the error?"
   ]
  },
  {
   "cell_type": "markdown",
   "metadata": {},
   "source": [
    "# 2. Data Types\n",
    "\n",
    "Every variable must have a type. This is important. It is a common error that an operator is applied to a variable of wrong data type. When that happens, the result or program execution normally is not correct as expected.\n",
    "\n",
    "# 2.1 Number\n",
    "\n",
    "A number can be an integer, a floating point number, or a boolean.\n",
    "# 2.1.1 Automatical Conversion between Subtypes of Numbers"
   ]
  },
  {
   "cell_type": "code",
   "execution_count": 62,
   "metadata": {},
   "outputs": [
    {
     "name": "stdout",
     "output_type": "stream",
     "text": [
      "a + b + c = 9.500000, c = 1, -c = -1, type(c) is <class 'bool'>\n"
     ]
    }
   ],
   "source": [
    "a = 3      # assign integer 3 to variable a\n",
    "b = 5.5    # assign floating point number 5.5 to variable b\n",
    "c = True   # assign boolean value True to variable c\n",
    "print('a + b + c = {:f}, c = {:d}, -c = {:d}, type(c) is {:s}'.format(a + b + c, c, -c, str(type(c)))) \n",
    "# Tasks to do\n",
    "# (1) Execute the statements in this cell\n",
    "# (2) What do you learn from this example?"
   ]
  },
  {
   "cell_type": "markdown",
   "metadata": {},
   "source": [
    "The example above shows that \n",
    "3. an integer and boolean variable are automatically converted to a floating point number when they are added to a variable of floating point number, and\n",
    "3. a boolean variable is automatically converted to an integer when a negation operator '-' is applied to the variable.\n",
    "\n",
    "# 2.1.2 Operators on Numbers\n",
    "Below we demonstrate the addtion (+), substraction (-), multiplication (*) and division (/) operators for numbers."
   ]
  },
  {
   "cell_type": "code",
   "execution_count": 63,
   "metadata": {},
   "outputs": [
    {
     "name": "stdout",
     "output_type": "stream",
     "text": [
      "a + b = 14, a - b = 6, a * b = 40, a / b = 2.500000\n"
     ]
    }
   ],
   "source": [
    "a = 10\n",
    "b = 4\n",
    "print('a + b = {:d}, a - b = {:d}, a * b = {:d}, a / b = {:f}'.format(a + b, a - b, a * b, a / b))"
   ]
  },
  {
   "cell_type": "markdown",
   "metadata": {},
   "source": [
    "# 2.1.3 Operator Precedence\n",
    "Operators have different precedences, similary to operatorprecedence in math. For example, 3 + 2 * 3 is 3 + 6 = 9. "
   ]
  },
  {
   "cell_type": "code",
   "execution_count": 65,
   "metadata": {},
   "outputs": [
    {
     "name": "stdout",
     "output_type": "stream",
     "text": [
      "1 + 2 / 3  = 1.666667\n",
      "(1 + 2) / 3  = 1.000000\n",
      "(1 + 2) / 3  = 1.000000\n"
     ]
    }
   ],
   "source": [
    "a = 1\n",
    "b = 2\n",
    "c = 3\n",
    "print('{:d} + {:d} / {:d}  = {:f}'.format(a, b, c, a + b / c))\n",
    "print('({:d} + {:d}) / {:d}  = {:f}'.format(a, b, c, (a + b) / c))"
   ]
  },
  {
   "cell_type": "markdown",
   "metadata": {},
   "source": [
    "# 2.2 String\n",
    "A string is a sequence of characters (not just letters 'a-z' and 'A-Z') which is quoted by double/single/tripple quotes"
   ]
  },
  {
   "cell_type": "code",
   "execution_count": 66,
   "metadata": {},
   "outputs": [
    {
     "name": "stdout",
     "output_type": "stream",
     "text": [
      "Ada Cluster\n",
      "string in two lines:\n",
      "Ada Cluster \n",
      " Texas A&M University\n",
      "string in tripple quote:\n",
      "\n",
      "Ada Cluster\n",
      "Texas A&M University\n",
      "\n"
     ]
    }
   ],
   "source": [
    "name = \"Ada Cluster\"\n",
    "print(name)\n",
    "string_in_two_lines = 'Ada Cluster \\n Texas A&M University'\n",
    "print(\"string in two lines:\")\n",
    "print(string_in_two_lines)\n",
    "string_in_tripple_quote = \"\"\"\n",
    "Ada Cluster\n",
    "Texas A&M University\n",
    "\"\"\"\n",
    "print(\"string in tripple quote:\")\n",
    "print(string_in_tripple_quote)\n",
    "# Tasks to do\n",
    "# Execute the statements above\n",
    "# Why is there a space before the 'Texas A&M University' for print(string_in_two_lines)?\n",
    "# What is the character '\\n' in string_in_two_lines?\n",
    "# Why there is a blank line before 'Ada Cluster' for print(string_in_tripple_quote)?"
   ]
  },
  {
   "cell_type": "code",
   "execution_count": 67,
   "metadata": {},
   "outputs": [
    {
     "name": "stdout",
     "output_type": "stream",
     "text": [
      "sentence is Tom said, \"it is Sam's Club\"\n",
      "sentence is Tom said, \"it is Sam's Club\"\n"
     ]
    }
   ],
   "source": [
    "# exericse\n",
    "\n",
    "# define a variable company of value \"Tom said, \"it is Sam's club\"\" and print it\n",
    "sentence = \"Tom said, \\\"it is Sam's Club\\\"\"\n",
    "print('sentence is {:s}'.format(sentence))\n",
    "sentence = '''Tom said, \"it is Sam's Club\"'''\n",
    "print('sentence is {:s}'.format(sentence))"
   ]
  },
  {
   "cell_type": "markdown",
   "metadata": {},
   "source": [
    "# 2.3 Type Conversion for Integers and Strings\n",
    "Operations cannot be applied to variables of different types. A variable should be converted into the same type as the other variable before an operation can be applied to the two variables.\n",
    "<ul>\n",
    "   <li> Function int() converts a string to an integer\n",
    "   <li> Function str() converts an integer to a string\n",
    "</ul>"
   ]
  },
  {
   "cell_type": "code",
   "execution_count": 70,
   "metadata": {},
   "outputs": [
    {
     "name": "stdout",
     "output_type": "stream",
     "text": [
      "82 + 95 = 177\n",
      "82 + 95 = 8295\n"
     ]
    },
    {
     "ename": "TypeError",
     "evalue": "unsupported operand type(s) for +: 'int' and 'str'",
     "output_type": "error",
     "traceback": [
      "\u001b[0;31m---------------------------------------------------------------------------\u001b[0m",
      "\u001b[0;31mTypeError\u001b[0m                                 Traceback (most recent call last)",
      "\u001b[0;32m<ipython-input-70-f9c667a0f4f2>\u001b[0m in \u001b[0;36m<module>\u001b[0;34m()\u001b[0m\n\u001b[1;32m      3\u001b[0m \u001b[0mprint\u001b[0m\u001b[0;34m(\u001b[0m\u001b[0;34m'{:d} + {:d} = {:d}'\u001b[0m\u001b[0;34m.\u001b[0m\u001b[0mformat\u001b[0m\u001b[0;34m(\u001b[0m\u001b[0mscore\u001b[0m\u001b[0;34m,\u001b[0m \u001b[0mint\u001b[0m\u001b[0;34m(\u001b[0m\u001b[0mgrade\u001b[0m\u001b[0;34m)\u001b[0m\u001b[0;34m,\u001b[0m \u001b[0mscore\u001b[0m \u001b[0;34m+\u001b[0m \u001b[0mint\u001b[0m\u001b[0;34m(\u001b[0m\u001b[0mgrade\u001b[0m\u001b[0;34m)\u001b[0m\u001b[0;34m)\u001b[0m\u001b[0;34m)\u001b[0m\u001b[0;34m\u001b[0m\u001b[0m\n\u001b[1;32m      4\u001b[0m \u001b[0mprint\u001b[0m\u001b[0;34m(\u001b[0m\u001b[0;34m'{:s} + {:s} = {:s}'\u001b[0m\u001b[0;34m.\u001b[0m\u001b[0mformat\u001b[0m\u001b[0;34m(\u001b[0m\u001b[0mstr\u001b[0m\u001b[0;34m(\u001b[0m\u001b[0mscore\u001b[0m\u001b[0;34m)\u001b[0m\u001b[0;34m,\u001b[0m \u001b[0mgrade\u001b[0m\u001b[0;34m,\u001b[0m \u001b[0mstr\u001b[0m\u001b[0;34m(\u001b[0m\u001b[0mscore\u001b[0m\u001b[0;34m)\u001b[0m \u001b[0;34m+\u001b[0m \u001b[0mgrade\u001b[0m\u001b[0;34m)\u001b[0m\u001b[0;34m)\u001b[0m\u001b[0;34m\u001b[0m\u001b[0m\n\u001b[0;32m----> 5\u001b[0;31m \u001b[0mprint\u001b[0m\u001b[0;34m(\u001b[0m\u001b[0mscore\u001b[0m \u001b[0;34m+\u001b[0m \u001b[0mgrade\u001b[0m\u001b[0;34m)\u001b[0m\u001b[0;34m\u001b[0m\u001b[0m\n\u001b[0m\u001b[1;32m      6\u001b[0m \u001b[0;31m# Tasks to do\u001b[0m\u001b[0;34m\u001b[0m\u001b[0;34m\u001b[0m\u001b[0m\n\u001b[1;32m      7\u001b[0m \u001b[0;31m# (1) Execute the statements above. What error do you receive? Why\u001b[0m\u001b[0;34m\u001b[0m\u001b[0;34m\u001b[0m\u001b[0m\n",
      "\u001b[0;31mTypeError\u001b[0m: unsupported operand type(s) for +: 'int' and 'str'"
     ]
    }
   ],
   "source": [
    "score = 82\n",
    "grade = '95'\n",
    "print('{:d} + {:d} = {:d}'.format(score, int(grade), score + int(grade)))\n",
    "print('{:s} + {:s} = {:s}'.format(str(score), grade, str(score) + grade))\n",
    "print(score + grade)\n",
    "# Tasks to do\n",
    "# (1) Execute the statements above. What error do you receive? Why\n",
    "# (2) Why do print(score + int(grade)) and print(str(score) + grade) have different outputs"
   ]
  },
  {
   "cell_type": "markdown",
   "metadata": {},
   "source": [
    "# 2.4 List\n",
    "A list contains zero or more elements between square brackets '[' and ']'\n",
    "<ul>\n",
    "    <li> Two adjacent elements are separated by a comma ',' in a list\n",
    "    <li> Elements can be of mixed types\n",
    "</ul>"
   ]
  },
  {
   "cell_type": "code",
   "execution_count": 74,
   "metadata": {},
   "outputs": [
    {
     "name": "stdout",
     "output_type": "stream",
     "text": [
      "department =  ['Biology', 'Civil Engineering', 'Math']\n",
      "After changing the first element of department\n",
      "department = ['English', 'Civil Engineering', 'Math']\n",
      "Biology in department: False\n",
      "Now concatenate department with another list\n",
      "department = ['English', 'Civil Engineering', 'Math', 'Geoscience', 'Finance']\n"
     ]
    }
   ],
   "source": [
    "department = ['Biology', 'Civil Engineering', 'Math']    # define a list of three elements\n",
    "print('department = ', department)\n",
    "print('After changing the first element of department')\n",
    "department[0] = 'English'                                # modify the first element (with index 0)\n",
    "print('department = {:s}'.format(str(department)))\n",
    "print('Biology in department:', 'Biology' in department) # operator 'in' checks an element is in the list or not\n",
    "print(\"Now concatenate department with another list\")\n",
    "department = department + ['Geoscience', 'Finance']      # operator '+' concatenate two lists\n",
    "print('department =', department)\n",
    "# Tasks to do\n",
    "# Execute the statements above\n",
    "# Note the operator '+' is no longer addtion when it is applied to lists"
   ]
  },
  {
   "cell_type": "markdown",
   "metadata": {},
   "source": [
    "# 2.5 Comparison Operator ==\n",
    "The comparison operator '==' compares whether two variables have the same value (not reference) or not"
   ]
  },
  {
   "cell_type": "code",
   "execution_count": 79,
   "metadata": {},
   "outputs": [
    {
     "name": "stdout",
     "output_type": "stream",
     "text": [
      "id(a) = 139768370875952, id(b) = 139768370875824\n",
      "257 == 257 is True\n",
      "257 / 80 == 257 is False\n"
     ]
    }
   ],
   "source": [
    "a = 257\n",
    "b = 257\n",
    "print('id(a) = {:d}, id(b) = {:d}'.format(id(a), id(b)))\n",
    "print('{:d} == {:d} is {:s}'.format(a, b, str(a == b)))     # display the value of 'a == b' which is a boolean value: True or False\n",
    "print('{:d} / 80 == {:d} is {:s}'.format(a, b, str(a/80 == b)))  # the division '/' operator has higher priority than the comparison '==' operator"
   ]
  },
  {
   "cell_type": "markdown",
   "metadata": {},
   "source": [
    "# 2.6 Exercise"
   ]
  },
  {
   "cell_type": "code",
   "execution_count": 85,
   "metadata": {},
   "outputs": [
    {
     "name": "stdout",
     "output_type": "stream",
     "text": [
      "257 == 257 is False\n",
      "257 + 257 = 514\n",
      "new mixed_list is [257, '257', 100]\n"
     ]
    }
   ],
   "source": [
    "# exercise\n",
    "\n",
    "# task (1)\n",
    "# define a list with two elements: \n",
    "# the first one is an integer 257, \n",
    "# the second one is a string of value '257'\n",
    "mixed_list = [257, '257']\n",
    "# task (2)\n",
    "# print the result of comparing the two elements in the list defined in task (1)\n",
    "print('{:d} == {:s} is {:s}'.format(mixed_list[0], mixed_list[1], str(mixed_list[0] == mixed_list[1])))\n",
    "# task (3)\n",
    "# print the sume of the two elements in the list as integers\n",
    "print('{:d} + {:d} = {:d}'.format(mixed_list[0], int(mixed_list[1]), mixed_list[0] + int(mixed_list[1])))\n",
    "# task (4)\n",
    "# append an integer 100 to the list\n",
    "mixed_list = mixed_list + [100]\n",
    "print('new mixed_list is {:s}'.format(str(mixed_list)))"
   ]
  },
  {
   "cell_type": "markdown",
   "metadata": {},
   "source": [
    "# 3 Flow Control: \n",
    "\n",
    "Flow control statments allow a program to work differently depending on data and repeat execution of statements. We will study if/else, while, and for statments for flow control.\n",
    "\n",
    "# 3.1 If Else\n",
    "Statements can be bounded to 'if' and 'else'. A condition statement is checked by 'if' to decide which statements to be exeucted.\n",
    "<ul>\n",
    "    <li> When the 'if' condition statement has a True value\n",
    "         <ul>\n",
    "              <li> the statements bounded to 'if' are executed.\n",
    "              <li> the statements bounded to 'else' are NOT executed.\n",
    "         </ul>\n",
    "    <li> When the 'if' condition statement has a False value\n",
    "         <ul>\n",
    "              <li> the statements bounded to 'if' are NOT executed.\n",
    "              <li> the statements bounded to 'else' are executed.\n",
    "         </ul>\n",
    "</ul>\n",
    "Indention is used in Python to bound statements to groups. All statemetns bounded to if/else should have the same indention."
   ]
  },
  {
   "cell_type": "code",
   "execution_count": 88,
   "metadata": {},
   "outputs": [
    {
     "name": "stdout",
     "output_type": "stream",
     "text": [
      "------execution of if/else statements when the if condition is True-----\n",
      "x is zero\n",
      "------execution of if/else statements when the if condition is False-----\n",
      "x is NOT zero\n"
     ]
    }
   ],
   "source": [
    "print(\"------execution of if/else statements when the if condition is True-----\")\n",
    "x = 0\n",
    "if x == 0:                # do not forgot the colon ':'\n",
    "    print(\"x is zero\")\n",
    "else:                     # do not forgot the colon ':'\n",
    "    print(\"x is NOT zero\")\n",
    "print(\"------execution of if/else statements when the if condition is False-----\")\n",
    "x = 1\n",
    "if x == 0:\n",
    "    print(\"x is zero\")\n",
    "else:\n",
    "    print(\"x is NOT zero\")\n",
    "# Tasks to do\n",
    "# (1) Execute the statements here\n",
    "#     What is the if condition statement?\n",
    "#     What is the value of the if condition statement above during the execution (line 2 and 8)?\n",
    "#     Is the statement print(\"x is zero\") bounded to if or else?\n",
    "#     Is the statement print(\"-----compared....\") bounded to if or else?"
   ]
  },
  {
   "cell_type": "code",
   "execution_count": 91,
   "metadata": {},
   "outputs": [
    {
     "name": "stdout",
     "output_type": "stream",
     "text": [
      "------execution of if/else statements when the if condition is True-----\n",
      "x is NOT zero\n",
      "5 / 2 = 2.500000\n",
      "------execution of if/else statements when the if condition is False-----\n",
      "x is zero\n",
      "x cannot be a divisor\n"
     ]
    }
   ],
   "source": [
    "print(\"------execution of if/else statements when the if condition is True-----\")\n",
    "\n",
    "x = 2\n",
    "if x == 0:\n",
    "    print(\"x is zero\")\n",
    "    print(\"x cannot be a divisor\")\n",
    "else:\n",
    "    print(\"x is NOT zero\")\n",
    "    print(\"5 / {:d} = {:f}\".format(x, 5 /2))\n",
    "print(\"------execution of if/else statements when the if condition is False-----\")\n",
    "x = 0\n",
    "if x == 0:\n",
    "    print(\"x is zero\")\n",
    "    print(\"x cannot be a divisor\")\n",
    "else:\n",
    "    print(\"x is NOT zero\")\n",
    "    print(\"5 / {:d} = {:f}\".format(x, 5 /2))\n",
    "# Tasks to do\n",
    "# (1) Execute the staemetns above\n",
    "#     Which statements are bounded to the if in line 2?\n",
    "# (2) Delete one space in line 4 and then execute the statements again\n",
    "#     What error do you recieve? Why?\n"
   ]
  },
  {
   "cell_type": "markdown",
   "metadata": {},
   "source": [
    "# 3.2 User Input\n",
    "Function input(message) displays the message on screen, and then waits for user to enter an input. Once user enters an input, input(message) stores that input as a string. A user ends an input by pressing the 'Enter' key.\n"
   ]
  },
  {
   "cell_type": "code",
   "execution_count": 97,
   "metadata": {},
   "outputs": [
    {
     "name": "stdout",
     "output_type": "stream",
     "text": [
      "Please enter one integer:435\n",
      "The integer entered by user is 435\n",
      "2*x =  435435\n"
     ]
    }
   ],
   "source": [
    "x = input(\"Please enter one integer:\")\n",
    "print('The integer entered by user is {:s}'.format(x))\n",
    "print('2*x = ', 2*x)\n",
    "# Tasks to do\n",
    "# (1) Execute the statements above."
   ]
  },
  {
   "cell_type": "markdown",
   "metadata": {},
   "source": [
    "The output of the program above is not what we expect. Why? It was because the variable x is a string and then '2*x' concatenates the string x twice. Recall that data types of variables are important! How to get a value which is the double of the integer entered by the user?\n",
    "\n",
    "# 3.3 Exericse"
   ]
  },
  {
   "cell_type": "code",
   "execution_count": null,
   "metadata": {
    "collapsed": true
   },
   "outputs": [],
   "source": [
    "# exercise\n",
    "\n",
    "# Write a program to accept two integers from a user, \n",
    "# and then display 'Maximum = x' and 'Minimum = y'\n",
    "# where x is the maximum value of the two integers entered by the user\n",
    "# and y is the miminum value of the two integers entered by the user\n",
    "# For example, if a user enters 9  and 11\n",
    "# then your program should displays \n",
    "#      Maximum = 11\n",
    "#      Minimum = 9"
   ]
  },
  {
   "cell_type": "code",
   "execution_count": 102,
   "metadata": {},
   "outputs": [
    {
     "name": "stdout",
     "output_type": "stream",
     "text": [
      "Pleas enter an integer: 23\n",
      "Pleas enter a second integer: 45\n",
      "Maximum = 45\n",
      "Minimum = 23\n",
      "-----Compare the effects of elif-----\n",
      "Maximum = 45\n",
      "Minimum = 23\n"
     ]
    }
   ],
   "source": [
    "# This is the solution of the task above\n",
    "\n",
    "x = int(input(\"Pleas enter an integer: \"))\n",
    "y = int(input(\"Pleas enter a second integer: \"))\n",
    "\n",
    "if x > y:\n",
    "    print('Maximum = {:d}'.format(x))\n",
    "    print('Minimum = {:d}'.format(y))\n",
    "else:\n",
    "    print('Maximum = {:d}'.format(y))\n",
    "    print('Minimum = {:d}'.format(x))\n",
    "print('-----Compare the effects of elif-----')\n",
    "if x > y:\n",
    "    print('Maximum = {:d}'.format(x))\n",
    "    print('Minimum = {:d}'.format(y))\n",
    "elif x < y:\n",
    "    print('Maximum = {:d}'.format(y))\n",
    "    print('Minimum = {:d}'.format(x))\n",
    "else:\n",
    "    print('Both numbers are equal to {:d}'.format(x))\n",
    "    \n",
    "# Tasks to do\n",
    "# Exeucte the statements above with three different pair of inputs\n",
    "# (a) 9 and 11, (b) 11 and 9, and (c) 11 and 11\n",
    "# What are the effects of elif and the condition fo elif?"
   ]
  },
  {
   "cell_type": "markdown",
   "metadata": {},
   "source": [
    "# 3.4 While\n",
    "Statements bounded to 'while' are executed when the while condition is True"
   ]
  },
  {
   "cell_type": "code",
   "execution_count": 41,
   "metadata": {},
   "outputs": [
    {
     "name": "stdout",
     "output_type": "stream",
     "text": [
      "0 0\n",
      "x = 1\n",
      "1 1\n",
      "x = 2\n",
      "2 4\n",
      "x = 3\n",
      "3 9\n",
      "x = 4\n"
     ]
    }
   ],
   "source": [
    "x = 0\n",
    "while x < 4:\n",
    "    print(x, x * x)\n",
    "    x = x + 1\n",
    "    print('x =', x)\n",
    "    \n",
    "# Tasks to do\n",
    "# (1) Execute the statemetns above\n",
    "#     understand the execution of the while loop as the following:\n",
    "#       iteration 1: while condition 'x < 4' is True since x = 0, \n",
    "#                    so the 'print(x, x * x)' and 'x = x+1' statements are executed: x becomes 1\n",
    "#       iteration 2 while condition 'x < 4' is True since x = 1 \n",
    "#                    so the 'print(x, x * x)' and 'x = x+1' statements are executed: x becomes 2\n",
    "#       iteration 3 while condition 'x < 4' is True since x = 2 \n",
    "#                    so the 'print(x, x * x)' and 'x = x+1' statements are executed: x becomes 3\n",
    "#       iteration 4 while condition 'x < 4' is True since x = 3 \n",
    "#                    so the 'print(x, x * x)' and 'x = x+1' statements are executed: x becomes 4\n",
    "#       iteration 5 while condition 'x < 4' is False since x = 4 \n",
    "#                    so the 'print(x, x * x)' and 'x = x+1' statements are NOT executed and the while loop is terminated.\n",
    "# (2) Comment out the line 'x = x + 1', then execute the statements above again. What happens? Why?\n",
    "#     Click 'Kernel' and then 'Interrupt' in the top menu bar to stop the execution of this bad program"
   ]
  },
  {
   "cell_type": "markdown",
   "metadata": {},
   "source": [
    "Run the program below. What does the program do?"
   ]
  },
  {
   "cell_type": "code",
   "execution_count": 48,
   "metadata": {},
   "outputs": [
    {
     "name": "stdout",
     "output_type": "stream",
     "text": [
      "Enter a password:secret\n"
     ]
    }
   ],
   "source": [
    "correct_password = 'secret'\n",
    "password = input(\"Enter a password:\")\n",
    "while password != correct_password:\n",
    "    password = input(\"Enter a password\")\n"
   ]
  },
  {
   "cell_type": "markdown",
   "metadata": {},
   "source": [
    "# 3.5 Break\n",
    "The statement 'break' in a while/for loop terminates the loop when it is executed."
   ]
  },
  {
   "cell_type": "code",
   "execution_count": 99,
   "metadata": {},
   "outputs": [
    {
     "name": "stdout",
     "output_type": "stream",
     "text": [
      "x = [0, 1, 2, 3, 4, 0, 1, 2, 3, 4]\n",
      "len(x) = 10\n",
      "x[4] is equal to 4\n"
     ]
    }
   ],
   "source": [
    "x = list(range(5)) *  2\n",
    "print('x =', x)\n",
    "y = 4\n",
    "i = 0\n",
    "print('len(x) =', len(x))\n",
    "while i < len(x):\n",
    "    if x[i] == y:\n",
    "        print('x[{:d}] is equal to {:d}'.format(i,y))\n",
    "        break   # terminates the while loop when this statement is executed\n",
    "    i = i + 1\n",
    "    \n",
    "# Tasks to do\n",
    "# (1) Execute the statements above\n",
    "# (2) Comment out the statement 'break', then execute the statements above again.\n",
    "#     What happens? Why?"
   ]
  },
  {
   "cell_type": "markdown",
   "metadata": {},
   "source": [
    "# 3.6 Exercise"
   ]
  },
  {
   "cell_type": "code",
   "execution_count": null,
   "metadata": {
    "collapsed": true
   },
   "outputs": [],
   "source": [
    "correct_password = 'secret'\n",
    "max_num_trials = 3\n",
    "# Tasks to do\n",
    "# Write a while loop to ask a user to enter a password \n",
    "# until the password from the user is equal to correct_password or \n",
    "# the user has entered tried max_num_trials passwords. "
   ]
  },
  {
   "cell_type": "code",
   "execution_count": null,
   "metadata": {
    "collapsed": true
   },
   "outputs": [],
   "source": [
    "# This is a solution to the task above\n",
    "correct_password = 'secret'\n",
    "max_num_trials = 3\n",
    "num_trials = 0\n",
    "while num_trials < max_num_trials:\n",
    "    password = input(\"Enter your password: \")\n",
    "    if password == correct_password:\n",
    "        break\n",
    "    num_trials = num_trials + 1"
   ]
  },
  {
   "cell_type": "markdown",
   "metadata": {},
   "source": [
    "# 3.7 For\n",
    "The statements bounded to the 'for' loop are exeucted for each element of a sequence (e.ge., a list) in order"
   ]
  },
  {
   "cell_type": "code",
   "execution_count": 111,
   "metadata": {},
   "outputs": [
    {
     "name": "stdout",
     "output_type": "stream",
     "text": [
      "list(range(5)) is [0, 1, 2, 3, 4]\n",
      "list x is [0, 1, 2, 3, 4, 0, 1, 2, 3, 4]\n",
      "x[3] is equal to 3\n",
      "-----advanced topic: enumerate() is useful when both index and value are needed-----\n",
      "x[3] is equal to 3\n"
     ]
    }
   ],
   "source": [
    "print('list(range(5)) is {}'.format(list(range(5))))\n",
    "x = list(range(5)) * 2\n",
    "print('list x is {}'.format(x))\n",
    "y = 3\n",
    "for i in range(len(x)):\n",
    "    if x[i] == y:\n",
    "        print(\"x[{:d}] is equal to {:d}\".format(i, y))\n",
    "        break   # terminates the for loop when this statement is executed\n",
    "print('-----advanced topic: enumerate() is useful when both index and value are needed-----')\n",
    "for i, n in enumerate(x):\n",
    "    if n == y:\n",
    "        print(\"x[{:d}] is equal to {:d}\".format(i, y))\n",
    "        break   # terminates the for loop when this statement is executed\n",
    "#Tasks to do\n",
    "# Execute the statements above"
   ]
  },
  {
   "cell_type": "markdown",
   "metadata": {},
   "source": [
    "# 4 Functions\n",
    "\n",
    "Functions help program to organize statements better. A function can be called whenever needed.\n",
    "\n",
    "# 4 .1 Built-in Functions\n",
    "Python provides a number of built-in functions: https://docs.python.org/3/library/functions.html"
   ]
  },
  {
   "cell_type": "code",
   "execution_count": 51,
   "metadata": {},
   "outputs": [
    {
     "name": "stdout",
     "output_type": "stream",
     "text": [
      "sorted[1, -2, 3, -4] is [-4, -2, 1, 3]\n",
      "abs(-5.5) = 5.5\n",
      "int(-5.5) = -5\n",
      "sum([1, -2, 3, -4] is -2\n"
     ]
    }
   ],
   "source": [
    "print('sorted[1, -2, 3, -4] is', sorted([1, -2, 3, -4]))\n",
    "print('abs(-5.5) =', abs(-5.5))\n",
    "print('int(-5.5) =', int(-5.5))\n",
    "print('sum([1, -2, 3, -4] is', sum([1, -2, 3, -4]))\n",
    "# Tasks to do\n",
    "# Execute the statemetns above to see what those built-in functions do"
   ]
  },
  {
   "cell_type": "markdown",
   "metadata": {},
   "source": [
    "# 4.2 User Defined Functions\n",
    "A user/programmer may define a fuction other than just using built-in functions."
   ]
  },
  {
   "cell_type": "code",
   "execution_count": 52,
   "metadata": {},
   "outputs": [
    {
     "name": "stdout",
     "output_type": "stream",
     "text": [
      "5! = 24\n",
      "10! = 362880\n"
     ]
    }
   ],
   "source": [
    "def factorial(n):    # 'def function_name(one or more parameters)' defines a user defined function function_name.\n",
    "                     # In this example the function_name is factorial)\n",
    "    product = 1\n",
    "    for i in range(1, n):\n",
    "        product = product * i\n",
    "    return product   # a function may return a value, list, etc.\n",
    "\n",
    "print(\"5! =\", factorial(5))  # function_name(one or more parameters) calls the user defined function function_name\n",
    "print(\"10! =\", factorial(10))"
   ]
  },
  {
   "cell_type": "markdown",
   "metadata": {},
   "source": [
    "# 4.3 Exercise"
   ]
  },
  {
   "cell_type": "code",
   "execution_count": null,
   "metadata": {
    "collapsed": true
   },
   "outputs": [],
   "source": [
    "# Tasks to do\n",
    "# Write a function search(a, x)\n",
    "# which searches the intger x in the list a, \n",
    "# returns the first index x[i] = a if such an x[i] exists\n",
    "#         or -1 if x is not in list a.\n",
    "##### Your function goes here #####\n",
    "\n",
    "\n",
    "###################################\n",
    "\n",
    "a = [1, 9, 5, 8]\n",
    "x = int(input('Enter an integer:'))\n",
    "r = search(a, x)\n",
    "if r < 0:\n",
    "    print(x, 'is not in list', a)\n",
    "else:\n",
    "    print('The index of', x, 'is', r, 'in list', a)"
   ]
  },
  {
   "cell_type": "code",
   "execution_count": null,
   "metadata": {
    "collapsed": true
   },
   "outputs": [],
   "source": [
    "# This is the solution of the task above\n",
    "def search(a, x):\n",
    "    for i in range(len(a)):\n",
    "        if a[i] == x:\n",
    "            return i\n",
    "    return -1\n",
    "\n",
    "a = [1, 9, 5, 8]\n",
    "x = int(input('Enter an integer:'))\n",
    "r = search(a, x)\n",
    "if r < 0:\n",
    "    print(x, 'is not in list', a)\n",
    "else:\n",
    "    print('The index of', x, 'is', r, 'in list', a)"
   ]
  },
  {
   "cell_type": "markdown",
   "metadata": {},
   "source": [
    "# 5 Scirpts and Modules\n",
    "\n",
    "\n",
    "# 5.1 Import a Module\n",
    "A module is a python script, and can be imported to a python pogram so that the python program can access functions/data in that module."
   ]
  },
  {
   "cell_type": "code",
   "execution_count": 113,
   "metadata": {},
   "outputs": [
    {
     "ename": "NameError",
     "evalue": "name 'random' is not defined",
     "output_type": "error",
     "traceback": [
      "\u001b[0;31m---------------------------------------------------------------------------\u001b[0m",
      "\u001b[0;31mNameError\u001b[0m                                 Traceback (most recent call last)",
      "\u001b[0;32m<ipython-input-113-39fa0a90f7cb>\u001b[0m in \u001b[0;36m<module>\u001b[0;34m()\u001b[0m\n\u001b[1;32m      2\u001b[0m \u001b[0;34m\u001b[0m\u001b[0m\n\u001b[1;32m      3\u001b[0m \u001b[0;32mfor\u001b[0m \u001b[0mi\u001b[0m \u001b[0;32min\u001b[0m \u001b[0mrange\u001b[0m\u001b[0;34m(\u001b[0m\u001b[0;36m10\u001b[0m\u001b[0;34m)\u001b[0m\u001b[0;34m:\u001b[0m\u001b[0;34m\u001b[0m\u001b[0m\n\u001b[0;32m----> 4\u001b[0;31m     \u001b[0mprint\u001b[0m\u001b[0;34m(\u001b[0m\u001b[0;34m\"random number\"\u001b[0m\u001b[0;34m,\u001b[0m \u001b[0mrandom\u001b[0m\u001b[0;34m.\u001b[0m\u001b[0mrandint\u001b[0m\u001b[0;34m(\u001b[0m\u001b[0;36m1\u001b[0m\u001b[0;34m,\u001b[0m\u001b[0;36m5\u001b[0m\u001b[0;34m)\u001b[0m\u001b[0;34m)\u001b[0m  \u001b[0;31m# generate a random number between 1 and 5 (1 and 5 are included)\u001b[0m\u001b[0;34m\u001b[0m\u001b[0m\n\u001b[0m\u001b[1;32m      5\u001b[0m \u001b[0;31m# Tasks to do\u001b[0m\u001b[0;34m\u001b[0m\u001b[0;34m\u001b[0m\u001b[0m\n\u001b[1;32m      6\u001b[0m \u001b[0;31m# (1) Execute the statements above. What happens? Why?\u001b[0m\u001b[0;34m\u001b[0m\u001b[0;34m\u001b[0m\u001b[0m\n",
      "\u001b[0;31mNameError\u001b[0m: name 'random' is not defined"
     ]
    }
   ],
   "source": [
    "#import random  # import the random module so that this program can access functions/data in the random module\n",
    "\n",
    "for i in range(10):\n",
    "    print(\"random number\", random.randint(1,5))  # generate a random number between 1 and 5 (1 and 5 are included)\n",
    "# Tasks to do\n",
    "# (1) Execute the statements above. What happens? Why?\n",
    "# (2) Uncomment out the first line, then execute the statements again. What happens? Why?"
   ]
  },
  {
   "cell_type": "code",
   "execution_count": null,
   "metadata": {
    "collapsed": true
   },
   "outputs": [],
   "source": [
    "# Tasks to do\n",
    "# Write a program to generate a random number number_to_guess between 1 and 10\n",
    "# then asks a user to guess and integer between 1 and 10 until the number guessed\n",
    "# by the user equal to number_to_guess correctly.\n",
    "# An example of running the program:\n",
    "#    Guess an integer from 1 to 10: 5\n",
    "#    Your guess is too low\n",
    "#    Guess an integer from 1 to 10: 8\n",
    "#    Your guess is too high\n",
    "#    Guess an integer from 1 to 10: 7\n",
    "#    Your guess is too high\n",
    "#    Guess an integer from 1 to 10: 6\n",
    "#    You guessed it."
   ]
  },
  {
   "cell_type": "code",
   "execution_count": null,
   "metadata": {
    "collapsed": true
   },
   "outputs": [],
   "source": [
    "# This is the solution to the task above\n",
    "\n",
    "import random\n",
    "\n",
    "#function to display a message to users\n",
    "def display_message(status):\n",
    "    if status == 'right':\n",
    "        print(\"You guessed it.\")\n",
    "    else:\n",
    "        print(\"Your guess is too {:s}\".format(status))\n",
    "        \n",
    "# generate a random number from 1 to 10\n",
    "number_to_guess = random.randint(1, 10)\n",
    "\n",
    "# keep on guessing until the number is guessed\n",
    "while True:\n",
    "    guess = int(input(\"Guess an integer from 1 to 100: \"))\n",
    "    if guess < number_to_guess:\n",
    "        display_message(\"low\")\n",
    "    elif guess > number_to_guess:\n",
    "        display_message(\"high\")\n",
    "    else:\n",
    "        display_message(\"right\")\n",
    "        break"
   ]
  },
  {
   "cell_type": "markdown",
   "metadata": {},
   "source": [
    "\n",
    "# 5.2 Scripts\n",
    "A python script is a file in which there are python statements.\n",
    "\n",
    "Comments: demonstrate in a shell how to run a python script for the number guessing game."
   ]
  },
  {
   "cell_type": "markdown",
   "metadata": {},
   "source": [
    "# 6 File Input and Ouput\n",
    "A python program and read from a file and/or write to a file. Do not forget to close the files your program opens. Too many open files will deplete your computer resource"
   ]
  },
  {
   "cell_type": "code",
   "execution_count": 112,
   "metadata": {},
   "outputs": [
    {
     "ename": "FileNotFoundError",
     "evalue": "[Errno 2] No such file or directory: 'integers.txt'",
     "output_type": "error",
     "traceback": [
      "\u001b[0;31m---------------------------------------------------------------------------\u001b[0m",
      "\u001b[0;31mFileNotFoundError\u001b[0m                         Traceback (most recent call last)",
      "\u001b[0;32m<ipython-input-112-b77c2880dcc0>\u001b[0m in \u001b[0;36m<module>\u001b[0;34m()\u001b[0m\n\u001b[0;32m----> 1\u001b[0;31m \u001b[0minput_file\u001b[0m \u001b[0;34m=\u001b[0m \u001b[0mopen\u001b[0m\u001b[0;34m(\u001b[0m\u001b[0;34m'integers.txt'\u001b[0m\u001b[0;34m,\u001b[0m \u001b[0;34m'r'\u001b[0m\u001b[0;34m)\u001b[0m     \u001b[0;31m# open file 'integers.txxt' to read ('r') only\u001b[0m\u001b[0;34m\u001b[0m\u001b[0m\n\u001b[0m\u001b[1;32m      2\u001b[0m \u001b[0moutput_file\u001b[0m \u001b[0;34m=\u001b[0m \u001b[0mopen\u001b[0m\u001b[0;34m(\u001b[0m\u001b[0;34m'integer_sum.txt'\u001b[0m\u001b[0;34m,\u001b[0m \u001b[0;34m'w'\u001b[0m\u001b[0;34m)\u001b[0m \u001b[0;31m# open file 'integer_sum.txt' to write ('w') only\u001b[0m\u001b[0;34m\u001b[0m\u001b[0m\n\u001b[1;32m      3\u001b[0m \u001b[0mtotal\u001b[0m \u001b[0;34m=\u001b[0m \u001b[0;36m0\u001b[0m\u001b[0;34m\u001b[0m\u001b[0m\n\u001b[1;32m      4\u001b[0m \u001b[0;32mfor\u001b[0m \u001b[0mline\u001b[0m \u001b[0;32min\u001b[0m \u001b[0minput_file\u001b[0m\u001b[0;34m:\u001b[0m                    \u001b[0;31m# read a line from input_file\u001b[0m\u001b[0;34m\u001b[0m\u001b[0m\n\u001b[1;32m      5\u001b[0m     \u001b[0mtotal\u001b[0m \u001b[0;34m=\u001b[0m \u001b[0mtotal\u001b[0m \u001b[0;34m+\u001b[0m \u001b[0mint\u001b[0m\u001b[0;34m(\u001b[0m\u001b[0mline\u001b[0m\u001b[0;34m)\u001b[0m              \u001b[0;31m# add the integer from line to the total sum\u001b[0m\u001b[0;34m\u001b[0m\u001b[0m\n",
      "\u001b[0;31mFileNotFoundError\u001b[0m: [Errno 2] No such file or directory: 'integers.txt'"
     ]
    }
   ],
   "source": [
    "input_file = open('integers.txt', 'r')     # open file 'integers.txxt' to read ('r') only\n",
    "output_file = open('integer_sum.txt', 'w') # open file 'integer_sum.txt' to write ('w') only\n",
    "total = 0\n",
    "for line in input_file:                    # read a line from input_file\n",
    "    total = total + int(line)              # add the integer from line to the total sum\n",
    "print(\"the sum of the integers from the input file is {:d}\".format(total))\n",
    "output_file.write(str(total) + \"\\n\")       # write the total sum to the output file\n",
    "output_file.close()                        # close the output file\n",
    "input_file.close()                         # close the input file\n",
    "# Tasks to do\n",
    "# (1) Execute the program above. What happens? Why?\n",
    "# (2) Create a file 'integers.txt', and put some integers in that file. You should put one integer per line.\n",
    "#     Execute the program again. What happens now?"
   ]
  },
  {
   "cell_type": "markdown",
   "metadata": {},
   "source": [
    "A file opened in a 'with' statement is automatically closed when the 'with' statement is finished."
   ]
  },
  {
   "cell_type": "code",
   "execution_count": null,
   "metadata": {
    "collapsed": true
   },
   "outputs": [],
   "source": [
    "total = 0\n",
    "with open('integer_sum.txt', 'w') as output_file:   \n",
    "    with open('integers.txt', 'r') as input_file:\n",
    "        for line in input_file:\n",
    "            total = total + int(line)\n",
    "    output_file.write(str(total) + '\\n')"
   ]
  },
  {
   "cell_type": "markdown",
   "metadata": {},
   "source": [
    "# 7 Errors and Exceptions\n",
    "\n",
    "We have seen errors which are either syntax errors (e.g., invalid variable names) or exceptions (caused during program execution). The following program shows an exception for non-existing file."
   ]
  },
  {
   "cell_type": "code",
   "execution_count": 118,
   "metadata": {},
   "outputs": [
    {
     "ename": "FileNotFoundError",
     "evalue": "[Errno 2] No such file or directory: 'non_existing.txt'",
     "output_type": "error",
     "traceback": [
      "\u001b[0;31m---------------------------------------------------------------------------\u001b[0m",
      "\u001b[0;31mFileNotFoundError\u001b[0m                         Traceback (most recent call last)",
      "\u001b[0;32m<ipython-input-118-b0157575eeb4>\u001b[0m in \u001b[0;36m<module>\u001b[0;34m()\u001b[0m\n\u001b[0;32m----> 1\u001b[0;31m \u001b[0;32mwith\u001b[0m \u001b[0mopen\u001b[0m\u001b[0;34m(\u001b[0m\u001b[0;34m'non_existing.txt'\u001b[0m\u001b[0;34m)\u001b[0m \u001b[0;32mas\u001b[0m \u001b[0minput_file\u001b[0m\u001b[0;34m:\u001b[0m\u001b[0;34m\u001b[0m\u001b[0m\n\u001b[0m\u001b[1;32m      2\u001b[0m     \u001b[0;32mfor\u001b[0m \u001b[0mline\u001b[0m \u001b[0;32min\u001b[0m \u001b[0minput_file\u001b[0m\u001b[0;34m:\u001b[0m\u001b[0;34m\u001b[0m\u001b[0m\n\u001b[1;32m      3\u001b[0m         \u001b[0mprint\u001b[0m\u001b[0;34m(\u001b[0m\u001b[0mline\u001b[0m\u001b[0;34m)\u001b[0m\u001b[0;34m\u001b[0m\u001b[0m\n\u001b[1;32m      4\u001b[0m \u001b[0mprint\u001b[0m\u001b[0;34m(\u001b[0m\u001b[0;34m\"file is processeed\"\u001b[0m\u001b[0;34m)\u001b[0m\u001b[0;34m\u001b[0m\u001b[0m\n",
      "\u001b[0;31mFileNotFoundError\u001b[0m: [Errno 2] No such file or directory: 'non_existing.txt'"
     ]
    }
   ],
   "source": [
    "with open('non_existing.txt') as input_file:\n",
    "    for line in input_file:\n",
    "        print(line)\n",
    "print(\"file is processeed\")"
   ]
  },
  {
   "cell_type": "markdown",
   "metadata": {},
   "source": [
    "The program above terminates and threw the program trace of the exception when the exception occurred. Python programs can use 'try ... except' to handle exceptions more gracefully."
   ]
  },
  {
   "cell_type": "code",
   "execution_count": 119,
   "metadata": {},
   "outputs": [
    {
     "name": "stdout",
     "output_type": "stream",
     "text": [
      "OS error: [Errno 2] No such file or directory: 'non_existing.txt':\n",
      "file is processeed\n"
     ]
    }
   ],
   "source": [
    "try:\n",
    "    with open('non_existing.txt') as input_file:\n",
    "        for line in input_file:\n",
    "            print(line)\n",
    "except OSError as err:\n",
    "    print(\"OS error: {}:\".format(err))\n",
    "print(\"file is processeed\")"
   ]
  },
  {
   "cell_type": "markdown",
   "metadata": {},
   "source": [
    "The program with 'try ... except' above completes the statements under 'except' to handle the error first, and then continue the execution of the remaining program. Built-in exceptions are listed here: https://docs.python.org/3/library/exceptions.html"
   ]
  },
  {
   "cell_type": "markdown",
   "metadata": {},
   "source": [
    "# 8 Dictionaries\n",
    "\n",
    "A dictionary is a mapping object which maps hashable values (keys) to arbitrary objects (values): key <---- value. Keys must be immutable.\n",
    "\n",
    "- Lists are mutable and thus cannot be keys\n",
    "- Integers (or strings, etc.) are immutable and can be keys.\n",
    "\n",
    "# 8.1 Creation of Dictionaries\n",
    "\n",
    "A dictionary can be created by several methods as illustrated in the examples below."
   ]
  },
  {
   "cell_type": "code",
   "execution_count": 123,
   "metadata": {},
   "outputs": [
    {
     "name": "stdout",
     "output_type": "stream",
     "text": [
      "A dictionary created by key:value pairs: {'Tom': 35, 'May': 28}\n",
      "A dictionary created by dict constuctor with a list of (key, value) pairs: {'Tom': 35, 'May': 28}\n",
      "A dictionary created by dict constructor with key=value paris: {'Tom': 35, 'May': 28}\n",
      "A dictionary created from list comprehesion: {1: 1.0, 2: 3.0, 3: 6.0, 6: 21.0, 8: 36.0}\n"
     ]
    }
   ],
   "source": [
    "d = {'Tom': 35, 'May': 28}\n",
    "print(\"A dictionary created by key:value pairs: {}\".format(d))\n",
    "d = dict([('Tom', 35), ('May', 28)])\n",
    "print(\"A dictionary created by dict constuctor with a list of (key, value) pairs: {}\".format(d))\n",
    "d = dict(Tom = 35, May = 28)\n",
    "print(\"A dictionary created by dict constructor with key=value paris: {}\".format(d))\n",
    "d = {x: (x + x ** 2) /2 for x in (1, 2, 3, 6, 8)}\n",
    "print(\"A dictionary created from list comprehesion: {}\".format(d))"
   ]
  },
  {
   "cell_type": "markdown",
   "metadata": {},
   "source": [
    "# 8.2 Dictionary Functions\n",
    "\n",
    "Here we only list a few functions for list:\n",
    "- d[k]: returns the value for key k if k is in d, and otherwise an error will occur.\n",
    "- k in d: returns True if key k is in d, otherwise False.\n",
    "- d.get(k, default): returns d[k] if key k exists in d, otherwise default.\n",
    "- del d[k]: deletes the element for key k in d.\n",
    "- d.items(): returns a new view (list) of (key, value) pairs in d.\n",
    "- iter(d): returns an iterator over the keys of d."
   ]
  },
  {
   "cell_type": "code",
   "execution_count": 127,
   "metadata": {},
   "outputs": [
    {
     "ename": "KeyError",
     "evalue": "'Bill'",
     "output_type": "error",
     "traceback": [
      "\u001b[0;31m---------------------------------------------------------------------------\u001b[0m",
      "\u001b[0;31mKeyError\u001b[0m                                  Traceback (most recent call last)",
      "\u001b[0;32m<ipython-input-127-8c7b384f3a54>\u001b[0m in \u001b[0;36m<module>\u001b[0;34m()\u001b[0m\n\u001b[1;32m      1\u001b[0m \u001b[0md\u001b[0m \u001b[0;34m=\u001b[0m \u001b[0;34m{\u001b[0m\u001b[0;34m'Tom'\u001b[0m\u001b[0;34m:\u001b[0m \u001b[0;36m35\u001b[0m\u001b[0;34m,\u001b[0m \u001b[0;34m'May'\u001b[0m\u001b[0;34m:\u001b[0m \u001b[0;36m28\u001b[0m\u001b[0;34m}\u001b[0m\u001b[0;34m\u001b[0m\u001b[0m\n\u001b[0;32m----> 2\u001b[0;31m \u001b[0mx\u001b[0m \u001b[0;34m=\u001b[0m \u001b[0;36m10\u001b[0m \u001b[0;34m+\u001b[0m \u001b[0md\u001b[0m\u001b[0;34m[\u001b[0m\u001b[0;34m'Bill'\u001b[0m\u001b[0;34m]\u001b[0m\u001b[0;34m\u001b[0m\u001b[0m\n\u001b[0m\u001b[1;32m      3\u001b[0m \u001b[0mprint\u001b[0m\u001b[0;34m(\u001b[0m\u001b[0;34m\"x = {}\"\u001b[0m\u001b[0;34m.\u001b[0m\u001b[0mformat\u001b[0m\u001b[0;34m(\u001b[0m\u001b[0mx\u001b[0m\u001b[0;34m)\u001b[0m\u001b[0;34m)\u001b[0m\u001b[0;34m\u001b[0m\u001b[0m\n",
      "\u001b[0;31mKeyError\u001b[0m: 'Bill'"
     ]
    }
   ],
   "source": [
    "d = {'Tom': 35, 'May': 28}\n",
    "x = 10 + d['Bill']\n",
    "print(\"x = {}\".format(x))"
   ]
  },
  {
   "cell_type": "markdown",
   "metadata": {},
   "source": [
    "To avoid such error, a program needs check the key k in the dictionary or not before accessing d[k], as shown in the following program."
   ]
  },
  {
   "cell_type": "code",
   "execution_count": 136,
   "metadata": {},
   "outputs": [
    {
     "name": "stdout",
     "output_type": "stream",
     "text": [
      "Error: key 'Bill' is not in dictionary.\n"
     ]
    }
   ],
   "source": [
    "d = {'Tom': 35, 'May': 28}\n",
    "if 'Bill' in d:\n",
    "    x = 10 + d['Bill']\n",
    "    print(\"x = {}\".format(x))\n",
    "else:\n",
    "    print(\"Error: key 'Bill' is not in dictionary.\")"
   ]
  },
  {
   "cell_type": "markdown",
   "metadata": {},
   "source": [
    "A program may handle the exception using 'try ... except' (preferred as EAFP in python: https://docs.python.org/3/glossary.html#term-eafp)"
   ]
  },
  {
   "cell_type": "code",
   "execution_count": 135,
   "metadata": {},
   "outputs": [
    {
     "name": "stdout",
     "output_type": "stream",
     "text": [
      "Error: key 'Bill' is not in dictionary.\n"
     ]
    }
   ],
   "source": [
    "d = {'Tom': 35, 'May': 28}\n",
    "try:\n",
    "    x = 10 + d['Bill']\n",
    "    print(\"x = {}\".format(x))\n",
    "except KeyError as err:\n",
    "    print(\"Error: key {} is not in dictionary.\".format(err))"
   ]
  },
  {
   "cell_type": "markdown",
   "metadata": {},
   "source": [
    "# 8.3 Count Word Frequency\n",
    "\n",
    "We will develop a program to count the frequencies of words in a file here. Let's take a look at the file first. "
   ]
  },
  {
   "cell_type": "code",
   "execution_count": 142,
   "metadata": {},
   "outputs": [
    {
     "name": "stdout",
     "output_type": "stream",
     "text": [
      "The unanimous Declaration of the thirteen united States of America, When in the Course of human events, \n",
      "\n",
      "it becomes necessary for one people to dissolve the political bands which have connected them with another, \n",
      "\n",
      "and to assume among the powers of the earth, the separate and equal station to which the Laws of Nature \n",
      "\n",
      "and of Nature's God entitle them, a decent respect to the opinions of mankind requires that they should \n",
      "\n",
      "declare the causes which impel them to the separation.\n",
      "\n",
      "\n",
      "\n",
      "We hold these truths to be self-evident, that all men are created equal, that they are endowed by their\n",
      "\n",
      " Creator with certain unalienable Rights, that among these are Life, Liberty and the pursuit of \n",
      "\n",
      "Happiness.--That to secure these rights, Governments are instituted among Men, deriving their just powers \n",
      "\n",
      "from the consent of the governed, --That whenever any Form of Government becomes destructive of these \n",
      "\n",
      "ends, it is the Right of the People to alter or to abolish it, and to institute new Government, laying its \n",
      "\n",
      "foundation on such principles and organizing its powers in such form, as to them shall seem most likely to \n",
      "\n",
      "effect their Safety and Happiness. Prudence, indeed, will dictate that Governments long established should \n",
      "\n",
      "not be changed for light and transient causes; and accordingly all experience hath shewn, that mankind are \n",
      "\n",
      "more disposed to suffer, while evils are sufferable, than to right themselves by abolishing the forms to \n",
      "\n",
      "which they are accustomed. But when a long train of abuses and usurpations, pursuing invariably the same \n",
      "\n",
      "Object evinces a design to reduce them under absolute Despotism, it is their right, it is their duty, to \n",
      "\n",
      "throw off such Government, and to provide new Guards for their future security.--Such has been the patient \n",
      "\n",
      "sufferance of these Colonies; and such is now the necessity which constrains them to alter their former \n",
      "\n",
      "Systems of Government. The history of the present King of Great Britain is a history of repeated injuries \n",
      "\n",
      "and usurpations, all having in direct object the establishment of an absolute Tyranny over these States. \n",
      "\n",
      "To prove this, let Facts be submitted to a candid world.\n",
      "\n",
      "\n",
      "\n",
      "He has refused his Assent to Laws, the most wholesome and necessary for the public good.\n",
      "\n",
      "\n",
      "\n",
      "He has forbidden his Governors to pass Laws of immediate and pressing importance, unless suspended in their \n",
      "\n",
      "operation till his Assent should be obtained; and when so suspended, he has utterly neglected to attend to them.\n",
      "\n",
      "\n",
      "\n",
      "He has refused to pass other Laws for the accommodation of large districts of people, unless those people \n",
      "\n",
      "would relinquish the right of Representation in the Legislature, a right inestimable to them and formidable \n",
      "\n",
      "to tyrants only.\n",
      "\n",
      "\n",
      "\n",
      "He has called together legislative bodies at places unusual, uncomfortable, and distant from the depository \n",
      "\n",
      "of their public Records, for the sole purpose of fatiguing them into compliance with his measures.\n",
      "\n",
      "\n",
      "\n",
      "He has dissolved Representative Houses repeatedly, for opposing with manly firmness his invasions on the \n",
      "\n",
      "rights of the people.\n",
      "\n",
      "\n",
      "\n",
      "He has refused for a long time, after such dissolutions, to cause others to be elected; whereby the \n",
      "\n",
      "Legislative powers, incapable of Annihilation, have returned to the People at large for their exercise; \n",
      "\n",
      "the State remaining in the mean time exposed to all the dangers of invasion from without, and convulsions within.\n",
      "\n",
      "\n",
      "\n",
      "He has endeavoured to prevent the population of these States; for that purpose obstructing the Laws for \n",
      "\n",
      "Naturalization of Foreigners; refusing to pass others to encourage their migrations hither, and raising \n",
      "\n",
      "the conditions of new Appropriations of Lands.\n",
      "\n",
      "\n",
      "\n",
      "He has obstructed the Administration of Justice, by refusing his Assent to Laws for establishing Judiciary powers.\n",
      "\n",
      "\n",
      "\n",
      "He has made Judges dependent on his Will alone, for the tenure of their offices, and the amount and payment of their salaries.\n",
      "\n",
      "\n",
      "\n",
      "He has erected a multitude of New Offices, and sent hither swarms of Officers to harrass our people, and eat out their substance.\n",
      "\n",
      "\n",
      "\n",
      "He has kept among us, in times of peace, Standing Armies without the Consent of our legislatures.\n",
      "\n",
      "\n",
      "\n",
      "He has affected to render the Military independent of and superior to the Civil power.\n",
      "\n",
      "\n",
      "\n",
      "He has combined with others to subject us to a jurisdiction foreign to our constitution, and \n",
      "\n",
      "unacknowledged by our laws; giving his Assent to their Acts of pretended Legislation:\n",
      "\n",
      "\n",
      "\n",
      "For Quartering large bodies of armed troops among us:\n",
      "\n",
      "\n",
      "\n",
      "For protecting them, by a mock Trial, from punishment for any Murders which they should commit on the Inhabitants of these States:\n",
      "\n",
      "\n",
      "\n",
      "For cutting off our Trade with all parts of the world:\n",
      "\n",
      "\n",
      "\n",
      "For imposing Taxes on us without our Consent:\n",
      "\n",
      "\n",
      "\n",
      "For depriving us in many cases, of the benefits of Trial by Jury:\n",
      "\n",
      "\n",
      "\n",
      "For transporting us beyond Seas to be tried for pretended offences\n",
      "\n",
      "\n",
      "\n",
      "For abolishing the free System of English Laws in a neighbouring Province, establishing therein an \n",
      "\n",
      "Arbitrary government, and enlarging its Boundaries so as to render it at once an example and fit \n",
      "\n",
      "instrument for introducing the same absolute rule into these Colonies:\n",
      "\n",
      "\n",
      "\n",
      "For taking away our Charters, abolishing our most valuable Laws, and altering fundamentally the Forms of our Governments:\n",
      "\n",
      "\n",
      "\n",
      "For suspending our own Legislatures, and declaring themselves invested with power to legislate for us in all cases whatsoever.\n",
      "\n",
      "\n",
      "\n",
      "He has abdicated Government here, by declaring us out of his Protection and waging War against us.\n",
      "\n",
      "\n",
      "\n",
      "He has plundered our seas, ravaged our Coasts, burnt our towns, and destroyed the lives of our people.\n",
      "\n",
      "\n",
      "\n",
      "He is at this time transporting large Armies of foreign Mercenaries to compleat the works of death, \n",
      "\n",
      "desolation and tyranny, already begun with circumstances of Cruelty & perfidy scarcely paralleled in the \n",
      "\n",
      "most barbarous ages, and totally unworthy the Head of a civilized nation.\n",
      "\n",
      "\n",
      "\n",
      "He has constrained our fellow Citizens taken Captive on the high Seas to bear Arms against their Country, \n",
      "\n",
      "to become the executioners of their friends and Brethren, or to fall themselves by their Hands.\n",
      "\n",
      "\n",
      "\n",
      "He has excited domestic insurrections amongst us, and has endeavoured to bring on the inhabitants of our \n",
      "\n",
      "frontiers, the merciless Indian Savages, whose known rule of warfare, is an undistinguished destruction \n",
      "\n",
      "of all ages, sexes and conditions.\n",
      "\n",
      "\n",
      "\n",
      "In every stage of these Oppressions We have Petitioned for Redress in the most humble terms: Our repeated \n",
      "\n",
      "Petitions have been answered only by repeated injury. A Prince whose character is thus marked by every act \n",
      "\n",
      "which may define a Tyrant, is unfit to be the ruler of a free people.\n",
      "\n",
      "\n",
      "\n",
      "Nor have We been wanting in attentions to our Brittish brethren. We have warned them from time to time of \n",
      "\n",
      "attempts by their legislature to extend an unwarrantable jurisdiction over us. We have reminded them of \n",
      "\n",
      "the circumstances of our emigration and settlement here. We have appealed to their native justice and \n",
      "\n",
      "magnanimity, and we have conjured them by the ties of our common kindred to disavow these usurpations, \n",
      "\n",
      "which, would inevitably interrupt our connections and correspondence. They too have been deaf to the voice \n",
      "\n",
      "of justice and of consanguinity. We must, therefore, acquiesce in the necessity, which denounces our \n",
      "\n",
      "Separation, and hold them, as we hold the rest of mankind, Enemies in War, in Peace Friends.\n",
      "\n",
      "\n",
      "\n",
      "We, therefore, the Representatives of the united States of America, in General Congress, Assembled, appealing \n",
      "\n",
      "to the Supreme Judge of the world for the rectitude of our intentions, do, in the Name, and by Authority \n",
      "\n",
      "of the good People of these Colonies, solemnly publish and declare, That these United Colonies are, and of \n",
      "\n",
      "Right ought to be Free and Independent States; that they are Absolved from all Allegiance to the British \n",
      "\n",
      "Crown, and that all political connection between them and the State of Great Britain, is and ought to be \n",
      "\n",
      "totally dissolved; and that as Free and Independent States, they have full Power to levy War, conclude \n",
      "\n",
      "Peace, contract Alliances, establish Commerce, and to do all other Acts and Things which Independent States \n",
      "\n",
      "may of right do. And for the support of this Declaration, with a firm reliance on the protection of divine \n",
      "\n",
      "Providence, we mutually pledge to each other our Lives, our Fortunes and our sacred Honor.\n",
      "\n"
     ]
    }
   ],
   "source": [
    "frequency_table = {}\n",
    "with open('declaration_of_independence.txt', 'r') as f:\n",
    "    for line in f:\n",
    "        print(line)"
   ]
  },
  {
   "cell_type": "markdown",
   "metadata": {},
   "source": [
    "There is an extra blank line between two lines in the program output. That is because the variable line include the newline character. function rstrip() can be used to get rid of the newline character in the variable line."
   ]
  },
  {
   "cell_type": "code",
   "execution_count": 144,
   "metadata": {},
   "outputs": [
    {
     "name": "stdout",
     "output_type": "stream",
     "text": [
      "The unanimous Declaration of the thirteen united States of America, When in the Course of human events,\n",
      "it becomes necessary for one people to dissolve the political bands which have connected them with another,\n",
      "and to assume among the powers of the earth, the separate and equal station to which the Laws of Nature\n",
      "and of Nature's God entitle them, a decent respect to the opinions of mankind requires that they should\n",
      "declare the causes which impel them to the separation.\n",
      "\n",
      "We hold these truths to be self-evident, that all men are created equal, that they are endowed by their\n",
      " Creator with certain unalienable Rights, that among these are Life, Liberty and the pursuit of\n",
      "Happiness.--That to secure these rights, Governments are instituted among Men, deriving their just powers\n",
      "from the consent of the governed, --That whenever any Form of Government becomes destructive of these\n",
      "ends, it is the Right of the People to alter or to abolish it, and to institute new Government, laying its\n",
      "foundation on such principles and organizing its powers in such form, as to them shall seem most likely to\n",
      "effect their Safety and Happiness. Prudence, indeed, will dictate that Governments long established should\n",
      "not be changed for light and transient causes; and accordingly all experience hath shewn, that mankind are\n",
      "more disposed to suffer, while evils are sufferable, than to right themselves by abolishing the forms to\n",
      "which they are accustomed. But when a long train of abuses and usurpations, pursuing invariably the same\n",
      "Object evinces a design to reduce them under absolute Despotism, it is their right, it is their duty, to\n",
      "throw off such Government, and to provide new Guards for their future security.--Such has been the patient\n",
      "sufferance of these Colonies; and such is now the necessity which constrains them to alter their former\n",
      "Systems of Government. The history of the present King of Great Britain is a history of repeated injuries\n",
      "and usurpations, all having in direct object the establishment of an absolute Tyranny over these States.\n",
      "To prove this, let Facts be submitted to a candid world.\n",
      "\n",
      "He has refused his Assent to Laws, the most wholesome and necessary for the public good.\n",
      "\n",
      "He has forbidden his Governors to pass Laws of immediate and pressing importance, unless suspended in their\n",
      "operation till his Assent should be obtained; and when so suspended, he has utterly neglected to attend to them.\n",
      "\n",
      "He has refused to pass other Laws for the accommodation of large districts of people, unless those people\n",
      "would relinquish the right of Representation in the Legislature, a right inestimable to them and formidable\n",
      "to tyrants only.\n",
      "\n",
      "He has called together legislative bodies at places unusual, uncomfortable, and distant from the depository\n",
      "of their public Records, for the sole purpose of fatiguing them into compliance with his measures.\n",
      "\n",
      "He has dissolved Representative Houses repeatedly, for opposing with manly firmness his invasions on the\n",
      "rights of the people.\n",
      "\n",
      "He has refused for a long time, after such dissolutions, to cause others to be elected; whereby the\n",
      "Legislative powers, incapable of Annihilation, have returned to the People at large for their exercise;\n",
      "the State remaining in the mean time exposed to all the dangers of invasion from without, and convulsions within.\n",
      "\n",
      "He has endeavoured to prevent the population of these States; for that purpose obstructing the Laws for\n",
      "Naturalization of Foreigners; refusing to pass others to encourage their migrations hither, and raising\n",
      "the conditions of new Appropriations of Lands.\n",
      "\n",
      "He has obstructed the Administration of Justice, by refusing his Assent to Laws for establishing Judiciary powers.\n",
      "\n",
      "He has made Judges dependent on his Will alone, for the tenure of their offices, and the amount and payment of their salaries.\n",
      "\n",
      "He has erected a multitude of New Offices, and sent hither swarms of Officers to harrass our people, and eat out their substance.\n",
      "\n",
      "He has kept among us, in times of peace, Standing Armies without the Consent of our legislatures.\n",
      "\n",
      "He has affected to render the Military independent of and superior to the Civil power.\n",
      "\n",
      "He has combined with others to subject us to a jurisdiction foreign to our constitution, and\n",
      "unacknowledged by our laws; giving his Assent to their Acts of pretended Legislation:\n",
      "\n",
      "For Quartering large bodies of armed troops among us:\n",
      "\n",
      "For protecting them, by a mock Trial, from punishment for any Murders which they should commit on the Inhabitants of these States:\n",
      "\n",
      "For cutting off our Trade with all parts of the world:\n",
      "\n",
      "For imposing Taxes on us without our Consent:\n",
      "\n",
      "For depriving us in many cases, of the benefits of Trial by Jury:\n",
      "\n",
      "For transporting us beyond Seas to be tried for pretended offences\n",
      "\n",
      "For abolishing the free System of English Laws in a neighbouring Province, establishing therein an\n",
      "Arbitrary government, and enlarging its Boundaries so as to render it at once an example and fit\n",
      "instrument for introducing the same absolute rule into these Colonies:\n",
      "\n",
      "For taking away our Charters, abolishing our most valuable Laws, and altering fundamentally the Forms of our Governments:\n",
      "\n",
      "For suspending our own Legislatures, and declaring themselves invested with power to legislate for us in all cases whatsoever.\n",
      "\n",
      "He has abdicated Government here, by declaring us out of his Protection and waging War against us.\n",
      "\n",
      "He has plundered our seas, ravaged our Coasts, burnt our towns, and destroyed the lives of our people.\n",
      "\n",
      "He is at this time transporting large Armies of foreign Mercenaries to compleat the works of death,\n",
      "desolation and tyranny, already begun with circumstances of Cruelty & perfidy scarcely paralleled in the\n",
      "most barbarous ages, and totally unworthy the Head of a civilized nation.\n",
      "\n",
      "He has constrained our fellow Citizens taken Captive on the high Seas to bear Arms against their Country,\n",
      "to become the executioners of their friends and Brethren, or to fall themselves by their Hands.\n",
      "\n",
      "He has excited domestic insurrections amongst us, and has endeavoured to bring on the inhabitants of our\n",
      "frontiers, the merciless Indian Savages, whose known rule of warfare, is an undistinguished destruction\n",
      "of all ages, sexes and conditions.\n",
      "\n",
      "In every stage of these Oppressions We have Petitioned for Redress in the most humble terms: Our repeated\n",
      "Petitions have been answered only by repeated injury. A Prince whose character is thus marked by every act\n",
      "which may define a Tyrant, is unfit to be the ruler of a free people.\n",
      "\n",
      "Nor have We been wanting in attentions to our Brittish brethren. We have warned them from time to time of\n",
      "attempts by their legislature to extend an unwarrantable jurisdiction over us. We have reminded them of\n",
      "the circumstances of our emigration and settlement here. We have appealed to their native justice and\n",
      "magnanimity, and we have conjured them by the ties of our common kindred to disavow these usurpations,\n",
      "which, would inevitably interrupt our connections and correspondence. They too have been deaf to the voice\n",
      "of justice and of consanguinity. We must, therefore, acquiesce in the necessity, which denounces our\n",
      "Separation, and hold them, as we hold the rest of mankind, Enemies in War, in Peace Friends.\n",
      "\n",
      "We, therefore, the Representatives of the united States of America, in General Congress, Assembled, appealing\n",
      "to the Supreme Judge of the world for the rectitude of our intentions, do, in the Name, and by Authority\n",
      "of the good People of these Colonies, solemnly publish and declare, That these United Colonies are, and of\n",
      "Right ought to be Free and Independent States; that they are Absolved from all Allegiance to the British\n",
      "Crown, and that all political connection between them and the State of Great Britain, is and ought to be\n",
      "totally dissolved; and that as Free and Independent States, they have full Power to levy War, conclude\n",
      "Peace, contract Alliances, establish Commerce, and to do all other Acts and Things which Independent States\n",
      "may of right do. And for the support of this Declaration, with a firm reliance on the protection of divine\n",
      "Providence, we mutually pledge to each other our Lives, our Fortunes and our sacred Honor.\n"
     ]
    }
   ],
   "source": [
    "frequency_table = {}\n",
    "with open('declaration_of_independence.txt', 'r') as f:\n",
    "    for line in f:\n",
    "        line = line.rstrip()  # remove the trailing newline character\n",
    "        print(line)"
   ]
  },
  {
   "cell_type": "markdown",
   "metadata": {},
   "source": [
    "Since we need count word frequencies, we need get individual words. The split() function can be used to split a string (the line variable) into a list of words."
   ]
  },
  {
   "cell_type": "code",
   "execution_count": 145,
   "metadata": {},
   "outputs": [
    {
     "name": "stdout",
     "output_type": "stream",
     "text": [
      "['The', 'unanimous', 'Declaration', 'of', 'the', 'thirteen', 'united', 'States', 'of', 'America,', 'When', 'in', 'the', 'Course', 'of', 'human', 'events,']\n",
      "['it', 'becomes', 'necessary', 'for', 'one', 'people', 'to', 'dissolve', 'the', 'political', 'bands', 'which', 'have', 'connected', 'them', 'with', 'another,']\n",
      "['and', 'to', 'assume', 'among', 'the', 'powers', 'of', 'the', 'earth,', 'the', 'separate', 'and', 'equal', 'station', 'to', 'which', 'the', 'Laws', 'of', 'Nature']\n",
      "['and', 'of', \"Nature's\", 'God', 'entitle', 'them,', 'a', 'decent', 'respect', 'to', 'the', 'opinions', 'of', 'mankind', 'requires', 'that', 'they', 'should']\n",
      "['declare', 'the', 'causes', 'which', 'impel', 'them', 'to', 'the', 'separation.']\n",
      "[]\n",
      "['We', 'hold', 'these', 'truths', 'to', 'be', 'self-evident,', 'that', 'all', 'men', 'are', 'created', 'equal,', 'that', 'they', 'are', 'endowed', 'by', 'their']\n",
      "['Creator', 'with', 'certain', 'unalienable', 'Rights,', 'that', 'among', 'these', 'are', 'Life,', 'Liberty', 'and', 'the', 'pursuit', 'of']\n",
      "['Happiness.--That', 'to', 'secure', 'these', 'rights,', 'Governments', 'are', 'instituted', 'among', 'Men,', 'deriving', 'their', 'just', 'powers']\n",
      "['from', 'the', 'consent', 'of', 'the', 'governed,', '--That', 'whenever', 'any', 'Form', 'of', 'Government', 'becomes', 'destructive', 'of', 'these']\n",
      "['ends,', 'it', 'is', 'the', 'Right', 'of', 'the', 'People', 'to', 'alter', 'or', 'to', 'abolish', 'it,', 'and', 'to', 'institute', 'new', 'Government,', 'laying', 'its']\n",
      "['foundation', 'on', 'such', 'principles', 'and', 'organizing', 'its', 'powers', 'in', 'such', 'form,', 'as', 'to', 'them', 'shall', 'seem', 'most', 'likely', 'to']\n",
      "['effect', 'their', 'Safety', 'and', 'Happiness.', 'Prudence,', 'indeed,', 'will', 'dictate', 'that', 'Governments', 'long', 'established', 'should']\n",
      "['not', 'be', 'changed', 'for', 'light', 'and', 'transient', 'causes;', 'and', 'accordingly', 'all', 'experience', 'hath', 'shewn,', 'that', 'mankind', 'are']\n",
      "['more', 'disposed', 'to', 'suffer,', 'while', 'evils', 'are', 'sufferable,', 'than', 'to', 'right', 'themselves', 'by', 'abolishing', 'the', 'forms', 'to']\n",
      "['which', 'they', 'are', 'accustomed.', 'But', 'when', 'a', 'long', 'train', 'of', 'abuses', 'and', 'usurpations,', 'pursuing', 'invariably', 'the', 'same']\n",
      "['Object', 'evinces', 'a', 'design', 'to', 'reduce', 'them', 'under', 'absolute', 'Despotism,', 'it', 'is', 'their', 'right,', 'it', 'is', 'their', 'duty,', 'to']\n",
      "['throw', 'off', 'such', 'Government,', 'and', 'to', 'provide', 'new', 'Guards', 'for', 'their', 'future', 'security.--Such', 'has', 'been', 'the', 'patient']\n",
      "['sufferance', 'of', 'these', 'Colonies;', 'and', 'such', 'is', 'now', 'the', 'necessity', 'which', 'constrains', 'them', 'to', 'alter', 'their', 'former']\n",
      "['Systems', 'of', 'Government.', 'The', 'history', 'of', 'the', 'present', 'King', 'of', 'Great', 'Britain', 'is', 'a', 'history', 'of', 'repeated', 'injuries']\n",
      "['and', 'usurpations,', 'all', 'having', 'in', 'direct', 'object', 'the', 'establishment', 'of', 'an', 'absolute', 'Tyranny', 'over', 'these', 'States.']\n",
      "['To', 'prove', 'this,', 'let', 'Facts', 'be', 'submitted', 'to', 'a', 'candid', 'world.']\n",
      "[]\n",
      "['He', 'has', 'refused', 'his', 'Assent', 'to', 'Laws,', 'the', 'most', 'wholesome', 'and', 'necessary', 'for', 'the', 'public', 'good.']\n",
      "[]\n",
      "['He', 'has', 'forbidden', 'his', 'Governors', 'to', 'pass', 'Laws', 'of', 'immediate', 'and', 'pressing', 'importance,', 'unless', 'suspended', 'in', 'their']\n",
      "['operation', 'till', 'his', 'Assent', 'should', 'be', 'obtained;', 'and', 'when', 'so', 'suspended,', 'he', 'has', 'utterly', 'neglected', 'to', 'attend', 'to', 'them.']\n",
      "[]\n",
      "['He', 'has', 'refused', 'to', 'pass', 'other', 'Laws', 'for', 'the', 'accommodation', 'of', 'large', 'districts', 'of', 'people,', 'unless', 'those', 'people']\n",
      "['would', 'relinquish', 'the', 'right', 'of', 'Representation', 'in', 'the', 'Legislature,', 'a', 'right', 'inestimable', 'to', 'them', 'and', 'formidable']\n",
      "['to', 'tyrants', 'only.']\n",
      "[]\n",
      "['He', 'has', 'called', 'together', 'legislative', 'bodies', 'at', 'places', 'unusual,', 'uncomfortable,', 'and', 'distant', 'from', 'the', 'depository']\n",
      "['of', 'their', 'public', 'Records,', 'for', 'the', 'sole', 'purpose', 'of', 'fatiguing', 'them', 'into', 'compliance', 'with', 'his', 'measures.']\n",
      "[]\n",
      "['He', 'has', 'dissolved', 'Representative', 'Houses', 'repeatedly,', 'for', 'opposing', 'with', 'manly', 'firmness', 'his', 'invasions', 'on', 'the']\n",
      "['rights', 'of', 'the', 'people.']\n",
      "[]\n",
      "['He', 'has', 'refused', 'for', 'a', 'long', 'time,', 'after', 'such', 'dissolutions,', 'to', 'cause', 'others', 'to', 'be', 'elected;', 'whereby', 'the']\n",
      "['Legislative', 'powers,', 'incapable', 'of', 'Annihilation,', 'have', 'returned', 'to', 'the', 'People', 'at', 'large', 'for', 'their', 'exercise;']\n",
      "['the', 'State', 'remaining', 'in', 'the', 'mean', 'time', 'exposed', 'to', 'all', 'the', 'dangers', 'of', 'invasion', 'from', 'without,', 'and', 'convulsions', 'within.']\n",
      "[]\n",
      "['He', 'has', 'endeavoured', 'to', 'prevent', 'the', 'population', 'of', 'these', 'States;', 'for', 'that', 'purpose', 'obstructing', 'the', 'Laws', 'for']\n",
      "['Naturalization', 'of', 'Foreigners;', 'refusing', 'to', 'pass', 'others', 'to', 'encourage', 'their', 'migrations', 'hither,', 'and', 'raising']\n",
      "['the', 'conditions', 'of', 'new', 'Appropriations', 'of', 'Lands.']\n",
      "[]\n",
      "['He', 'has', 'obstructed', 'the', 'Administration', 'of', 'Justice,', 'by', 'refusing', 'his', 'Assent', 'to', 'Laws', 'for', 'establishing', 'Judiciary', 'powers.']\n",
      "[]\n",
      "['He', 'has', 'made', 'Judges', 'dependent', 'on', 'his', 'Will', 'alone,', 'for', 'the', 'tenure', 'of', 'their', 'offices,', 'and', 'the', 'amount', 'and', 'payment', 'of', 'their', 'salaries.']\n",
      "[]\n",
      "['He', 'has', 'erected', 'a', 'multitude', 'of', 'New', 'Offices,', 'and', 'sent', 'hither', 'swarms', 'of', 'Officers', 'to', 'harrass', 'our', 'people,', 'and', 'eat', 'out', 'their', 'substance.']\n",
      "[]\n",
      "['He', 'has', 'kept', 'among', 'us,', 'in', 'times', 'of', 'peace,', 'Standing', 'Armies', 'without', 'the', 'Consent', 'of', 'our', 'legislatures.']\n",
      "[]\n",
      "['He', 'has', 'affected', 'to', 'render', 'the', 'Military', 'independent', 'of', 'and', 'superior', 'to', 'the', 'Civil', 'power.']\n",
      "[]\n",
      "['He', 'has', 'combined', 'with', 'others', 'to', 'subject', 'us', 'to', 'a', 'jurisdiction', 'foreign', 'to', 'our', 'constitution,', 'and']\n",
      "['unacknowledged', 'by', 'our', 'laws;', 'giving', 'his', 'Assent', 'to', 'their', 'Acts', 'of', 'pretended', 'Legislation:']\n",
      "[]\n",
      "['For', 'Quartering', 'large', 'bodies', 'of', 'armed', 'troops', 'among', 'us:']\n",
      "[]\n",
      "['For', 'protecting', 'them,', 'by', 'a', 'mock', 'Trial,', 'from', 'punishment', 'for', 'any', 'Murders', 'which', 'they', 'should', 'commit', 'on', 'the', 'Inhabitants', 'of', 'these', 'States:']\n",
      "[]\n",
      "['For', 'cutting', 'off', 'our', 'Trade', 'with', 'all', 'parts', 'of', 'the', 'world:']\n",
      "[]\n",
      "['For', 'imposing', 'Taxes', 'on', 'us', 'without', 'our', 'Consent:']\n",
      "[]\n",
      "['For', 'depriving', 'us', 'in', 'many', 'cases,', 'of', 'the', 'benefits', 'of', 'Trial', 'by', 'Jury:']\n",
      "[]\n",
      "['For', 'transporting', 'us', 'beyond', 'Seas', 'to', 'be', 'tried', 'for', 'pretended', 'offences']\n",
      "[]\n",
      "['For', 'abolishing', 'the', 'free', 'System', 'of', 'English', 'Laws', 'in', 'a', 'neighbouring', 'Province,', 'establishing', 'therein', 'an']\n",
      "['Arbitrary', 'government,', 'and', 'enlarging', 'its', 'Boundaries', 'so', 'as', 'to', 'render', 'it', 'at', 'once', 'an', 'example', 'and', 'fit']\n",
      "['instrument', 'for', 'introducing', 'the', 'same', 'absolute', 'rule', 'into', 'these', 'Colonies:']\n",
      "[]\n",
      "['For', 'taking', 'away', 'our', 'Charters,', 'abolishing', 'our', 'most', 'valuable', 'Laws,', 'and', 'altering', 'fundamentally', 'the', 'Forms', 'of', 'our', 'Governments:']\n",
      "[]\n",
      "['For', 'suspending', 'our', 'own', 'Legislatures,', 'and', 'declaring', 'themselves', 'invested', 'with', 'power', 'to', 'legislate', 'for', 'us', 'in', 'all', 'cases', 'whatsoever.']\n",
      "[]\n",
      "['He', 'has', 'abdicated', 'Government', 'here,', 'by', 'declaring', 'us', 'out', 'of', 'his', 'Protection', 'and', 'waging', 'War', 'against', 'us.']\n",
      "[]\n",
      "['He', 'has', 'plundered', 'our', 'seas,', 'ravaged', 'our', 'Coasts,', 'burnt', 'our', 'towns,', 'and', 'destroyed', 'the', 'lives', 'of', 'our', 'people.']\n",
      "[]\n",
      "['He', 'is', 'at', 'this', 'time', 'transporting', 'large', 'Armies', 'of', 'foreign', 'Mercenaries', 'to', 'compleat', 'the', 'works', 'of', 'death,']\n",
      "['desolation', 'and', 'tyranny,', 'already', 'begun', 'with', 'circumstances', 'of', 'Cruelty', '&', 'perfidy', 'scarcely', 'paralleled', 'in', 'the']\n",
      "['most', 'barbarous', 'ages,', 'and', 'totally', 'unworthy', 'the', 'Head', 'of', 'a', 'civilized', 'nation.']\n",
      "[]\n",
      "['He', 'has', 'constrained', 'our', 'fellow', 'Citizens', 'taken', 'Captive', 'on', 'the', 'high', 'Seas', 'to', 'bear', 'Arms', 'against', 'their', 'Country,']\n",
      "['to', 'become', 'the', 'executioners', 'of', 'their', 'friends', 'and', 'Brethren,', 'or', 'to', 'fall', 'themselves', 'by', 'their', 'Hands.']\n",
      "[]\n",
      "['He', 'has', 'excited', 'domestic', 'insurrections', 'amongst', 'us,', 'and', 'has', 'endeavoured', 'to', 'bring', 'on', 'the', 'inhabitants', 'of', 'our']\n",
      "['frontiers,', 'the', 'merciless', 'Indian', 'Savages,', 'whose', 'known', 'rule', 'of', 'warfare,', 'is', 'an', 'undistinguished', 'destruction']\n",
      "['of', 'all', 'ages,', 'sexes', 'and', 'conditions.']\n",
      "[]\n",
      "['In', 'every', 'stage', 'of', 'these', 'Oppressions', 'We', 'have', 'Petitioned', 'for', 'Redress', 'in', 'the', 'most', 'humble', 'terms:', 'Our', 'repeated']\n",
      "['Petitions', 'have', 'been', 'answered', 'only', 'by', 'repeated', 'injury.', 'A', 'Prince', 'whose', 'character', 'is', 'thus', 'marked', 'by', 'every', 'act']\n",
      "['which', 'may', 'define', 'a', 'Tyrant,', 'is', 'unfit', 'to', 'be', 'the', 'ruler', 'of', 'a', 'free', 'people.']\n",
      "[]\n",
      "['Nor', 'have', 'We', 'been', 'wanting', 'in', 'attentions', 'to', 'our', 'Brittish', 'brethren.', 'We', 'have', 'warned', 'them', 'from', 'time', 'to', 'time', 'of']\n",
      "['attempts', 'by', 'their', 'legislature', 'to', 'extend', 'an', 'unwarrantable', 'jurisdiction', 'over', 'us.', 'We', 'have', 'reminded', 'them', 'of']\n",
      "['the', 'circumstances', 'of', 'our', 'emigration', 'and', 'settlement', 'here.', 'We', 'have', 'appealed', 'to', 'their', 'native', 'justice', 'and']\n",
      "['magnanimity,', 'and', 'we', 'have', 'conjured', 'them', 'by', 'the', 'ties', 'of', 'our', 'common', 'kindred', 'to', 'disavow', 'these', 'usurpations,']\n",
      "['which,', 'would', 'inevitably', 'interrupt', 'our', 'connections', 'and', 'correspondence.', 'They', 'too', 'have', 'been', 'deaf', 'to', 'the', 'voice']\n",
      "['of', 'justice', 'and', 'of', 'consanguinity.', 'We', 'must,', 'therefore,', 'acquiesce', 'in', 'the', 'necessity,', 'which', 'denounces', 'our']\n",
      "['Separation,', 'and', 'hold', 'them,', 'as', 'we', 'hold', 'the', 'rest', 'of', 'mankind,', 'Enemies', 'in', 'War,', 'in', 'Peace', 'Friends.']\n",
      "[]\n",
      "['We,', 'therefore,', 'the', 'Representatives', 'of', 'the', 'united', 'States', 'of', 'America,', 'in', 'General', 'Congress,', 'Assembled,', 'appealing']\n",
      "['to', 'the', 'Supreme', 'Judge', 'of', 'the', 'world', 'for', 'the', 'rectitude', 'of', 'our', 'intentions,', 'do,', 'in', 'the', 'Name,', 'and', 'by', 'Authority']\n",
      "['of', 'the', 'good', 'People', 'of', 'these', 'Colonies,', 'solemnly', 'publish', 'and', 'declare,', 'That', 'these', 'United', 'Colonies', 'are,', 'and', 'of']\n",
      "['Right', 'ought', 'to', 'be', 'Free', 'and', 'Independent', 'States;', 'that', 'they', 'are', 'Absolved', 'from', 'all', 'Allegiance', 'to', 'the', 'British']\n",
      "['Crown,', 'and', 'that', 'all', 'political', 'connection', 'between', 'them', 'and', 'the', 'State', 'of', 'Great', 'Britain,', 'is', 'and', 'ought', 'to', 'be']\n",
      "['totally', 'dissolved;', 'and', 'that', 'as', 'Free', 'and', 'Independent', 'States,', 'they', 'have', 'full', 'Power', 'to', 'levy', 'War,', 'conclude']\n",
      "['Peace,', 'contract', 'Alliances,', 'establish', 'Commerce,', 'and', 'to', 'do', 'all', 'other', 'Acts', 'and', 'Things', 'which', 'Independent', 'States']\n",
      "['may', 'of', 'right', 'do.', 'And', 'for', 'the', 'support', 'of', 'this', 'Declaration,', 'with', 'a', 'firm', 'reliance', 'on', 'the', 'protection', 'of', 'divine']\n",
      "['Providence,', 'we', 'mutually', 'pledge', 'to', 'each', 'other', 'our', 'Lives,', 'our', 'Fortunes', 'and', 'our', 'sacred', 'Honor.']\n"
     ]
    }
   ],
   "source": [
    "frequency_table = {}\n",
    "with open('declaration_of_independence.txt', 'r') as f:\n",
    "    for line in f:\n",
    "        line = line.rstrip()  # remove the trailing newline character\n",
    "        words = line.split()  # get a list of words from the string (line)\n",
    "        print(words)"
   ]
  },
  {
   "cell_type": "markdown",
   "metadata": {},
   "source": [
    "Now the words are available. We can count their frequencies and save them into the dictionary frequency_table."
   ]
  },
  {
   "cell_type": "code",
   "execution_count": 148,
   "metadata": {},
   "outputs": [
    {
     "name": "stdout",
     "output_type": "stream",
     "text": [
      "The                  : 2\n",
      "unanimous            : 1\n",
      "Declaration          : 1\n",
      "of                   : 78\n",
      "the                  : 76\n",
      "thirteen             : 1\n",
      "united               : 2\n",
      "States               : 3\n",
      "America,             : 2\n",
      "When                 : 1\n",
      "in                   : 18\n",
      "Course               : 1\n",
      "human                : 1\n",
      "events,              : 1\n",
      "it                   : 5\n",
      "becomes              : 2\n",
      "necessary            : 2\n",
      "for                  : 20\n",
      "one                  : 1\n",
      "people               : 2\n",
      "to                   : 64\n",
      "dissolve             : 1\n",
      "political            : 2\n",
      "bands                : 1\n",
      "which                : 9\n",
      "have                 : 11\n",
      "connected            : 1\n",
      "them                 : 11\n",
      "with                 : 9\n",
      "another,             : 1\n",
      "and                  : 55\n",
      "assume               : 1\n",
      "among                : 5\n",
      "powers               : 3\n",
      "earth,               : 1\n",
      "separate             : 1\n",
      "equal                : 1\n",
      "station              : 1\n",
      "Laws                 : 6\n",
      "Nature               : 1\n",
      "Nature's             : 1\n",
      "God                  : 1\n",
      "entitle              : 1\n",
      "them,                : 3\n",
      "a                    : 15\n",
      "decent               : 1\n",
      "respect              : 1\n",
      "opinions             : 1\n",
      "mankind              : 2\n",
      "requires             : 1\n",
      "that                 : 10\n",
      "they                 : 6\n",
      "should               : 4\n",
      "declare              : 1\n",
      "causes               : 1\n",
      "impel                : 1\n",
      "separation.          : 1\n",
      "We                   : 7\n",
      "hold                 : 3\n",
      "these                : 13\n",
      "truths               : 1\n",
      "be                   : 9\n",
      "self-evident,        : 1\n",
      "all                  : 10\n",
      "men                  : 1\n",
      "are                  : 8\n",
      "created              : 1\n",
      "equal,               : 1\n",
      "endowed              : 1\n",
      "by                   : 13\n",
      "their                : 20\n",
      "Creator              : 1\n",
      "certain              : 1\n",
      "unalienable          : 1\n",
      "Rights,              : 1\n",
      "Life,                : 1\n",
      "Liberty              : 1\n",
      "pursuit              : 1\n",
      "Happiness.--That     : 1\n",
      "secure               : 1\n",
      "rights,              : 1\n",
      "Governments          : 2\n",
      "instituted           : 1\n",
      "Men,                 : 1\n",
      "deriving             : 1\n",
      "just                 : 1\n",
      "from                 : 6\n",
      "consent              : 1\n",
      "governed,            : 1\n",
      "--That               : 1\n",
      "whenever             : 1\n",
      "any                  : 2\n",
      "Form                 : 1\n",
      "Government           : 2\n",
      "destructive          : 1\n",
      "ends,                : 1\n",
      "is                   : 10\n",
      "Right                : 2\n",
      "People               : 3\n",
      "alter                : 2\n",
      "or                   : 2\n",
      "abolish              : 1\n",
      "it,                  : 1\n",
      "institute            : 1\n",
      "new                  : 3\n",
      "Government,          : 2\n",
      "laying               : 1\n",
      "its                  : 3\n",
      "foundation           : 1\n",
      "on                   : 8\n",
      "such                 : 5\n",
      "principles           : 1\n",
      "organizing           : 1\n",
      "form,                : 1\n",
      "as                   : 4\n",
      "shall                : 1\n",
      "seem                 : 1\n",
      "most                 : 5\n",
      "likely               : 1\n",
      "effect               : 1\n",
      "Safety               : 1\n",
      "Happiness.           : 1\n",
      "Prudence,            : 1\n",
      "indeed,              : 1\n",
      "will                 : 1\n",
      "dictate              : 1\n",
      "long                 : 3\n",
      "established          : 1\n",
      "not                  : 1\n",
      "changed              : 1\n",
      "light                : 1\n",
      "transient            : 1\n",
      "causes;              : 1\n",
      "accordingly          : 1\n",
      "experience           : 1\n",
      "hath                 : 1\n",
      "shewn,               : 1\n",
      "more                 : 1\n",
      "disposed             : 1\n",
      "suffer,              : 1\n",
      "while                : 1\n",
      "evils                : 1\n",
      "sufferable,          : 1\n",
      "than                 : 1\n",
      "right                : 4\n",
      "themselves           : 3\n",
      "abolishing           : 3\n",
      "forms                : 1\n",
      "accustomed.          : 1\n",
      "But                  : 1\n",
      "when                 : 2\n",
      "train                : 1\n",
      "abuses               : 1\n",
      "usurpations,         : 3\n",
      "pursuing             : 1\n",
      "invariably           : 1\n",
      "same                 : 2\n",
      "Object               : 1\n",
      "evinces              : 1\n",
      "design               : 1\n",
      "reduce               : 1\n",
      "under                : 1\n",
      "absolute             : 3\n",
      "Despotism,           : 1\n",
      "right,               : 1\n",
      "duty,                : 1\n",
      "throw                : 1\n",
      "off                  : 2\n",
      "provide              : 1\n",
      "Guards               : 1\n",
      "future               : 1\n",
      "security.--Such      : 1\n",
      "has                  : 20\n",
      "been                 : 4\n",
      "patient              : 1\n",
      "sufferance           : 1\n",
      "Colonies;            : 1\n",
      "now                  : 1\n",
      "necessity            : 1\n",
      "constrains           : 1\n",
      "former               : 1\n",
      "Systems              : 1\n",
      "Government.          : 1\n",
      "history              : 2\n",
      "present              : 1\n",
      "King                 : 1\n",
      "Great                : 2\n",
      "Britain              : 1\n",
      "repeated             : 3\n",
      "injuries             : 1\n",
      "having               : 1\n",
      "direct               : 1\n",
      "object               : 1\n",
      "establishment        : 1\n",
      "an                   : 5\n",
      "Tyranny              : 1\n",
      "over                 : 2\n",
      "States.              : 1\n",
      "To                   : 1\n",
      "prove                : 1\n",
      "this,                : 1\n",
      "let                  : 1\n",
      "Facts                : 1\n",
      "submitted            : 1\n",
      "candid               : 1\n",
      "world.               : 1\n",
      "He                   : 18\n",
      "refused              : 3\n",
      "his                  : 9\n",
      "Assent               : 4\n",
      "Laws,                : 2\n",
      "wholesome            : 1\n",
      "public               : 2\n",
      "good.                : 1\n",
      "forbidden            : 1\n",
      "Governors            : 1\n",
      "pass                 : 3\n",
      "immediate            : 1\n",
      "pressing             : 1\n",
      "importance,          : 1\n",
      "unless               : 2\n",
      "suspended            : 1\n",
      "operation            : 1\n",
      "till                 : 1\n",
      "obtained;            : 1\n",
      "so                   : 2\n",
      "suspended,           : 1\n",
      "he                   : 1\n",
      "utterly              : 1\n",
      "neglected            : 1\n",
      "attend               : 1\n",
      "them.                : 1\n",
      "other                : 3\n",
      "accommodation        : 1\n",
      "large                : 4\n",
      "districts            : 1\n",
      "people,              : 2\n",
      "those                : 1\n",
      "would                : 2\n",
      "relinquish           : 1\n",
      "Representation       : 1\n",
      "Legislature,         : 1\n",
      "inestimable          : 1\n",
      "formidable           : 1\n",
      "tyrants              : 1\n",
      "only.                : 1\n",
      "called               : 1\n",
      "together             : 1\n",
      "legislative          : 1\n",
      "bodies               : 2\n",
      "at                   : 4\n",
      "places               : 1\n",
      "unusual,             : 1\n",
      "uncomfortable,       : 1\n",
      "distant              : 1\n",
      "depository           : 1\n",
      "Records,             : 1\n",
      "sole                 : 1\n",
      "purpose              : 2\n",
      "fatiguing            : 1\n",
      "into                 : 2\n",
      "compliance           : 1\n",
      "measures.            : 1\n",
      "dissolved            : 1\n",
      "Representative       : 1\n",
      "Houses               : 1\n",
      "repeatedly,          : 1\n",
      "opposing             : 1\n",
      "manly                : 1\n",
      "firmness             : 1\n",
      "invasions            : 1\n",
      "rights               : 1\n",
      "people.              : 3\n",
      "time,                : 1\n",
      "after                : 1\n",
      "dissolutions,        : 1\n",
      "cause                : 1\n",
      "others               : 3\n",
      "elected;             : 1\n",
      "whereby              : 1\n",
      "Legislative          : 1\n",
      "powers,              : 1\n",
      "incapable            : 1\n",
      "Annihilation,        : 1\n",
      "returned             : 1\n",
      "exercise;            : 1\n",
      "State                : 2\n",
      "remaining            : 1\n",
      "mean                 : 1\n",
      "time                 : 4\n",
      "exposed              : 1\n",
      "dangers              : 1\n",
      "invasion             : 1\n",
      "without,             : 1\n",
      "convulsions          : 1\n",
      "within.              : 1\n",
      "endeavoured          : 2\n",
      "prevent              : 1\n",
      "population           : 1\n",
      "States;              : 2\n",
      "obstructing          : 1\n",
      "Naturalization       : 1\n",
      "Foreigners;          : 1\n",
      "refusing             : 2\n",
      "encourage            : 1\n",
      "migrations           : 1\n",
      "hither,              : 1\n",
      "raising              : 1\n",
      "conditions           : 1\n",
      "Appropriations       : 1\n",
      "Lands.               : 1\n",
      "obstructed           : 1\n",
      "Administration       : 1\n",
      "Justice,             : 1\n",
      "establishing         : 2\n",
      "Judiciary            : 1\n",
      "powers.              : 1\n",
      "made                 : 1\n",
      "Judges               : 1\n",
      "dependent            : 1\n",
      "Will                 : 1\n",
      "alone,               : 1\n",
      "tenure               : 1\n",
      "offices,             : 1\n",
      "amount               : 1\n",
      "payment              : 1\n",
      "salaries.            : 1\n",
      "erected              : 1\n",
      "multitude            : 1\n",
      "New                  : 1\n",
      "Offices,             : 1\n",
      "sent                 : 1\n",
      "hither               : 1\n",
      "swarms               : 1\n",
      "Officers             : 1\n",
      "harrass              : 1\n",
      "our                  : 25\n",
      "eat                  : 1\n",
      "out                  : 2\n",
      "substance.           : 1\n",
      "kept                 : 1\n",
      "us,                  : 2\n",
      "times                : 1\n",
      "peace,               : 1\n",
      "Standing             : 1\n",
      "Armies               : 2\n",
      "without              : 2\n",
      "Consent              : 1\n",
      "legislatures.        : 1\n",
      "affected             : 1\n",
      "render               : 2\n",
      "Military             : 1\n",
      "independent          : 1\n",
      "superior             : 1\n",
      "Civil                : 1\n",
      "power.               : 1\n",
      "combined             : 1\n",
      "subject              : 1\n",
      "us                   : 6\n",
      "jurisdiction         : 2\n",
      "foreign              : 2\n",
      "constitution,        : 1\n",
      "unacknowledged       : 1\n",
      "laws;                : 1\n",
      "giving               : 1\n",
      "Acts                 : 2\n",
      "pretended            : 2\n",
      "Legislation:         : 1\n",
      "For                  : 9\n",
      "Quartering           : 1\n",
      "armed                : 1\n",
      "troops               : 1\n",
      "us:                  : 1\n",
      "protecting           : 1\n",
      "mock                 : 1\n",
      "Trial,               : 1\n",
      "punishment           : 1\n",
      "Murders              : 1\n",
      "commit               : 1\n",
      "Inhabitants          : 1\n",
      "States:              : 1\n",
      "cutting              : 1\n",
      "Trade                : 1\n",
      "parts                : 1\n",
      "world:               : 1\n",
      "imposing             : 1\n",
      "Taxes                : 1\n",
      "Consent:             : 1\n",
      "depriving            : 1\n",
      "many                 : 1\n",
      "cases,               : 1\n",
      "benefits             : 1\n",
      "Trial                : 1\n",
      "Jury:                : 1\n",
      "transporting         : 2\n",
      "beyond               : 1\n",
      "Seas                 : 2\n",
      "tried                : 1\n",
      "offences             : 1\n",
      "free                 : 2\n",
      "System               : 1\n",
      "English              : 1\n",
      "neighbouring         : 1\n",
      "Province,            : 1\n",
      "therein              : 1\n",
      "Arbitrary            : 1\n",
      "government,          : 1\n",
      "enlarging            : 1\n",
      "Boundaries           : 1\n",
      "once                 : 1\n",
      "example              : 1\n",
      "fit                  : 1\n",
      "instrument           : 1\n",
      "introducing          : 1\n",
      "rule                 : 2\n",
      "Colonies:            : 1\n",
      "taking               : 1\n",
      "away                 : 1\n",
      "Charters,            : 1\n",
      "valuable             : 1\n",
      "altering             : 1\n",
      "fundamentally        : 1\n",
      "Forms                : 1\n",
      "Governments:         : 1\n",
      "suspending           : 1\n",
      "own                  : 1\n",
      "Legislatures,        : 1\n",
      "declaring            : 2\n",
      "invested             : 1\n",
      "power                : 1\n",
      "legislate            : 1\n",
      "cases                : 1\n",
      "whatsoever.          : 1\n",
      "abdicated            : 1\n",
      "here,                : 1\n",
      "Protection           : 1\n",
      "waging               : 1\n",
      "War                  : 1\n",
      "against              : 2\n",
      "us.                  : 2\n",
      "plundered            : 1\n",
      "seas,                : 1\n",
      "ravaged              : 1\n",
      "Coasts,              : 1\n",
      "burnt                : 1\n",
      "towns,               : 1\n",
      "destroyed            : 1\n",
      "lives                : 1\n",
      "this                 : 2\n",
      "Mercenaries          : 1\n",
      "compleat             : 1\n",
      "works                : 1\n",
      "death,               : 1\n",
      "desolation           : 1\n",
      "tyranny,             : 1\n",
      "already              : 1\n",
      "begun                : 1\n",
      "circumstances        : 2\n",
      "Cruelty              : 1\n",
      "&                    : 1\n",
      "perfidy              : 1\n",
      "scarcely             : 1\n",
      "paralleled           : 1\n",
      "barbarous            : 1\n",
      "ages,                : 2\n",
      "totally              : 2\n",
      "unworthy             : 1\n",
      "Head                 : 1\n",
      "civilized            : 1\n",
      "nation.              : 1\n",
      "constrained          : 1\n",
      "fellow               : 1\n",
      "Citizens             : 1\n",
      "taken                : 1\n",
      "Captive              : 1\n",
      "high                 : 1\n",
      "bear                 : 1\n",
      "Arms                 : 1\n",
      "Country,             : 1\n",
      "become               : 1\n",
      "executioners         : 1\n",
      "friends              : 1\n",
      "Brethren,            : 1\n",
      "fall                 : 1\n",
      "Hands.               : 1\n",
      "excited              : 1\n",
      "domestic             : 1\n",
      "insurrections        : 1\n",
      "amongst              : 1\n",
      "bring                : 1\n",
      "inhabitants          : 1\n",
      "frontiers,           : 1\n",
      "merciless            : 1\n",
      "Indian               : 1\n",
      "Savages,             : 1\n",
      "whose                : 2\n",
      "known                : 1\n",
      "warfare,             : 1\n",
      "undistinguished      : 1\n",
      "destruction          : 1\n",
      "sexes                : 1\n",
      "conditions.          : 1\n",
      "In                   : 1\n",
      "every                : 2\n",
      "stage                : 1\n",
      "Oppressions          : 1\n",
      "Petitioned           : 1\n",
      "Redress              : 1\n",
      "humble               : 1\n",
      "terms:               : 1\n",
      "Our                  : 1\n",
      "Petitions            : 1\n",
      "answered             : 1\n",
      "only                 : 1\n",
      "injury.              : 1\n",
      "A                    : 1\n",
      "Prince               : 1\n",
      "character            : 1\n",
      "thus                 : 1\n",
      "marked               : 1\n",
      "act                  : 1\n",
      "may                  : 2\n",
      "define               : 1\n",
      "Tyrant,              : 1\n",
      "unfit                : 1\n",
      "ruler                : 1\n",
      "Nor                  : 1\n",
      "wanting              : 1\n",
      "attentions           : 1\n",
      "Brittish             : 1\n",
      "brethren.            : 1\n",
      "warned               : 1\n",
      "attempts             : 1\n",
      "legislature          : 1\n",
      "extend               : 1\n",
      "unwarrantable        : 1\n",
      "reminded             : 1\n",
      "emigration           : 1\n",
      "settlement           : 1\n",
      "here.                : 1\n",
      "appealed             : 1\n",
      "native               : 1\n",
      "justice              : 2\n",
      "magnanimity,         : 1\n",
      "we                   : 3\n",
      "conjured             : 1\n",
      "ties                 : 1\n",
      "common               : 1\n",
      "kindred              : 1\n",
      "disavow              : 1\n",
      "which,               : 1\n",
      "inevitably           : 1\n",
      "interrupt            : 1\n",
      "connections          : 1\n",
      "correspondence.      : 1\n",
      "They                 : 1\n",
      "too                  : 1\n",
      "deaf                 : 1\n",
      "voice                : 1\n",
      "consanguinity.       : 1\n",
      "must,                : 1\n",
      "therefore,           : 2\n",
      "acquiesce            : 1\n",
      "necessity,           : 1\n",
      "denounces            : 1\n",
      "Separation,          : 1\n",
      "rest                 : 1\n",
      "mankind,             : 1\n",
      "Enemies              : 1\n",
      "War,                 : 2\n",
      "Peace                : 1\n",
      "Friends.             : 1\n",
      "We,                  : 1\n",
      "Representatives      : 1\n",
      "General              : 1\n",
      "Congress,            : 1\n",
      "Assembled,           : 1\n",
      "appealing            : 1\n",
      "Supreme              : 1\n",
      "Judge                : 1\n",
      "world                : 1\n",
      "rectitude            : 1\n",
      "intentions,          : 1\n",
      "do,                  : 1\n",
      "Name,                : 1\n",
      "Authority            : 1\n",
      "good                 : 1\n",
      "Colonies,            : 1\n",
      "solemnly             : 1\n",
      "publish              : 1\n",
      "declare,             : 1\n",
      "That                 : 1\n",
      "United               : 1\n",
      "Colonies             : 1\n",
      "are,                 : 1\n",
      "ought                : 2\n",
      "Free                 : 2\n",
      "Independent          : 3\n",
      "Absolved             : 1\n",
      "Allegiance           : 1\n",
      "British              : 1\n",
      "Crown,               : 1\n",
      "connection           : 1\n",
      "between              : 1\n",
      "Britain,             : 1\n",
      "dissolved;           : 1\n",
      "States,              : 1\n",
      "full                 : 1\n",
      "Power                : 1\n",
      "levy                 : 1\n",
      "conclude             : 1\n",
      "Peace,               : 1\n",
      "contract             : 1\n",
      "Alliances,           : 1\n",
      "establish            : 1\n",
      "Commerce,            : 1\n",
      "do                   : 1\n",
      "Things               : 1\n",
      "do.                  : 1\n",
      "And                  : 1\n",
      "support              : 1\n",
      "Declaration,         : 1\n",
      "firm                 : 1\n",
      "reliance             : 1\n",
      "protection           : 1\n",
      "divine               : 1\n",
      "Providence,          : 1\n",
      "mutually             : 1\n",
      "pledge               : 1\n",
      "each                 : 1\n",
      "Lives,               : 1\n",
      "Fortunes             : 1\n",
      "sacred               : 1\n",
      "Honor.               : 1\n"
     ]
    }
   ],
   "source": [
    "frequency_table = {}\n",
    "with open('declaration_of_independence.txt', 'r') as f:\n",
    "    for line in f:\n",
    "        line = line.rstrip()  # remove the trailing newline character\n",
    "        words = line.split()  # get a list of words from the string (line)\n",
    "        for word in words:\n",
    "            if word in frequency_table:\n",
    "                frequency_table[word] += 1\n",
    "            else:\n",
    "                frequency_table[word] = 1\n",
    "\n",
    "# print the frequency_table dictionary\n",
    "for k in iter(frequency_table):\n",
    "    print('{:<20s} : {}'.format(k, frequency_table[k]))"
   ]
  },
  {
   "cell_type": "markdown",
   "metadata": {},
   "source": [
    "You might have noticed that\n",
    " - some words include punctuations like ','.\n",
    " - the output is not sorted by word frequencies nor ty words.\n",
    " \n",
    " We will sort the output in next section. Remove trailing punctuations is left for your exercise.\n",
    " \n",
    " # 8.4 Exericse: Group Words by Their Lengths\n",
    " \n",
    " Write a program to group words in the 'declaration_of_independence.txt' by their lengths. Your program should ouptut an integer x followed by the words of length x. For example\n",
    " \n",
    " 5 humam which bands earth\n",
    " \n",
    " 6 Nature decent assume"
   ]
  },
  {
   "cell_type": "code",
   "execution_count": null,
   "metadata": {
    "collapsed": true
   },
   "outputs": [],
   "source": [
    "# Complete the exericse (8.4) here\n",
    "\n",
    "\n",
    "\n",
    "\n"
   ]
  },
  {
   "cell_type": "code",
   "execution_count": 188,
   "metadata": {},
   "outputs": [
    {
     "name": "stdout",
     "output_type": "stream",
     "text": [
      "3     : ['The', 'the', 'the', 'for', 'one', 'the', 'and', 'the', 'the', 'the', 'and', 'the', 'and', 'God', 'the', 'the', 'the', 'all', 'men', 'are', 'are', 'are', 'and', 'the', 'are', 'the', 'the', 'any', 'the', 'the', 'it,', 'and', 'new', 'its', 'and', 'its', 'and', 'not', 'for', 'and', 'and', 'all', 'are', 'are', 'the', 'are', 'But', 'and', 'the', 'off', 'and', 'new', 'for', 'has', 'the', 'and', 'now', 'the', 'The', 'the', 'and', 'all', 'the', 'let', 'has', 'his', 'the', 'and', 'for', 'the', 'has', 'his', 'and', 'his', 'and', 'has', 'has', 'for', 'the', 'the', 'the', 'and', 'has', 'and', 'the', 'for', 'the', 'his', 'has', 'for', 'his', 'the', 'the', 'has', 'for', 'the', 'the', 'for', 'the', 'the', 'all', 'the', 'and', 'has', 'the', 'for', 'the', 'for', 'and', 'the', 'new', 'has', 'the', 'his', 'for', 'has', 'his', 'for', 'the', 'and', 'the', 'and', 'has', 'New', 'and', 'our', 'and', 'eat', 'out', 'has', 'us,', 'the', 'our', 'has', 'the', 'and', 'the', 'has', 'our', 'and', 'our', 'his', 'For', 'us:', 'For', 'for', 'any', 'the', 'For', 'off', 'our', 'all', 'the', 'For', 'our', 'For', 'the', 'For', 'for', 'For', 'the', 'and', 'its', 'and', 'fit', 'for', 'the', 'For', 'our', 'our', 'and', 'the', 'our', 'For', 'our', 'own', 'and', 'for', 'all', 'has', 'out', 'his', 'and', 'War', 'us.', 'has', 'our', 'our', 'our', 'and', 'the', 'our', 'the', 'and', 'the', 'and', 'the', 'has', 'our', 'the', 'the', 'and', 'has', 'us,', 'and', 'has', 'the', 'our', 'the', 'all', 'and', 'for', 'the', 'Our', 'act', 'may', 'the', 'Nor', 'our', 'us.', 'the', 'our', 'and', 'and', 'and', 'the', 'our', 'our', 'and', 'too', 'the', 'and', 'the', 'our', 'and', 'the', 'We,', 'the', 'the', 'the', 'the', 'for', 'the', 'our', 'do,', 'the', 'and', 'the', 'and', 'and', 'and', 'are', 'all', 'the', 'and', 'all', 'and', 'the', 'and', 'and', 'and', 'and', 'all', 'and', 'may', 'do.', 'And', 'for', 'the', 'the', 'our', 'our', 'and', 'our']\n",
      "9     : ['unanimous', 'necessary', 'political', 'connected', 'governed,', 'institute', 'Prudence,', 'transient', 'Colonies;', 'necessity', 'submitted', 'wholesome', 'necessary', 'forbidden', 'Governors', 'immediate', 'suspended', 'operation', 'obtained;', 'neglected', 'districts', 'fatiguing', 'measures.', 'dissolved', 'invasions', 'incapable', 'exercise;', 'remaining', 'encourage', 'Judiciary', 'dependent', 'salaries.', 'multitude', 'pretended', 'depriving', 'pretended', 'Province,', 'Arbitrary', 'enlarging', 'Colonies:', 'Charters,', 'declaring', 'legislate', 'abdicated', 'declaring', 'plundered', 'destroyed', 'barbarous', 'civilized', 'Brethren,', 'merciless', 'Petitions', 'character', 'brethren.', 'interrupt', 'acquiesce', 'denounces', 'Congress,', 'appealing', 'rectitude', 'Authority', 'Colonies,', 'political', 'establish', 'Commerce,']\n",
      "11    : ['Declaration', 'separation.', 'unalienable', 'Governments', 'destructive', 'Government,', 'Governments', 'established', 'accordingly', 'sufferable,', 'accustomed.', 'Government,', 'Government.', 'importance,', 'inestimable', 'legislative', 'repeatedly,', 'Legislative', 'convulsions', 'endeavoured', 'obstructing', 'Foreigners;', 'independent', 'Inhabitants', 'government,', 'introducing', 'whatsoever.', 'Mercenaries', 'constrained', 'endeavoured', 'inhabitants', 'destruction', 'conditions.', 'Oppressions', 'legislature', 'connections', 'Separation,', 'intentions,', 'Independent', 'Independent', 'Independent', 'Providence,']\n",
      "2     : ['of', 'of', 'in', 'of', 'it', 'to', 'to', 'of', 'to', 'of', 'of', 'to', 'of', 'to', 'We', 'to', 'be', 'by', 'of', 'to', 'of', 'of', 'of', 'it', 'is', 'of', 'to', 'or', 'to', 'to', 'on', 'in', 'as', 'to', 'to', 'be', 'to', 'to', 'by', 'to', 'of', 'to', 'it', 'is', 'it', 'is', 'to', 'to', 'of', 'is', 'to', 'of', 'of', 'of', 'is', 'of', 'in', 'of', 'an', 'To', 'be', 'to', 'He', 'to', 'He', 'to', 'of', 'in', 'be', 'so', 'he', 'to', 'to', 'He', 'to', 'of', 'of', 'of', 'in', 'to', 'to', 'He', 'at', 'of', 'of', 'He', 'on', 'of', 'He', 'to', 'to', 'be', 'of', 'to', 'at', 'in', 'to', 'of', 'He', 'to', 'of', 'of', 'to', 'to', 'of', 'of', 'He', 'of', 'by', 'to', 'He', 'on', 'of', 'of', 'He', 'of', 'of', 'to', 'He', 'in', 'of', 'of', 'He', 'to', 'of', 'to', 'He', 'to', 'us', 'to', 'to', 'by', 'to', 'of', 'of', 'by', 'on', 'of', 'of', 'on', 'us', 'us', 'in', 'of', 'of', 'by', 'us', 'to', 'be', 'of', 'in', 'an', 'so', 'as', 'to', 'it', 'at', 'an', 'of', 'to', 'us', 'in', 'He', 'by', 'us', 'of', 'He', 'of', 'He', 'is', 'at', 'of', 'to', 'of', 'of', 'in', 'of', 'He', 'on', 'to', 'to', 'of', 'or', 'to', 'by', 'He', 'to', 'on', 'of', 'of', 'is', 'an', 'of', 'In', 'of', 'We', 'in', 'by', 'is', 'by', 'is', 'to', 'be', 'of', 'We', 'in', 'to', 'We', 'to', 'of', 'by', 'to', 'an', 'We', 'of', 'of', 'We', 'to', 'we', 'by', 'of', 'to', 'to', 'of', 'of', 'We', 'in', 'as', 'we', 'of', 'in', 'in', 'of', 'of', 'in', 'to', 'of', 'of', 'in', 'by', 'of', 'of', 'of', 'to', 'be', 'to', 'of', 'is', 'to', 'be', 'as', 'to', 'to', 'do', 'of', 'of', 'on', 'of', 'we', 'to']\n",
      "8     : ['thirteen', 'America,', 'dissolve', 'another,', 'separate', \"Nature's\", 'opinions', 'requires', 'deriving', 'whenever', 'disposed', 'pursuing', 'absolute', 'repeated', 'injuries', 'absolute', 'pressing', 'together', 'unusual,', 'Records,', 'opposing', 'firmness', 'elected;', 'returned', 'invasion', 'without,', 'refusing', 'Justice,', 'refusing', 'offices,', 'Offices,', 'Officers', 'Standing', 'affected', 'Military', 'superior', 'combined', 'imposing', 'Consent:', 'benefits', 'offences', 'absolute', 'valuable', 'altering', 'invested', 'compleat', 'tyranny,', 'scarcely', 'unworthy', 'Citizens', 'Country,', 'domestic', 'Savages,', 'warfare,', 'repeated', 'answered', 'repeated', 'Brittish', 'attempts', 'reminded', 'appealed', 'conjured', 'mankind,', 'Friends.', 'America,', 'solemnly', 'declare,', 'Colonies', 'Absolved', 'Britain,', 'conclude', 'contract', 'reliance', 'mutually', 'Fortunes']\n",
      "6     : ['united', 'States', 'Course', 'people', 'assume', 'powers', 'earth,', 'Nature', 'decent', 'should', 'causes', 'truths', 'equal,', 'secure', 'powers', '--That', 'People', 'laying', 'powers', 'likely', 'effect', 'Safety', 'should', 'shewn,', 'abuses', 'Object', 'design', 'reduce', 'right,', 'Guards', 'future', 'former', 'having', 'direct', 'object', 'candid', 'world.', 'Assent', 'public', 'unless', 'Assent', 'should', 'attend', 'unless', 'people', 'called', 'bodies', 'places', 'public', 'Houses', 'rights', 'others', 'People', 'others', 'Lands.', 'Assent', 'Judges', 'alone,', 'tenure', 'amount', 'hither', 'swarms', 'peace,', 'Armies', 'render', 'power.', 'others', 'giving', 'Assent', 'bodies', 'troops', 'Trial,', 'should', 'commit', 'world:', 'cases,', 'beyond', 'System', 'render', 'taking', 'waging', 'towns,', 'Armies', 'death,', 'fellow', 'become', 'Hands.', 'Indian', 'humble', 'terms:', 'Prince', 'marked', 'define', 'warned', 'extend', 'native', 'common', 'which,', 'united', 'States', 'People', 'United', 'Crown,', 'Peace,', 'Things', 'States', 'divine', 'pledge', 'Lives,', 'sacred', 'Honor.']\n",
      "4     : ['When', 'have', 'them', 'with', 'Laws', 'that', 'they', 'them', 'hold', 'that', 'that', 'they', 'with', 'that', 'Men,', 'just', 'from', 'Form', 'such', 'such', 'them', 'seem', 'most', 'will', 'that', 'long', 'hath', 'that', 'more', 'than', 'they', 'when', 'long', 'same', 'them', 'such', 'been', 'such', 'them', 'King', 'over', 'most', 'pass', 'Laws', 'till', 'when', 'pass', 'Laws', 'them', 'from', 'sole', 'them', 'into', 'with', 'with', 'long', 'such', 'have', 'mean', 'time', 'from', 'that', 'Laws', 'pass', 'Laws', 'made', 'Will', 'sent', 'kept', 'with', 'Acts', 'mock', 'from', 'they', 'with', 'many', 'Seas', 'free', 'Laws', 'once', 'same', 'rule', 'into', 'away', 'most', 'with', 'this', 'time', 'with', 'most', 'Head', 'high', 'Seas', 'bear', 'Arms', 'fall', 'rule', 'have', 'most', 'have', 'been', 'only', 'thus', 'free', 'have', 'been', 'have', 'them', 'from', 'time', 'time', 'over', 'have', 'them', 'have', 'have', 'them', 'ties', 'They', 'have', 'been', 'deaf', 'hold', 'hold', 'rest', 'War,', 'good', 'That', 'are,', 'Free', 'that', 'they', 'from', 'that', 'them', 'that', 'Free', 'they', 'have', 'full', 'levy', 'War,', 'Acts', 'this', 'with', 'firm', 'each']\n",
      "5     : ['human', 'bands', 'which', 'among', 'equal', 'which', 'them,', 'which', 'impel', 'these', 'their', 'among', 'these', 'Life,', 'these', 'among', 'their', 'these', 'ends,', 'Right', 'alter', 'form,', 'shall', 'their', 'light', 'while', 'evils', 'right', 'forms', 'which', 'train', 'under', 'their', 'their', 'duty,', 'throw', 'their', 'these', 'which', 'alter', 'their', 'Great', 'these', 'prove', 'this,', 'Facts', 'Laws,', 'good.', 'their', 'them.', 'other', 'large', 'those', 'would', 'right', 'right', 'only.', 'their', 'manly', 'time,', 'after', 'cause', 'large', 'their', 'State', 'these', 'their', 'their', 'their', 'their', 'among', 'times', 'Civil', 'laws;', 'their', 'large', 'armed', 'among', 'them,', 'which', 'these', 'Trade', 'parts', 'Taxes', 'Trial', 'Jury:', 'tried', 'these', 'Laws,', 'Forms', 'power', 'cases', 'here,', 'seas,', 'burnt', 'lives', 'large', 'works', 'begun', 'ages,', 'taken', 'their', 'their', 'their', 'bring', 'whose', 'known', 'ages,', 'sexes', 'every', 'stage', 'these', 'whose', 'every', 'which', 'unfit', 'ruler', 'their', 'here.', 'their', 'these', 'would', 'voice', 'must,', 'which', 'them,', 'Peace', 'Judge', 'world', 'Name,', 'these', 'these', 'Right', 'ought', 'State', 'Great', 'ought', 'Power', 'other', 'which', 'right', 'other']\n",
      "7     : ['events,', 'becomes', 'station', 'entitle', 'respect', 'mankind', 'declare', 'created', 'endowed', 'Creator', 'certain', 'Rights,', 'Liberty', 'pursuit', 'rights,', 'consent', 'becomes', 'abolish', 'indeed,', 'dictate', 'changed', 'causes;', 'mankind', 'suffer,', 'evinces', 'provide', 'patient', 'Systems', 'history', 'present', 'Britain', 'history', 'Tyranny', 'States.', 'refused', 'utterly', 'refused', 'people,', 'tyrants', 'distant', 'purpose', 'people.', 'refused', 'whereby', 'powers,', 'exposed', 'dangers', 'within.', 'prevent', 'States;', 'purpose', 'hither,', 'raising', 'powers.', 'payment', 'erected', 'harrass', 'people,', 'without', 'Consent', 'subject', 'foreign', 'Murders', 'States:', 'cutting', 'without', 'English', 'therein', 'example', 'against', 'ravaged', 'Coasts,', 'people.', 'foreign', 'already', 'Cruelty', 'perfidy', 'totally', 'nation.', 'Captive', 'against', 'friends', 'excited', 'amongst', 'Redress', 'injury.', 'Tyrant,', 'people.', 'wanting', 'justice', 'kindred', 'disavow', 'justice', 'Enemies', 'General', 'Supreme', 'publish', 'States;', 'British', 'between', 'totally', 'States,', 'support']\n",
      "1     : ['a', 'a', 'a', 'a', 'a', 'a', 'a', 'a', 'a', 'a', 'a', '&', 'a', 'A', 'a', 'a', 'a']\n",
      "13    : ['self-evident,', 'establishment', 'accommodation', 'dissolutions,', 'Annihilation,', 'legislatures.', 'constitution,', 'fundamentally', 'Legislatures,', 'circumstances', 'insurrections', 'unwarrantable', 'circumstances']\n",
      "16    : ['Happiness.--That']\n",
      "10    : ['instituted', 'Government', 'foundation', 'principles', 'organizing', 'Happiness.', 'experience', 'themselves', 'abolishing', 'invariably', 'Despotism,', 'sufferance', 'constrains', 'suspended,', 'relinquish', 'formidable', 'depository', 'compliance', 'population', 'migrations', 'conditions', 'obstructed', 'substance.', 'Quartering', 'protecting', 'punishment', 'abolishing', 'Boundaries', 'instrument', 'abolishing', 'suspending', 'themselves', 'Government', 'Protection', 'desolation', 'paralleled', 'themselves', 'frontiers,', 'Petitioned', 'attentions', 'emigration', 'settlement', 'inevitably', 'therefore,', 'necessity,', 'therefore,', 'Assembled,', 'Allegiance', 'connection', 'dissolved;', 'Alliances,', 'protection']\n",
      "12    : ['usurpations,', 'usurpations,', 'Legislature,', 'establishing', 'jurisdiction', 'Legislation:', 'transporting', 'neighbouring', 'establishing', 'Governments:', 'transporting', 'executioners', 'jurisdiction', 'magnanimity,', 'usurpations,', 'Declaration,']\n",
      "15    : ['security.--Such', 'undistinguished', 'correspondence.', 'Representatives']\n",
      "14    : ['Representation', 'uncomfortable,', 'Representative', 'Naturalization', 'Appropriations', 'Administration', 'unacknowledged', 'consanguinity.']\n"
     ]
    }
   ],
   "source": [
    "# This is a solution to the exericse 8.4\n",
    "word_table = {}\n",
    "with open('declaration_of_independence.txt', 'r') as f:\n",
    "    for line in f:\n",
    "        line = line.rstrip()  # remove the trailing newline character\n",
    "        words = line.split()  # get a list of words from the string (line)\n",
    "        for word in words:\n",
    "            l = len(word)\n",
    "            if l in word_table:\n",
    "                word_table[l].append(word)\n",
    "            else:\n",
    "                word_table[l] = [word]\n",
    "\n",
    "# print the frequency_table dictionary\n",
    "for k in iter(word_table):\n",
    "    print('{:<5d} : {}'.format(k, word_table[k]))\n"
   ]
  },
  {
   "cell_type": "markdown",
   "metadata": {},
   "source": [
    "# 9 Sorting\n",
    "\n",
    "Function sorted() returnss a new sorted list from an iterable.\n",
    "\n",
    "# 9.1 Sorted Function\n",
    "\n",
    "A simple asending (default) sort is very easy for an iterable (e.g. list, dictionary)."
   ]
  },
  {
   "cell_type": "code",
   "execution_count": 152,
   "metadata": {},
   "outputs": [
    {
     "name": "stdout",
     "output_type": "stream",
     "text": [
      "after sorted(), l = [1, -1, 3, -3, 5, -5], sorted_l = [-5, -3, -1, 1, 3, 5]\n",
      "after sorted(), d = {'Tom': 30, 'May': 40}, sorted_d = ['May', 'Tom']\n",
      "after sorted(), d = {'Tom': 30, 'May': 40}, sorted_d = [('May', 40), ('Tom', 30)]\n"
     ]
    }
   ],
   "source": [
    "l = [1, -1, 3, -3, 5, -5]\n",
    "sorted_l = sorted(l)\n",
    "print('after sorted(), l = {}, sorted_l = {}'.format(l, sorted_l))\n",
    "d = {'Tom':30, 'May':40}\n",
    "sorted_d = sorted(d)\n",
    "print('after sorted(), d = {}, sorted_d = {}'.format(d, sorted_d))\n",
    "sorted_d = sorted(d.items())\n",
    "print('after sorted(), d = {}, sorted_d = {}'.format(d, sorted_d))"
   ]
  },
  {
   "cell_type": "markdown",
   "metadata": {},
   "source": [
    "# 9.2 Sorted Function with Key Parameter\n",
    "\n",
    "The sorted() function may have a key parameter to specify a function to be called on each element from the iterable and that function's output is used for comparison and sorting. The next exampl sort dictionary items by the length of keys by passing the len() function as the key paramter to the sorted() function."
   ]
  },
  {
   "cell_type": "code",
   "execution_count": 160,
   "metadata": {},
   "outputs": [
    {
     "name": "stdout",
     "output_type": "stream",
     "text": [
      "after sorted()\n",
      "d = {'Tom': 30, 'May': 40, 'Michael': 35, 'Peter': 20, 'Alex': 25, 'Alice': 15}\n",
      "sorted_d = [('Tom', 30), ('May', 40), ('Michael', 35), ('Peter', 20), ('Alex', 25), ('Alice', 15)]\n"
     ]
    }
   ],
   "source": [
    "d = {'Tom':30, 'May':40, 'Michael':35, 'Peter': 20, 'Alex':25, 'Alice': 15}\n",
    "sorted_d = sorted(d.items(), key = len) # sort the dictionary by the length of keys\n",
    "print('after sorted()')\n",
    "print('d = {}'.format(d))\n",
    "print('sorted_d = {}'.format(sorted_d))"
   ]
  },
  {
   "cell_type": "markdown",
   "metadata": {},
   "source": [
    "To sort a dicitionary items by the value, a lambda function can be passed to the sorted() function as the key parameter."
   ]
  },
  {
   "cell_type": "code",
   "execution_count": 161,
   "metadata": {},
   "outputs": [
    {
     "name": "stdout",
     "output_type": "stream",
     "text": [
      "after sorted()\n",
      "d = {'Tom': 30, 'May': 40, 'Michael': 35, 'Peter': 20, 'Alex': 25, 'Alice': 15}\n",
      "sorted_d = [('Alice', 15), ('Peter', 20), ('Alex', 25), ('Tom', 30), ('Michael', 35), ('May', 40)]\n"
     ]
    }
   ],
   "source": [
    "d = {'Tom':30, 'May':40, 'Michael':35, 'Peter': 20, 'Alex':25, 'Alice': 15}\n",
    "sorted_d = sorted(d.items(), key = lambda x:x[1]) # x[1] refers to the value element of a dictionary item\n",
    "print('after sorted()')\n",
    "print('d = {}'.format(d))\n",
    "print('sorted_d = {}'.format(sorted_d))"
   ]
  },
  {
   "cell_type": "markdown",
   "metadata": {},
   "source": [
    "# 9.3 Sorting Dicitonary Items by Their Values"
   ]
  },
  {
   "cell_type": "code",
   "execution_count": 165,
   "metadata": {},
   "outputs": [
    {
     "name": "stdout",
     "output_type": "stream",
     "text": [
      "unanimous            : 1\n",
      "Declaration          : 1\n",
      "thirteen             : 1\n",
      "When                 : 1\n",
      "Course               : 1\n",
      "human                : 1\n",
      "events,              : 1\n",
      "one                  : 1\n",
      "dissolve             : 1\n",
      "bands                : 1\n",
      "connected            : 1\n",
      "another,             : 1\n",
      "assume               : 1\n",
      "earth,               : 1\n",
      "separate             : 1\n",
      "equal                : 1\n",
      "station              : 1\n",
      "Nature               : 1\n",
      "Nature's             : 1\n",
      "God                  : 1\n",
      "entitle              : 1\n",
      "decent               : 1\n",
      "respect              : 1\n",
      "opinions             : 1\n",
      "requires             : 1\n",
      "declare              : 1\n",
      "causes               : 1\n",
      "impel                : 1\n",
      "separation.          : 1\n",
      "truths               : 1\n",
      "self-evident,        : 1\n",
      "men                  : 1\n",
      "created              : 1\n",
      "equal,               : 1\n",
      "endowed              : 1\n",
      "Creator              : 1\n",
      "certain              : 1\n",
      "unalienable          : 1\n",
      "Rights,              : 1\n",
      "Life,                : 1\n",
      "Liberty              : 1\n",
      "pursuit              : 1\n",
      "Happiness.--That     : 1\n",
      "secure               : 1\n",
      "rights,              : 1\n",
      "instituted           : 1\n",
      "Men,                 : 1\n",
      "deriving             : 1\n",
      "just                 : 1\n",
      "consent              : 1\n",
      "governed,            : 1\n",
      "--That               : 1\n",
      "whenever             : 1\n",
      "Form                 : 1\n",
      "destructive          : 1\n",
      "ends,                : 1\n",
      "abolish              : 1\n",
      "it,                  : 1\n",
      "institute            : 1\n",
      "laying               : 1\n",
      "foundation           : 1\n",
      "principles           : 1\n",
      "organizing           : 1\n",
      "form,                : 1\n",
      "shall                : 1\n",
      "seem                 : 1\n",
      "likely               : 1\n",
      "effect               : 1\n",
      "Safety               : 1\n",
      "Happiness.           : 1\n",
      "Prudence,            : 1\n",
      "indeed,              : 1\n",
      "will                 : 1\n",
      "dictate              : 1\n",
      "established          : 1\n",
      "not                  : 1\n",
      "changed              : 1\n",
      "light                : 1\n",
      "transient            : 1\n",
      "causes;              : 1\n",
      "accordingly          : 1\n",
      "experience           : 1\n",
      "hath                 : 1\n",
      "shewn,               : 1\n",
      "more                 : 1\n",
      "disposed             : 1\n",
      "suffer,              : 1\n",
      "while                : 1\n",
      "evils                : 1\n",
      "sufferable,          : 1\n",
      "than                 : 1\n",
      "forms                : 1\n",
      "accustomed.          : 1\n",
      "But                  : 1\n",
      "train                : 1\n",
      "abuses               : 1\n",
      "pursuing             : 1\n",
      "invariably           : 1\n",
      "Object               : 1\n",
      "evinces              : 1\n",
      "design               : 1\n",
      "reduce               : 1\n",
      "under                : 1\n",
      "Despotism,           : 1\n",
      "right,               : 1\n",
      "duty,                : 1\n",
      "throw                : 1\n",
      "provide              : 1\n",
      "Guards               : 1\n",
      "future               : 1\n",
      "security.--Such      : 1\n",
      "patient              : 1\n",
      "sufferance           : 1\n",
      "Colonies;            : 1\n",
      "now                  : 1\n",
      "necessity            : 1\n",
      "constrains           : 1\n",
      "former               : 1\n",
      "Systems              : 1\n",
      "Government.          : 1\n",
      "present              : 1\n",
      "King                 : 1\n",
      "Britain              : 1\n",
      "injuries             : 1\n",
      "having               : 1\n",
      "direct               : 1\n",
      "object               : 1\n",
      "establishment        : 1\n",
      "Tyranny              : 1\n",
      "States.              : 1\n",
      "To                   : 1\n",
      "prove                : 1\n",
      "this,                : 1\n",
      "let                  : 1\n",
      "Facts                : 1\n",
      "submitted            : 1\n",
      "candid               : 1\n",
      "world.               : 1\n",
      "wholesome            : 1\n",
      "good.                : 1\n",
      "forbidden            : 1\n",
      "Governors            : 1\n",
      "immediate            : 1\n",
      "pressing             : 1\n",
      "importance,          : 1\n",
      "suspended            : 1\n",
      "operation            : 1\n",
      "till                 : 1\n",
      "obtained;            : 1\n",
      "suspended,           : 1\n",
      "he                   : 1\n",
      "utterly              : 1\n",
      "neglected            : 1\n",
      "attend               : 1\n",
      "them.                : 1\n",
      "accommodation        : 1\n",
      "districts            : 1\n",
      "those                : 1\n",
      "relinquish           : 1\n",
      "Representation       : 1\n",
      "Legislature,         : 1\n",
      "inestimable          : 1\n",
      "formidable           : 1\n",
      "tyrants              : 1\n",
      "only.                : 1\n",
      "called               : 1\n",
      "together             : 1\n",
      "legislative          : 1\n",
      "places               : 1\n",
      "unusual,             : 1\n",
      "uncomfortable,       : 1\n",
      "distant              : 1\n",
      "depository           : 1\n",
      "Records,             : 1\n",
      "sole                 : 1\n",
      "fatiguing            : 1\n",
      "compliance           : 1\n",
      "measures.            : 1\n",
      "dissolved            : 1\n",
      "Representative       : 1\n",
      "Houses               : 1\n",
      "repeatedly,          : 1\n",
      "opposing             : 1\n",
      "manly                : 1\n",
      "firmness             : 1\n",
      "invasions            : 1\n",
      "rights               : 1\n",
      "time,                : 1\n",
      "after                : 1\n",
      "dissolutions,        : 1\n",
      "cause                : 1\n",
      "elected;             : 1\n",
      "whereby              : 1\n",
      "Legislative          : 1\n",
      "powers,              : 1\n",
      "incapable            : 1\n",
      "Annihilation,        : 1\n",
      "returned             : 1\n",
      "exercise;            : 1\n",
      "remaining            : 1\n",
      "mean                 : 1\n",
      "exposed              : 1\n",
      "dangers              : 1\n",
      "invasion             : 1\n",
      "without,             : 1\n",
      "convulsions          : 1\n",
      "within.              : 1\n",
      "prevent              : 1\n",
      "population           : 1\n",
      "obstructing          : 1\n",
      "Naturalization       : 1\n",
      "Foreigners;          : 1\n",
      "encourage            : 1\n",
      "migrations           : 1\n",
      "hither,              : 1\n",
      "raising              : 1\n",
      "conditions           : 1\n",
      "Appropriations       : 1\n",
      "Lands.               : 1\n",
      "obstructed           : 1\n",
      "Administration       : 1\n",
      "Justice,             : 1\n",
      "Judiciary            : 1\n",
      "powers.              : 1\n",
      "made                 : 1\n",
      "Judges               : 1\n",
      "dependent            : 1\n",
      "Will                 : 1\n",
      "alone,               : 1\n",
      "tenure               : 1\n",
      "offices,             : 1\n",
      "amount               : 1\n",
      "payment              : 1\n",
      "salaries.            : 1\n",
      "erected              : 1\n",
      "multitude            : 1\n",
      "New                  : 1\n",
      "Offices,             : 1\n",
      "sent                 : 1\n",
      "hither               : 1\n",
      "swarms               : 1\n",
      "Officers             : 1\n",
      "harrass              : 1\n",
      "eat                  : 1\n",
      "substance.           : 1\n",
      "kept                 : 1\n",
      "times                : 1\n",
      "peace,               : 1\n",
      "Standing             : 1\n",
      "Consent              : 1\n",
      "legislatures.        : 1\n",
      "affected             : 1\n",
      "Military             : 1\n",
      "independent          : 1\n",
      "superior             : 1\n",
      "Civil                : 1\n",
      "power.               : 1\n",
      "combined             : 1\n",
      "subject              : 1\n",
      "constitution,        : 1\n",
      "unacknowledged       : 1\n",
      "laws;                : 1\n",
      "giving               : 1\n",
      "Legislation:         : 1\n",
      "Quartering           : 1\n",
      "armed                : 1\n",
      "troops               : 1\n",
      "us:                  : 1\n",
      "protecting           : 1\n",
      "mock                 : 1\n",
      "Trial,               : 1\n",
      "punishment           : 1\n",
      "Murders              : 1\n",
      "commit               : 1\n",
      "Inhabitants          : 1\n",
      "States:              : 1\n",
      "cutting              : 1\n",
      "Trade                : 1\n",
      "parts                : 1\n",
      "world:               : 1\n",
      "imposing             : 1\n",
      "Taxes                : 1\n",
      "Consent:             : 1\n",
      "depriving            : 1\n",
      "many                 : 1\n",
      "cases,               : 1\n",
      "benefits             : 1\n",
      "Trial                : 1\n",
      "Jury:                : 1\n",
      "beyond               : 1\n",
      "tried                : 1\n",
      "offences             : 1\n",
      "System               : 1\n",
      "English              : 1\n",
      "neighbouring         : 1\n",
      "Province,            : 1\n",
      "therein              : 1\n",
      "Arbitrary            : 1\n",
      "government,          : 1\n",
      "enlarging            : 1\n",
      "Boundaries           : 1\n",
      "once                 : 1\n",
      "example              : 1\n",
      "fit                  : 1\n",
      "instrument           : 1\n",
      "introducing          : 1\n",
      "Colonies:            : 1\n",
      "taking               : 1\n",
      "away                 : 1\n",
      "Charters,            : 1\n",
      "valuable             : 1\n",
      "altering             : 1\n",
      "fundamentally        : 1\n",
      "Forms                : 1\n",
      "Governments:         : 1\n",
      "suspending           : 1\n",
      "own                  : 1\n",
      "Legislatures,        : 1\n",
      "invested             : 1\n",
      "power                : 1\n",
      "legislate            : 1\n",
      "cases                : 1\n",
      "whatsoever.          : 1\n",
      "abdicated            : 1\n",
      "here,                : 1\n",
      "Protection           : 1\n",
      "waging               : 1\n",
      "War                  : 1\n",
      "plundered            : 1\n",
      "seas,                : 1\n",
      "ravaged              : 1\n",
      "Coasts,              : 1\n",
      "burnt                : 1\n",
      "towns,               : 1\n",
      "destroyed            : 1\n",
      "lives                : 1\n",
      "Mercenaries          : 1\n",
      "compleat             : 1\n",
      "works                : 1\n",
      "death,               : 1\n",
      "desolation           : 1\n",
      "tyranny,             : 1\n",
      "already              : 1\n",
      "begun                : 1\n",
      "Cruelty              : 1\n",
      "&                    : 1\n",
      "perfidy              : 1\n",
      "scarcely             : 1\n",
      "paralleled           : 1\n",
      "barbarous            : 1\n",
      "unworthy             : 1\n",
      "Head                 : 1\n",
      "civilized            : 1\n",
      "nation.              : 1\n",
      "constrained          : 1\n",
      "fellow               : 1\n",
      "Citizens             : 1\n",
      "taken                : 1\n",
      "Captive              : 1\n",
      "high                 : 1\n",
      "bear                 : 1\n",
      "Arms                 : 1\n",
      "Country,             : 1\n",
      "become               : 1\n",
      "executioners         : 1\n",
      "friends              : 1\n",
      "Brethren,            : 1\n",
      "fall                 : 1\n",
      "Hands.               : 1\n",
      "excited              : 1\n",
      "domestic             : 1\n",
      "insurrections        : 1\n",
      "amongst              : 1\n",
      "bring                : 1\n",
      "inhabitants          : 1\n",
      "frontiers,           : 1\n",
      "merciless            : 1\n",
      "Indian               : 1\n",
      "Savages,             : 1\n",
      "known                : 1\n",
      "warfare,             : 1\n",
      "undistinguished      : 1\n",
      "destruction          : 1\n",
      "sexes                : 1\n",
      "conditions.          : 1\n",
      "In                   : 1\n",
      "stage                : 1\n",
      "Oppressions          : 1\n",
      "Petitioned           : 1\n",
      "Redress              : 1\n",
      "humble               : 1\n",
      "terms:               : 1\n",
      "Our                  : 1\n",
      "Petitions            : 1\n",
      "answered             : 1\n",
      "only                 : 1\n",
      "injury.              : 1\n",
      "A                    : 1\n",
      "Prince               : 1\n",
      "character            : 1\n",
      "thus                 : 1\n",
      "marked               : 1\n",
      "act                  : 1\n",
      "define               : 1\n",
      "Tyrant,              : 1\n",
      "unfit                : 1\n",
      "ruler                : 1\n",
      "Nor                  : 1\n",
      "wanting              : 1\n",
      "attentions           : 1\n",
      "Brittish             : 1\n",
      "brethren.            : 1\n",
      "warned               : 1\n",
      "attempts             : 1\n",
      "legislature          : 1\n",
      "extend               : 1\n",
      "unwarrantable        : 1\n",
      "reminded             : 1\n",
      "emigration           : 1\n",
      "settlement           : 1\n",
      "here.                : 1\n",
      "appealed             : 1\n",
      "native               : 1\n",
      "magnanimity,         : 1\n",
      "conjured             : 1\n",
      "ties                 : 1\n",
      "common               : 1\n",
      "kindred              : 1\n",
      "disavow              : 1\n",
      "which,               : 1\n",
      "inevitably           : 1\n",
      "interrupt            : 1\n",
      "connections          : 1\n",
      "correspondence.      : 1\n",
      "They                 : 1\n",
      "too                  : 1\n",
      "deaf                 : 1\n",
      "voice                : 1\n",
      "consanguinity.       : 1\n",
      "must,                : 1\n",
      "acquiesce            : 1\n",
      "necessity,           : 1\n",
      "denounces            : 1\n",
      "Separation,          : 1\n",
      "rest                 : 1\n",
      "mankind,             : 1\n",
      "Enemies              : 1\n",
      "Peace                : 1\n",
      "Friends.             : 1\n",
      "We,                  : 1\n",
      "Representatives      : 1\n",
      "General              : 1\n",
      "Congress,            : 1\n",
      "Assembled,           : 1\n",
      "appealing            : 1\n",
      "Supreme              : 1\n",
      "Judge                : 1\n",
      "world                : 1\n",
      "rectitude            : 1\n",
      "intentions,          : 1\n",
      "do,                  : 1\n",
      "Name,                : 1\n",
      "Authority            : 1\n",
      "good                 : 1\n",
      "Colonies,            : 1\n",
      "solemnly             : 1\n",
      "publish              : 1\n",
      "declare,             : 1\n",
      "That                 : 1\n",
      "United               : 1\n",
      "Colonies             : 1\n",
      "are,                 : 1\n",
      "Absolved             : 1\n",
      "Allegiance           : 1\n",
      "British              : 1\n",
      "Crown,               : 1\n",
      "connection           : 1\n",
      "between              : 1\n",
      "Britain,             : 1\n",
      "dissolved;           : 1\n",
      "States,              : 1\n",
      "full                 : 1\n",
      "Power                : 1\n",
      "levy                 : 1\n",
      "conclude             : 1\n",
      "Peace,               : 1\n",
      "contract             : 1\n",
      "Alliances,           : 1\n",
      "establish            : 1\n",
      "Commerce,            : 1\n",
      "do                   : 1\n",
      "Things               : 1\n",
      "do.                  : 1\n",
      "And                  : 1\n",
      "support              : 1\n",
      "Declaration,         : 1\n",
      "firm                 : 1\n",
      "reliance             : 1\n",
      "protection           : 1\n",
      "divine               : 1\n",
      "Providence,          : 1\n",
      "mutually             : 1\n",
      "pledge               : 1\n",
      "each                 : 1\n",
      "Lives,               : 1\n",
      "Fortunes             : 1\n",
      "sacred               : 1\n",
      "Honor.               : 1\n",
      "The                  : 2\n",
      "united               : 2\n",
      "America,             : 2\n",
      "becomes              : 2\n",
      "necessary            : 2\n",
      "people               : 2\n",
      "political            : 2\n",
      "mankind              : 2\n",
      "Governments          : 2\n",
      "any                  : 2\n",
      "Government           : 2\n",
      "Right                : 2\n",
      "alter                : 2\n",
      "or                   : 2\n",
      "Government,          : 2\n",
      "when                 : 2\n",
      "same                 : 2\n",
      "off                  : 2\n",
      "history              : 2\n",
      "Great                : 2\n",
      "over                 : 2\n",
      "Laws,                : 2\n",
      "public               : 2\n",
      "unless               : 2\n",
      "so                   : 2\n",
      "people,              : 2\n",
      "would                : 2\n",
      "bodies               : 2\n",
      "purpose              : 2\n",
      "into                 : 2\n",
      "State                : 2\n",
      "endeavoured          : 2\n",
      "States;              : 2\n",
      "refusing             : 2\n",
      "establishing         : 2\n",
      "out                  : 2\n",
      "us,                  : 2\n",
      "Armies               : 2\n",
      "without              : 2\n",
      "render               : 2\n",
      "jurisdiction         : 2\n",
      "foreign              : 2\n",
      "Acts                 : 2\n",
      "pretended            : 2\n",
      "transporting         : 2\n",
      "Seas                 : 2\n",
      "free                 : 2\n",
      "rule                 : 2\n",
      "declaring            : 2\n",
      "against              : 2\n",
      "us.                  : 2\n",
      "this                 : 2\n",
      "circumstances        : 2\n",
      "ages,                : 2\n",
      "totally              : 2\n",
      "whose                : 2\n",
      "every                : 2\n",
      "may                  : 2\n",
      "justice              : 2\n",
      "therefore,           : 2\n",
      "War,                 : 2\n",
      "ought                : 2\n",
      "Free                 : 2\n",
      "States               : 3\n",
      "powers               : 3\n",
      "them,                : 3\n",
      "hold                 : 3\n",
      "People               : 3\n",
      "new                  : 3\n",
      "its                  : 3\n",
      "long                 : 3\n",
      "themselves           : 3\n",
      "abolishing           : 3\n",
      "usurpations,         : 3\n",
      "absolute             : 3\n",
      "repeated             : 3\n",
      "refused              : 3\n",
      "pass                 : 3\n",
      "other                : 3\n",
      "people.              : 3\n",
      "others               : 3\n",
      "we                   : 3\n",
      "Independent          : 3\n",
      "should               : 4\n",
      "as                   : 4\n",
      "right                : 4\n",
      "been                 : 4\n",
      "Assent               : 4\n",
      "large                : 4\n",
      "at                   : 4\n",
      "time                 : 4\n",
      "it                   : 5\n",
      "among                : 5\n",
      "such                 : 5\n",
      "most                 : 5\n",
      "an                   : 5\n",
      "Laws                 : 6\n",
      "they                 : 6\n",
      "from                 : 6\n",
      "us                   : 6\n",
      "We                   : 7\n",
      "are                  : 8\n",
      "on                   : 8\n",
      "which                : 9\n",
      "with                 : 9\n",
      "be                   : 9\n",
      "his                  : 9\n",
      "For                  : 9\n",
      "that                 : 10\n",
      "all                  : 10\n",
      "is                   : 10\n",
      "have                 : 11\n",
      "them                 : 11\n",
      "these                : 13\n",
      "by                   : 13\n",
      "a                    : 15\n",
      "in                   : 18\n",
      "He                   : 18\n",
      "for                  : 20\n",
      "their                : 20\n",
      "has                  : 20\n",
      "our                  : 25\n",
      "and                  : 55\n",
      "to                   : 64\n",
      "the                  : 76\n",
      "of                   : 78\n"
     ]
    }
   ],
   "source": [
    "frequency_table = {}\n",
    "with open('declaration_of_independence.txt', 'r') as f:\n",
    "    for line in f:\n",
    "        line = line.rstrip()  # remove the trailing newline character\n",
    "        words = line.split()  # get a list of words from the string (line)\n",
    "        for word in words:\n",
    "            if word in frequency_table:\n",
    "                frequency_table[word] += 1\n",
    "            else:\n",
    "                frequency_table[word] = 1\n",
    "\n",
    "# print the frequency_table dictionary\n",
    "sorted_table = sorted(frequency_table.items(), key = lambda x: x[1])\n",
    "for k, v in sorted_table:\n",
    "    print('{:<20s} : {}'.format(k, v))"
   ]
  },
  {
   "cell_type": "markdown",
   "metadata": {},
   "source": [
    "# 9.4 Exercise: Group Words by Length and Display Word Groups in Order by Their Word Length\n",
    "\n",
    "Modify your solution to exercise 8.4 to display those word groups by their word length. That is, a group of words whose length is shorter is displayed before any group of words whose length is longer."
   ]
  },
  {
   "cell_type": "code",
   "execution_count": null,
   "metadata": {
    "collapsed": true
   },
   "outputs": [],
   "source": [
    "# Your program for exericse 9.4 starts here\n",
    "\n",
    "\n",
    "\n",
    "\n",
    "\n",
    "\n"
   ]
  },
  {
   "cell_type": "code",
   "execution_count": 193,
   "metadata": {},
   "outputs": [
    {
     "name": "stdout",
     "output_type": "stream",
     "text": [
      "1     : ['a', 'a', 'a', 'a', 'a', 'a', 'a', 'a', 'a', 'a', 'a', '&', 'a', 'A', 'a', 'a', 'a']\n",
      "2     : ['of', 'of', 'in', 'of', 'it', 'to', 'to', 'of', 'to', 'of', 'of', 'to', 'of', 'to', 'We', 'to', 'be', 'by', 'of', 'to', 'of', 'of', 'of', 'it', 'is', 'of', 'to', 'or', 'to', 'to', 'on', 'in', 'as', 'to', 'to', 'be', 'to', 'to', 'by', 'to', 'of', 'to', 'it', 'is', 'it', 'is', 'to', 'to', 'of', 'is', 'to', 'of', 'of', 'of', 'is', 'of', 'in', 'of', 'an', 'To', 'be', 'to', 'He', 'to', 'He', 'to', 'of', 'in', 'be', 'so', 'he', 'to', 'to', 'He', 'to', 'of', 'of', 'of', 'in', 'to', 'to', 'He', 'at', 'of', 'of', 'He', 'on', 'of', 'He', 'to', 'to', 'be', 'of', 'to', 'at', 'in', 'to', 'of', 'He', 'to', 'of', 'of', 'to', 'to', 'of', 'of', 'He', 'of', 'by', 'to', 'He', 'on', 'of', 'of', 'He', 'of', 'of', 'to', 'He', 'in', 'of', 'of', 'He', 'to', 'of', 'to', 'He', 'to', 'us', 'to', 'to', 'by', 'to', 'of', 'of', 'by', 'on', 'of', 'of', 'on', 'us', 'us', 'in', 'of', 'of', 'by', 'us', 'to', 'be', 'of', 'in', 'an', 'so', 'as', 'to', 'it', 'at', 'an', 'of', 'to', 'us', 'in', 'He', 'by', 'us', 'of', 'He', 'of', 'He', 'is', 'at', 'of', 'to', 'of', 'of', 'in', 'of', 'He', 'on', 'to', 'to', 'of', 'or', 'to', 'by', 'He', 'to', 'on', 'of', 'of', 'is', 'an', 'of', 'In', 'of', 'We', 'in', 'by', 'is', 'by', 'is', 'to', 'be', 'of', 'We', 'in', 'to', 'We', 'to', 'of', 'by', 'to', 'an', 'We', 'of', 'of', 'We', 'to', 'we', 'by', 'of', 'to', 'to', 'of', 'of', 'We', 'in', 'as', 'we', 'of', 'in', 'in', 'of', 'of', 'in', 'to', 'of', 'of', 'in', 'by', 'of', 'of', 'of', 'to', 'be', 'to', 'of', 'is', 'to', 'be', 'as', 'to', 'to', 'do', 'of', 'of', 'on', 'of', 'we', 'to']\n",
      "3     : ['The', 'the', 'the', 'for', 'one', 'the', 'and', 'the', 'the', 'the', 'and', 'the', 'and', 'God', 'the', 'the', 'the', 'all', 'men', 'are', 'are', 'are', 'and', 'the', 'are', 'the', 'the', 'any', 'the', 'the', 'it,', 'and', 'new', 'its', 'and', 'its', 'and', 'not', 'for', 'and', 'and', 'all', 'are', 'are', 'the', 'are', 'But', 'and', 'the', 'off', 'and', 'new', 'for', 'has', 'the', 'and', 'now', 'the', 'The', 'the', 'and', 'all', 'the', 'let', 'has', 'his', 'the', 'and', 'for', 'the', 'has', 'his', 'and', 'his', 'and', 'has', 'has', 'for', 'the', 'the', 'the', 'and', 'has', 'and', 'the', 'for', 'the', 'his', 'has', 'for', 'his', 'the', 'the', 'has', 'for', 'the', 'the', 'for', 'the', 'the', 'all', 'the', 'and', 'has', 'the', 'for', 'the', 'for', 'and', 'the', 'new', 'has', 'the', 'his', 'for', 'has', 'his', 'for', 'the', 'and', 'the', 'and', 'has', 'New', 'and', 'our', 'and', 'eat', 'out', 'has', 'us,', 'the', 'our', 'has', 'the', 'and', 'the', 'has', 'our', 'and', 'our', 'his', 'For', 'us:', 'For', 'for', 'any', 'the', 'For', 'off', 'our', 'all', 'the', 'For', 'our', 'For', 'the', 'For', 'for', 'For', 'the', 'and', 'its', 'and', 'fit', 'for', 'the', 'For', 'our', 'our', 'and', 'the', 'our', 'For', 'our', 'own', 'and', 'for', 'all', 'has', 'out', 'his', 'and', 'War', 'us.', 'has', 'our', 'our', 'our', 'and', 'the', 'our', 'the', 'and', 'the', 'and', 'the', 'has', 'our', 'the', 'the', 'and', 'has', 'us,', 'and', 'has', 'the', 'our', 'the', 'all', 'and', 'for', 'the', 'Our', 'act', 'may', 'the', 'Nor', 'our', 'us.', 'the', 'our', 'and', 'and', 'and', 'the', 'our', 'our', 'and', 'too', 'the', 'and', 'the', 'our', 'and', 'the', 'We,', 'the', 'the', 'the', 'the', 'for', 'the', 'our', 'do,', 'the', 'and', 'the', 'and', 'and', 'and', 'are', 'all', 'the', 'and', 'all', 'and', 'the', 'and', 'and', 'and', 'and', 'all', 'and', 'may', 'do.', 'And', 'for', 'the', 'the', 'our', 'our', 'and', 'our']\n",
      "4     : ['When', 'have', 'them', 'with', 'Laws', 'that', 'they', 'them', 'hold', 'that', 'that', 'they', 'with', 'that', 'Men,', 'just', 'from', 'Form', 'such', 'such', 'them', 'seem', 'most', 'will', 'that', 'long', 'hath', 'that', 'more', 'than', 'they', 'when', 'long', 'same', 'them', 'such', 'been', 'such', 'them', 'King', 'over', 'most', 'pass', 'Laws', 'till', 'when', 'pass', 'Laws', 'them', 'from', 'sole', 'them', 'into', 'with', 'with', 'long', 'such', 'have', 'mean', 'time', 'from', 'that', 'Laws', 'pass', 'Laws', 'made', 'Will', 'sent', 'kept', 'with', 'Acts', 'mock', 'from', 'they', 'with', 'many', 'Seas', 'free', 'Laws', 'once', 'same', 'rule', 'into', 'away', 'most', 'with', 'this', 'time', 'with', 'most', 'Head', 'high', 'Seas', 'bear', 'Arms', 'fall', 'rule', 'have', 'most', 'have', 'been', 'only', 'thus', 'free', 'have', 'been', 'have', 'them', 'from', 'time', 'time', 'over', 'have', 'them', 'have', 'have', 'them', 'ties', 'They', 'have', 'been', 'deaf', 'hold', 'hold', 'rest', 'War,', 'good', 'That', 'are,', 'Free', 'that', 'they', 'from', 'that', 'them', 'that', 'Free', 'they', 'have', 'full', 'levy', 'War,', 'Acts', 'this', 'with', 'firm', 'each']\n",
      "5     : ['human', 'bands', 'which', 'among', 'equal', 'which', 'them,', 'which', 'impel', 'these', 'their', 'among', 'these', 'Life,', 'these', 'among', 'their', 'these', 'ends,', 'Right', 'alter', 'form,', 'shall', 'their', 'light', 'while', 'evils', 'right', 'forms', 'which', 'train', 'under', 'their', 'their', 'duty,', 'throw', 'their', 'these', 'which', 'alter', 'their', 'Great', 'these', 'prove', 'this,', 'Facts', 'Laws,', 'good.', 'their', 'them.', 'other', 'large', 'those', 'would', 'right', 'right', 'only.', 'their', 'manly', 'time,', 'after', 'cause', 'large', 'their', 'State', 'these', 'their', 'their', 'their', 'their', 'among', 'times', 'Civil', 'laws;', 'their', 'large', 'armed', 'among', 'them,', 'which', 'these', 'Trade', 'parts', 'Taxes', 'Trial', 'Jury:', 'tried', 'these', 'Laws,', 'Forms', 'power', 'cases', 'here,', 'seas,', 'burnt', 'lives', 'large', 'works', 'begun', 'ages,', 'taken', 'their', 'their', 'their', 'bring', 'whose', 'known', 'ages,', 'sexes', 'every', 'stage', 'these', 'whose', 'every', 'which', 'unfit', 'ruler', 'their', 'here.', 'their', 'these', 'would', 'voice', 'must,', 'which', 'them,', 'Peace', 'Judge', 'world', 'Name,', 'these', 'these', 'Right', 'ought', 'State', 'Great', 'ought', 'Power', 'other', 'which', 'right', 'other']\n",
      "6     : ['united', 'States', 'Course', 'people', 'assume', 'powers', 'earth,', 'Nature', 'decent', 'should', 'causes', 'truths', 'equal,', 'secure', 'powers', '--That', 'People', 'laying', 'powers', 'likely', 'effect', 'Safety', 'should', 'shewn,', 'abuses', 'Object', 'design', 'reduce', 'right,', 'Guards', 'future', 'former', 'having', 'direct', 'object', 'candid', 'world.', 'Assent', 'public', 'unless', 'Assent', 'should', 'attend', 'unless', 'people', 'called', 'bodies', 'places', 'public', 'Houses', 'rights', 'others', 'People', 'others', 'Lands.', 'Assent', 'Judges', 'alone,', 'tenure', 'amount', 'hither', 'swarms', 'peace,', 'Armies', 'render', 'power.', 'others', 'giving', 'Assent', 'bodies', 'troops', 'Trial,', 'should', 'commit', 'world:', 'cases,', 'beyond', 'System', 'render', 'taking', 'waging', 'towns,', 'Armies', 'death,', 'fellow', 'become', 'Hands.', 'Indian', 'humble', 'terms:', 'Prince', 'marked', 'define', 'warned', 'extend', 'native', 'common', 'which,', 'united', 'States', 'People', 'United', 'Crown,', 'Peace,', 'Things', 'States', 'divine', 'pledge', 'Lives,', 'sacred', 'Honor.']\n",
      "7     : ['events,', 'becomes', 'station', 'entitle', 'respect', 'mankind', 'declare', 'created', 'endowed', 'Creator', 'certain', 'Rights,', 'Liberty', 'pursuit', 'rights,', 'consent', 'becomes', 'abolish', 'indeed,', 'dictate', 'changed', 'causes;', 'mankind', 'suffer,', 'evinces', 'provide', 'patient', 'Systems', 'history', 'present', 'Britain', 'history', 'Tyranny', 'States.', 'refused', 'utterly', 'refused', 'people,', 'tyrants', 'distant', 'purpose', 'people.', 'refused', 'whereby', 'powers,', 'exposed', 'dangers', 'within.', 'prevent', 'States;', 'purpose', 'hither,', 'raising', 'powers.', 'payment', 'erected', 'harrass', 'people,', 'without', 'Consent', 'subject', 'foreign', 'Murders', 'States:', 'cutting', 'without', 'English', 'therein', 'example', 'against', 'ravaged', 'Coasts,', 'people.', 'foreign', 'already', 'Cruelty', 'perfidy', 'totally', 'nation.', 'Captive', 'against', 'friends', 'excited', 'amongst', 'Redress', 'injury.', 'Tyrant,', 'people.', 'wanting', 'justice', 'kindred', 'disavow', 'justice', 'Enemies', 'General', 'Supreme', 'publish', 'States;', 'British', 'between', 'totally', 'States,', 'support']\n",
      "8     : ['thirteen', 'America,', 'dissolve', 'another,', 'separate', \"Nature's\", 'opinions', 'requires', 'deriving', 'whenever', 'disposed', 'pursuing', 'absolute', 'repeated', 'injuries', 'absolute', 'pressing', 'together', 'unusual,', 'Records,', 'opposing', 'firmness', 'elected;', 'returned', 'invasion', 'without,', 'refusing', 'Justice,', 'refusing', 'offices,', 'Offices,', 'Officers', 'Standing', 'affected', 'Military', 'superior', 'combined', 'imposing', 'Consent:', 'benefits', 'offences', 'absolute', 'valuable', 'altering', 'invested', 'compleat', 'tyranny,', 'scarcely', 'unworthy', 'Citizens', 'Country,', 'domestic', 'Savages,', 'warfare,', 'repeated', 'answered', 'repeated', 'Brittish', 'attempts', 'reminded', 'appealed', 'conjured', 'mankind,', 'Friends.', 'America,', 'solemnly', 'declare,', 'Colonies', 'Absolved', 'Britain,', 'conclude', 'contract', 'reliance', 'mutually', 'Fortunes']\n",
      "9     : ['unanimous', 'necessary', 'political', 'connected', 'governed,', 'institute', 'Prudence,', 'transient', 'Colonies;', 'necessity', 'submitted', 'wholesome', 'necessary', 'forbidden', 'Governors', 'immediate', 'suspended', 'operation', 'obtained;', 'neglected', 'districts', 'fatiguing', 'measures.', 'dissolved', 'invasions', 'incapable', 'exercise;', 'remaining', 'encourage', 'Judiciary', 'dependent', 'salaries.', 'multitude', 'pretended', 'depriving', 'pretended', 'Province,', 'Arbitrary', 'enlarging', 'Colonies:', 'Charters,', 'declaring', 'legislate', 'abdicated', 'declaring', 'plundered', 'destroyed', 'barbarous', 'civilized', 'Brethren,', 'merciless', 'Petitions', 'character', 'brethren.', 'interrupt', 'acquiesce', 'denounces', 'Congress,', 'appealing', 'rectitude', 'Authority', 'Colonies,', 'political', 'establish', 'Commerce,']\n",
      "10    : ['instituted', 'Government', 'foundation', 'principles', 'organizing', 'Happiness.', 'experience', 'themselves', 'abolishing', 'invariably', 'Despotism,', 'sufferance', 'constrains', 'suspended,', 'relinquish', 'formidable', 'depository', 'compliance', 'population', 'migrations', 'conditions', 'obstructed', 'substance.', 'Quartering', 'protecting', 'punishment', 'abolishing', 'Boundaries', 'instrument', 'abolishing', 'suspending', 'themselves', 'Government', 'Protection', 'desolation', 'paralleled', 'themselves', 'frontiers,', 'Petitioned', 'attentions', 'emigration', 'settlement', 'inevitably', 'therefore,', 'necessity,', 'therefore,', 'Assembled,', 'Allegiance', 'connection', 'dissolved;', 'Alliances,', 'protection']\n",
      "11    : ['Declaration', 'separation.', 'unalienable', 'Governments', 'destructive', 'Government,', 'Governments', 'established', 'accordingly', 'sufferable,', 'accustomed.', 'Government,', 'Government.', 'importance,', 'inestimable', 'legislative', 'repeatedly,', 'Legislative', 'convulsions', 'endeavoured', 'obstructing', 'Foreigners;', 'independent', 'Inhabitants', 'government,', 'introducing', 'whatsoever.', 'Mercenaries', 'constrained', 'endeavoured', 'inhabitants', 'destruction', 'conditions.', 'Oppressions', 'legislature', 'connections', 'Separation,', 'intentions,', 'Independent', 'Independent', 'Independent', 'Providence,']\n",
      "12    : ['usurpations,', 'usurpations,', 'Legislature,', 'establishing', 'jurisdiction', 'Legislation:', 'transporting', 'neighbouring', 'establishing', 'Governments:', 'transporting', 'executioners', 'jurisdiction', 'magnanimity,', 'usurpations,', 'Declaration,']\n",
      "13    : ['self-evident,', 'establishment', 'accommodation', 'dissolutions,', 'Annihilation,', 'legislatures.', 'constitution,', 'fundamentally', 'Legislatures,', 'circumstances', 'insurrections', 'unwarrantable', 'circumstances']\n",
      "14    : ['Representation', 'uncomfortable,', 'Representative', 'Naturalization', 'Appropriations', 'Administration', 'unacknowledged', 'consanguinity.']\n",
      "15    : ['security.--Such', 'undistinguished', 'correspondence.', 'Representatives']\n",
      "16    : ['Happiness.--That']\n"
     ]
    }
   ],
   "source": [
    "# This is a solution to the exericse 9.4\n",
    "word_table = {}\n",
    "with open('declaration_of_independence.txt', 'r') as f:\n",
    "    for line in f:\n",
    "        line = line.rstrip()  # remove the trailing newline character\n",
    "        words = line.split()  # get a list of words from the string (line)\n",
    "        for word in words:\n",
    "            l = len(word)\n",
    "            if l in word_table:\n",
    "                word_table[l].append(word)\n",
    "            else:\n",
    "                word_table[l] = [word]\n",
    "\n",
    "# print the frequency_table dictionary\n",
    "sorted_word_table = sorted(word_table.items(), key = lambda x: x[0])\n",
    "for k, v in sorted_word_table:\n",
    "    print('{:<5d} : {}'.format(k, v))"
   ]
  },
  {
   "cell_type": "markdown",
   "metadata": {},
   "source": [
    "# 10 Regular Expressions\n",
    "\n",
    "A regular expression is a pattern to search in a string. Python provides the 're' module to handle Perl-style regular expressions.\n",
    "\n",
    "# 10.1 Simple search() and findall()\n",
    "\n",
    "The search() function returns the first match of a regular expression, while the findall() return a list of all matches of a regular expression."
   ]
  },
  {
   "cell_type": "code",
   "execution_count": 173,
   "metadata": {},
   "outputs": [
    {
     "name": "stdout",
     "output_type": "stream",
     "text": [
      "matched_object.group() = graduate\n",
      "matched_object_list = ['graduate', 'graduate']\n"
     ]
    }
   ],
   "source": [
    "import re\n",
    "\n",
    "s = 'undergraduate tuition: $10,000, graduate tutition: $15,000'\n",
    "matched_object = re.search(\"graduate\", s)\n",
    "matched_object_list = re.findall(\"graduate\", s)\n",
    "print('matched_object.group() = {}'.format(matched_object.group()))\n",
    "print('matched_object_list = {}'.format(matched_object_list))"
   ]
  },
  {
   "cell_type": "markdown",
   "metadata": {},
   "source": [
    "Sometimes we need to locate the locations/positions of the substrings which matches the pattern. Function finditer() returns match object 'm' which provide location/position information via m.start() and m.end()."
   ]
  },
  {
   "cell_type": "code",
   "execution_count": 182,
   "metadata": {},
   "outputs": [
    {
     "name": "stdout",
     "output_type": "stream",
     "text": [
      "match.start() = 5, match.end() = 13, matched pattern = graduate\n",
      "match.start() = 32, match.end() = 40, matched pattern = graduate\n"
     ]
    }
   ],
   "source": [
    "s = 'undergraduate tuition: $10,000, graduate tutition: $15,000'\n",
    "matched_object_iter = re.finditer(\"graduate\", s)\n",
    "for match in matched_object_iter:\n",
    "    print('match.start() = {}, match.end() = {}, matched pattern = {}'.format(match.start(), match.end(), match.group(0)))"
   ]
  },
  {
   "cell_type": "markdown",
   "metadata": {},
   "source": [
    "# 10.2 Match a  Word Boundary\n",
    "\n",
    "The metacharacters '\\b' matches a word boudary. Since Python interpret '\\' as a special character (escape) in a string, it is easier to use a raw string in regular expression \"r'\\bxyz'\" which represents a regular expression that a word starts with xyz. "
   ]
  },
  {
   "cell_type": "code",
   "execution_count": 185,
   "metadata": {},
   "outputs": [
    {
     "name": "stdout",
     "output_type": "stream",
     "text": [
      "match.start() = 32, match.end() = 40, matched pattern = graduate\n"
     ]
    }
   ],
   "source": [
    "s = 'undergraduate tuition: $10,000, graduate tutition: $15,000, Can you find Graduate'\n",
    "matched_object_iter = re.finditer(r\"\\bgraduate\", s)\n",
    "for match in matched_object_iter:\n",
    "    print('match.start() = {}, match.end() = {}, matched pattern = {}'.format(match.start(), match.end(), match.group(0)))"
   ]
  },
  {
   "cell_type": "markdown",
   "metadata": {},
   "source": [
    "The regular expression '\\bgraduate' does not match the word 'Graduate' since it is case sensitive. The metacharacters '[]' can be used to refer to a pattern which matches any letter inside the square bracket '[]'."
   ]
  },
  {
   "cell_type": "code",
   "execution_count": 186,
   "metadata": {},
   "outputs": [
    {
     "name": "stdout",
     "output_type": "stream",
     "text": [
      "match.start() = 32, match.end() = 40, matched pattern = graduate\n",
      "match.start() = 73, match.end() = 81, matched pattern = Graduate\n"
     ]
    }
   ],
   "source": [
    "s = 'undergraduate tuition: $10,000, graduate tutition: $15,000, Can you find Graduate'\n",
    "matched_object_iter = re.finditer(r\"\\b[gG]raduate\", s)\n",
    "for match in matched_object_iter:\n",
    "    print('match.start() = {}, match.end() = {}, matched pattern = {}'.format(match.start(), match.end(), match.group(0)))"
   ]
  },
  {
   "cell_type": "markdown",
   "metadata": {},
   "source": [
    "# 11 Slicing, List Comprehension, List Assignment and Copy\n",
    "\n",
    "# 11.1 Slicing\n",
    "Let variable x be a sequence (string, list, etc).\n",
    "A slicing x[start:end:step] (step is assumed be positive, while star and end are assumed to be non-negative in this course) is\n",
    "<ul>\n",
    "    <li> a seuqence of elements x[start], x[start + step], x[start + 2 * step], ..., x[start + m * step] where\n",
    "    <ul>\n",
    "        <li> start + m * step < end, and\n",
    "        <li> start + (m + 1) * step >= end\n",
    "    </ul>\n",
    "</ul>"
   ]
  },
  {
   "cell_type": "code",
   "execution_count": null,
   "metadata": {
    "collapsed": true
   },
   "outputs": [],
   "source": [
    "x = list(range(10))   # create a list of integers from 0 to 9\n",
    "print(x)\n",
    "print(x[0:10:2])      # a slicing of x: every other element\n",
    "print(x[3:5])         # a slicing of x: x[end = 5] (integer 5) is excuded, and step is 1 by default\n",
    "# Tasks to do\n",
    "# (1) Execute the statements above\n",
    "# What are the indexes of the elements selected by x[0:10:2]\n",
    "# (2) Try to find out what is x[0:9:2]?"
   ]
  },
  {
   "cell_type": "markdown",
   "metadata": {},
   "source": [
    "# 11.2 List Comprehension\n",
    "List comprehension is a simple way to create a new list from an old list by\n",
    "<ul>\n",
    "    <li> selecting elements from old list with/without conditions\n",
    "    <li> and applying operations on those selected elements\n",
    "</ul>"
   ]
  },
  {
   "cell_type": "code",
   "execution_count": null,
   "metadata": {
    "collapsed": true
   },
   "outputs": [],
   "source": [
    "print([x + 100 for x in range(10)])             # select elements without condition from the list of integer 0 to 9\n",
    "print(\"list comprehension with condition (selectin only even number by x%2 ==0)\")\n",
    "print([x + 2 for x in range(10) if x % 2 == 0]) # select elements with condition (select even  number only)\n",
    "# Tasks to do\n",
    "# Execute the statements above\n",
    "# Explain what is the old list, the new list, the operations, \n",
    "# and if any, the conditions applied during the element selection"
   ]
  },
  {
   "cell_type": "code",
   "execution_count": null,
   "metadata": {
    "collapsed": true,
    "scrolled": true
   },
   "outputs": [],
   "source": [
    "x = list(range(10))\n",
    "print(x)\n",
    "print('x * 2 is')\n",
    "print(x * 2)\n",
    "print('2 * x is')\n",
    "print(2 * x)\n",
    "# Tasks to do\n",
    "# (1) Execute the statements above. What do 'x * 2' and '2 * x' actually do\n",
    "# (2) Use list comprehension to get a list y from x where each element is 2 times its corresponding elements of x,\n",
    "#     i.e., y = [0, 2, 4, 6, 8, 12, 14, 16, 18]\n",
    "# (3) What do you expect from 'x + 2'? Try it.\n",
    "# IMPORTANT: pay attens to data types when operations are performed on variables"
   ]
  },
  {
   "cell_type": "markdown",
   "metadata": {},
   "source": [
    "# 11.3 List Assignment, Element Modification and Comparison\n",
    "Recall that assignment 'a = b' sets the reference of a to be the same of variable b, i.e., both a and b refer to the same object. Be careful for 'a = b' when both a and b are lists.\n",
    "<ul>\n",
    "     <li> if an element of a is changed, both a and b are changed.\n",
    "</ul>"
   ]
  },
  {
   "cell_type": "code",
   "execution_count": null,
   "metadata": {
    "collapsed": true,
    "scrolled": false
   },
   "outputs": [],
   "source": [
    "a = list(range(5))\n",
    "b = a\n",
    "print(a)\n",
    "print(b)\n",
    "b[2] = 10\n",
    "print(\"after b[2] is changed 10\")\n",
    "print('a == b is still', a == b)\n",
    "print(a)\n",
    "print(b)\n",
    "# Tasks to do\n",
    "# Execute the statements above\n",
    "# Eplain why 'b == a' is still true after b[2] is changed to 10"
   ]
  },
  {
   "cell_type": "markdown",
   "metadata": {
    "collapsed": true
   },
   "source": [
    "<img src = \"image/comparison-list-assignment.png\"  height=60>\n",
    "The picture above explains why 'b == a' is still true after b[2] is changed to 10. After 'b = a', both a and b refer/point to the same list [0, 1, 2, 3, 4]. The assignment 'b[2] = 10' does not change the list referred by b. Instead, it only change the integer referred by b[2]. You may print id(b[2]) and id(a[2]) before and after the statement 'b[2] = 10' to see that.\n"
   ]
  },
  {
   "cell_type": "markdown",
   "metadata": {},
   "source": [
    "# 11.4 Copy a List\n",
    "There are several ways to copy a list c\n",
    "<ul>\n",
    "    <li> b = c.copy()\n",
    "    <li> b = c[:]\n",
    "    <li> b = list(c)\n",
    "</ul>"
   ]
  },
  {
   "cell_type": "code",
   "execution_count": null,
   "metadata": {
    "collapsed": true
   },
   "outputs": [],
   "source": [
    "a = list(range(5))\n",
    "b = a\n",
    "print('a is', a)\n",
    "print('b is', b)\n",
    "print('a == b is', a == b)\n",
    "print('id(a[2]) =', id(a[2]))\n",
    "print('id(b[2]) =', id(b[2]))\n",
    "b[2] = 10\n",
    "print(\"Now b[2] is changed to 10\")\n",
    "print('a is', a)\n",
    "print('b is', b)\n",
    "print('a == b is', a == b)\n",
    "\n",
    "print('id(a[2]) =', id(a[2]))\n",
    "print('id(b[2]) =', id(b[2]))\n",
    "print(\"----------------------compare 'b = a' with 'b = a.copy()'\")\n",
    "a = list(range(5))\n",
    "b = a.copy()\n",
    "print('a is', a)\n",
    "print('b is', b)\n",
    "print('a == b is', a == b)\n",
    "print('id(a[2]) =', id(a[2]))\n",
    "print('id(b[2]) =', id(b[2]))\n",
    "b[2] = 10\n",
    "print(\"Now b[2] is changed to 10\")\n",
    "print('a is', a)\n",
    "print('b is', b)\n",
    "print('a == b is', a == b)\n",
    "print('id(a[2]) =', id(a[2]))\n",
    "print('id(b[2]) =', id(b[2]))"
   ]
  },
  {
   "cell_type": "markdown",
   "metadata": {},
   "source": [
    "<img src = \"image/comparison-list-copy.png\" height=60>\n",
    "You may compare the picture above and the picture in the previous section \"List Assignment, Element Modification and Comparsion\" to figure out the different between 'b = a' and 'b = a.copy()'.\n",
    "For 'b = a.copy()', b is a copy of a. That is, b and a does not point to the same list. Instead, b refers to a new list (copy of a). Since the list referred by b is a copy of a, that list have the the references for all element as those references of elements in a. Therefore, a and b have the same value, i.e., 'a == b' is still true. The statement 'b[2] = 10' only changes the reference b[2] without altering a[2] since b[2] is only a copy of a[2]. So b is changed and a is not changed by 'b[2] = 10'."
   ]
  },
  {
   "cell_type": "markdown",
   "metadata": {},
   "source": [
    "# 11.5 Copy: Shallow vs Deep\n",
    "If we go further, we will find that a.copy() for a list a is a shallow copy. We will not cover it in this course. In general, \n",
    "<ul>\n",
    "    <li> be careful when you copy a list of compound objects, e.g., a list of lists.\n",
    "    <li> need to study more on shallow/deep copy to understand the behavious of copying a list of compound objects.\n",
    "</ul>"
   ]
  }
 ],
 "metadata": {
  "kernelspec": {
   "display_name": "Python 3",
   "language": "python",
   "name": "python3"
  },
  "language_info": {
   "codemirror_mode": {
    "name": "ipython",
    "version": 3
   },
   "file_extension": ".py",
   "mimetype": "text/x-python",
   "name": "python",
   "nbconvert_exporter": "python",
   "pygments_lexer": "ipython3",
   "version": "3.6.1"
  }
 },
 "nbformat": 4,
 "nbformat_minor": 2
}
