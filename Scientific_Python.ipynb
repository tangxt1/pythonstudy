{
 "cells": [
  {
   "cell_type": "markdown",
   "metadata": {},
   "source": [
    "<center><h1>Introduction to Scientific Python</h1><center>\n",
    "\n",
    "<center>\n",
    "<h3>Texas A&amp;M High Performance Research Computing (TAMU HPRC)<br>\n",
    "Yang Liu</h3>\n",
    "<h3><a href=\"https://hprc.tamu.edu/training/intro_scientific_python.html\">course web page</a></h3>\n",
    "</center>"
   ]
  },
  {
   "cell_type": "markdown",
   "metadata": {},
   "source": [
    "# Agenda\n",
    "\n",
    "2. Numpy\n",
    "- Matplotlib\n",
    "- Scipy\n",
    "- Numba\n",
    "- Errors in Sicentific Computing"
   ]
  },
  {
   "cell_type": "markdown",
   "metadata": {},
   "source": [
    "# 1 Numpy\n",
    "Numpy is a fundamental package for scientific computing in python. It provides\n",
    "<ul>\n",
    "    <li> multidiensional array object and various derived objects (matrices, etc.),\n",
    "    <li> routines for fast operations on arrays: mathematical, shape manipulation, sorting, and so son.\n",
    "</ul>\n",
    "Other widely usaged packages (Scipy, Biopython, Pandas, etc) are built on Numpy."
   ]
  },
  {
   "cell_type": "markdown",
   "metadata": {},
   "source": [
    "# 1.1 Numpy Array\n",
    "A Numpy array (ndarray class) is a table of elements of the same type. An ndarray object in Numpy has several imorant attributes:\n",
    "<ul>\n",
    "    <li> size: total number of elements\n",
    "    <li> ndim: number of dimensions/axes (rank)\n",
    "    <li> shape: a tuple of integers in which each eleemnt is the size of a dimension\n",
    "    <li> dtype: data type of elements\n",
    "</ul>"
   ]
  },
  {
   "cell_type": "code",
   "execution_count": null,
   "metadata": {},
   "outputs": [],
   "source": [
    "import numpy as np\n",
    "a = np.array([[1, 2, 3],\n",
    "              [4, 5, 6]])\n",
    "print(a)\n",
    "print('a.size = {:d}'.format(a.size))\n",
    "print('a.ndim = {:d}'.format(a.ndim))\n",
    "print('a.shape = {}'.format(a.shape))\n",
    "print('a.dtype = {}'.format(a.dtype))"
   ]
  },
  {
   "cell_type": "markdown",
   "metadata": {},
   "source": [
    "# 1.2 Operations on Arrays\n",
    "Arithemetic operations on arrays are element-wise operations, while some other functions are not."
   ]
  },
  {
   "cell_type": "code",
   "execution_count": null,
   "metadata": {},
   "outputs": [],
   "source": [
    "import numpy as np\n",
    "a = np.array([10, 20, 40])\n",
    "b = np.random.random((3))\n",
    "print('a =', a)\n",
    "print('b =', b)\n",
    "print('a + b =', a + b)\n",
    "print('a - b', a - b)\n",
    "print('abs(b - a)', np.abs(b - a))\n",
    "print('a < b =', a < b)\n",
    "print('sin(a) =', np.sin(a))\n",
    "print('sqrt(a) =', np.sqrt(a))\n",
    "print('power(a) =', np.power(a, 3))\n",
    "print('sum(a) =', np.sum(a))\n",
    "print('mean(a) =', np.mean(a))"
   ]
  },
  {
   "cell_type": "markdown",
   "metadata": {},
   "source": [
    "# 1.3 Exercise   Minkowski Distance\n",
    "Let $X = [x_{1}, x_2, ..., x_n)$ and $Y = [y_1, y_2, ..., y_n]$. Then the Minkowski distnace of order p between X and Y is \n",
    "\n",
    "\n",
    "$D(X, Y) = (|x_1-y_1|^p + |x_2 - y_2|^p + ... + |x_n -y_n|^p)^{1/p}$\n",
    "\n",
    "When $p=1$, this is the Manhattan distance.\n",
    "\n",
    "When $p=2$, this is the Euclidian distance.\n",
    "\n",
    "Complete the following function to calculate the Minkowski distance.\n"
   ]
  },
  {
   "cell_type": "code",
   "execution_count": null,
   "metadata": {},
   "outputs": [],
   "source": [
    "import numpy as np\n",
    "\n",
    "def distance(x, y, p):\n",
    "    return pow(sum(np.power(np.abs(x.astype('int')-y.astype('int')), p)),1/p)\n",
    "# complete the function\n",
    "\n",
    "# end of the distance() function\n",
    "\n",
    "x = np.array([1, 2, 3], np.uint8)\n",
    "y = np.array([2, 3, 4], np.uint8)\n",
    "p = 1\n",
    "print('x = {}, y = {}, np.abs(x - y) ={}'.format(x,y, np.sum(np.power(np.abs(x.astype('int')-y.astype('int')),p))))\n",
    "xy_p1_distance = distance(x, y, p)\n",
    "yx_p1_distance = distance(x, y, p)\n",
    "print('x = {}'.format(x))\n",
    "print('y = {}'.format(y))\n",
    "print('p = {}, xy_p1_distance = {}'.format(p, xy_p1_distance))\n",
    "print('p = {}, yx_p1_distance = {}'.format(p, yx_p1_distance))\n"
   ]
  },
  {
   "cell_type": "code",
   "execution_count": null,
   "metadata": {},
   "outputs": [],
   "source": [
    "x = np.array([1])\n",
    "y = np.array([2])\n",
    "np.abs(x-y)\n",
    "print(np.abs(x.astype('uint8') - y.astype('uint8')))"
   ]
  },
  {
   "cell_type": "code",
   "execution_count": null,
   "metadata": {},
   "outputs": [],
   "source": [
    "# this is a solution to the exercise above\n",
    "\n",
    "import numpy as np\n",
    "\n",
    "def distance(x, y, p):\n",
    "    distance = pow(np.sum(np.power(np.abs(x.astype('int') - y.astype('int')), p)), 1/p)\n",
    "    return distance\n",
    "\n",
    "x = np.array([1, 2, 3], np.uint8)\n",
    "y = np.array([2, 3, 4], np.uint8)\n",
    "p = 1\n",
    "xy_p1_distance = distance(x, y, p)\n",
    "yx_p1_distance = distance(y, x, p)\n",
    "print('x = {}'.format(x))\n",
    "print('y = {}'.format(y))\n",
    "print('p = {}, xy_p1_distance = {}'.format(p, xy_p1_distance))\n",
    "print('p = {}, yx_p1_distance = {}'.format(p, yx_p1_distance))"
   ]
  },
  {
   "cell_type": "markdown",
   "metadata": {},
   "source": [
    "# 1.4 Array Indexing and Slicing\n",
    "<ul>\n",
    "    <li> An array element can be referred as a[i1, i2, ...] where i1 (i2, etc.) is the index of that element in the first (second, etc) dimension.\n",
    "    <li> A slicing start:end:step refers to one or more elements.\n",
    "    <li> Note that an index starts from 0.\n",
    "<ul>"
   ]
  },
  {
   "cell_type": "code",
   "execution_count": null,
   "metadata": {},
   "outputs": [],
   "source": [
    "import numpy as np\n",
    "a = np.arange(10)\n",
    "print('a =', a)\n",
    "print('a[0] =', a[0])\n",
    "print('a[:9: =]', a[:9:])\n",
    "#a[end] is not included in a[start:end:1]\n",
    "print('a[:10: =]', a[:10:])\n",
    "a[0] =5\n",
    "print('a =', a)\n",
    "#print('a[10] =', a[10])\n",
    "b = np.array([[1, 2, 3, 4, 5],\n",
    "             [6, 7, 8, 9, 10]])\n",
    "print('b =', b)\n",
    "print('b[1, 3] =', b[1, 3])\n",
    "print('b[1, ::2] =', b[1, ::2])\n",
    "print('b[1, :4:2] =', b[1, :4:2])\n",
    "print('b[1, 1:4:2] =', b[1, 1:4:2])\n",
    "# slicing: start:end --exclude end but include start\n",
    "# extended slicing  start:end:step\n"
   ]
  },
  {
   "cell_type": "markdown",
   "metadata": {},
   "source": [
    "# 1.5 Array of Zeros and Ones"
   ]
  },
  {
   "cell_type": "code",
   "execution_count": null,
   "metadata": {},
   "outputs": [],
   "source": [
    "# Example to create a 8x8 matrix and fill it with a checkerboard pattern\n",
    "# from http://www.labri.fr/perso/nrougier/teaching/numpy.100/\n",
    "Z = np.zeros((8,8),dtype=int)\n",
    "print('z = ', Z)\n",
    "Z[1::2,:] = 1\n",
    "print('after first slicing:',Z)\n",
    "Z = np.zeros((8,8),dtype=int)\n",
    "Z[:,::2] = 1\n",
    "print('after second slicing:',Z)\n",
    "Z = np.zeros((8,8),dtype=int)\n",
    "Z[1::2,::2] = 1\n",
    "print('after first slicing:',Z)\n",
    "Z = np.zeros((8,8),dtype=int)\n",
    "Z[::2,1::2] = 1\n",
    "print(Z)"
   ]
  },
  {
   "cell_type": "markdown",
   "metadata": {},
   "source": [
    "# 1.6 Exercise: Create a 12x12 array with 1 on the border and 0 inside"
   ]
  },
  {
   "cell_type": "code",
   "execution_count": null,
   "metadata": {},
   "outputs": [],
   "source": [
    "import numpy as np\n",
    "\n",
    "# create a 12x12 array of ones \n",
    "a = np.ones((12, 12))\n",
    "print(a)\n",
    "# set the elements in the middle to 0\n",
    "a[1:a.shape[0] -1,1:a.shape[1]-1] = 0\n",
    "print(a)\n",
    "# display the array\n"
   ]
  },
  {
   "cell_type": "code",
   "execution_count": null,
   "metadata": {},
   "outputs": [],
   "source": [
    "# This is a solution to the exercise above\n",
    "import numpy as np\n",
    "\n",
    "a = np.ones((12,12))\n",
    "a[1:-1,1:-1] = 0\n",
    "print(a)"
   ]
  },
  {
   "cell_type": "markdown",
   "metadata": {},
   "source": [
    "# 1.7 Array of Numbers in a Sequence\n",
    "<ul>\n",
    "    <li>arange(start, end, step): creates an array of element start, start + step, start + 2 * step, ... (like slicing). Note that the end number is not included in the array.\n",
    "    <li>linspace(start, end, num_elements): creates an array of start, start + step, start + 2 * step, ... where step = (end - start) / num_elements. Note that the end number maybe included.\n",
    "    <li> Due to finite floating point precision, it is difficult to predict the number of elements for arange. Avoid to use arange when step is not an integer.\n",
    "</ul>"
   ]
  },
  {
   "cell_type": "code",
   "execution_count": null,
   "metadata": {},
   "outputs": [],
   "source": [
    "import numpy as np\n",
    "a = np.arange(1, 10, 0.3)\n",
    "print('a =')\n",
    "print(a)\n",
    "print('a.size = {}'.format(a.size))\n",
    "b = np.linspace(1, 10, 30)\n",
    "print('b =')\n",
    "print(b)\n",
    "print('b.size = {}'.format(b.size))"
   ]
  },
  {
   "cell_type": "markdown",
   "metadata": {},
   "source": [
    "# 1.8 Axis Paramters in Functions\n",
    "\n",
    "Functions may take axis as a parameter. Now let's understand how the axis parameter works for np.sum().\n"
   ]
  },
  {
   "cell_type": "code",
   "execution_count": null,
   "metadata": {},
   "outputs": [],
   "source": [
    "import numpy as np\n",
    "\n",
    "a = np.array([[1, 2, 3],[4, 5, 6]])\n",
    "# sum the array elements by column\n",
    "# 'axis = 0'\n",
    "sum_by_axis_zero = np.sum(a, axis = 0)\n",
    "print('sum_by_axis_zero = ' , sum_by_axis_zero)\n",
    "# sum the array elements by row\n",
    "sum_by_axis_one = np.sum(a, axis = 1)\n",
    "print('sum_by_axis_one = ' , sum_by_axis_one)\n",
    "# sum all the array elements\n",
    "print('sum of all elements = ', np.sum(a))\n",
    "\n",
    "b = np.array([[[1, 2, 3, 4], [4, 5, 6, 7], [1, 2, 3, 4]], [[6, 7, 8, 9], [9, 10, 11, 12], [6, 7, 8, 9]]])\n",
    "print('shape of array b = ', b.shape)\n",
    "# Now the code below shows that 'axis = 0' means to collaps along axis 0\n",
    "sum_by_axis_zero = np.sum(b, axis = 0)\n",
    "print(\"sum by axis zeor of array b = \",)\n",
    "print(sum_by_axis_zero)\n",
    "print(\"shape of sum_by_axis_zero = \", sum_by_axis_zero.shape)\n",
    "[[1, 2, 3, 4],\n",
    " [4, 5, 6, 7],\n",
    "[1, 2, 3, 4]]\n",
    "[[6,  7, 8, 9],\n",
    " [9, 10, 11, 12],\n",
    "[6, 7, 8, 9]]"
   ]
  },
  {
   "cell_type": "code",
   "execution_count": null,
   "metadata": {},
   "outputs": [],
   "source": [
    "# Now let's see how the axis parameter works for np.apply_along_axis():\n",
    "# the function takes the slicking along the specified axis parameter\n",
    "\n",
    "def distance(x, y, p):\n",
    "    distance = pow(np.sum(np.power(np.abs(x.astype('int') - y.astype('int')), p)), 1/p)\n",
    "    return distance\n",
    "\n",
    "x = np.array([[1, 2, 3], [4, 5, 6], [7, 8, 9]])\n",
    "print(x.shape)\n",
    "print('x = ')\n",
    "print(x)\n",
    "y = np.ones(3)\n",
    "print('y = ')\n",
    "print(y)\n",
    "p = 1\n",
    "z = np.apply_along_axis(distance, 1, x, y=y, p=p)\n",
    "print('apply distance function on dimension 1 of x: z = ')\n",
    "print(z)\n",
    "z = np.apply_along_axis(distance, 0, x, y=y, p=p)\n",
    "print('apply distance function on dimension 0 of x: z = ')\n",
    "print(z)\n",
    "print(\"Now let's compare some slicings\")\n",
    "print('x[:,1] =')\n",
    "print(x[:,1])\n",
    "print('x[:2] =')\n",
    "print(x[:2])\n",
    "print('x[:2,:] =')\n",
    "print(x[:2,:])\n",
    "print('x[:,:1] =')\n",
    "print(x[:,:1])\n",
    "print('x[:,:2] =')\n",
    "print(x[:,:2])\n"
   ]
  },
  {
   "cell_type": "markdown",
   "metadata": {},
   "source": [
    "# 1.9 Exericse: Use apply_along_axis to sort a two dimensional array"
   ]
  },
  {
   "cell_type": "code",
   "execution_count": null,
   "metadata": {},
   "outputs": [],
   "source": [
    "import numpy as np  \n",
    "  \n",
    "a = np.array([[4, 9, 1], [5, 8, 2], [3, 7, 6]]) \n",
    "# print the array such that elements are sorted in each row\n",
    "# 'sorted' function can be the first parameter of apply_along_axis\n",
    "\n",
    "# print the array such that elements are sorted in each column\n",
    "# 'sorted' function can be the first parameter of apply_along_axis\n"
   ]
  },
  {
   "cell_type": "code",
   "execution_count": null,
   "metadata": {},
   "outputs": [],
   "source": [
    "# this is a solution to the exercise above\n",
    "\n",
    "import numpy as np  \n",
    "  \n",
    "a = np.array([[4, 9, 1], [5, 8, 2], [3, 7, 6]]) \n",
    "print(a)\n",
    "# print the array such that elements are sorted in each row\n",
    "print(\"Sorted array in each row/by axis 1:\")\n",
    "print(np.apply_along_axis(sorted, 1, a))\n",
    "\n",
    "# print the array such that elements are sorted in each column\n",
    "print(\"Sorted array in each row/by axis 0:\")\n",
    "print(np.apply_along_axis(sorted, 0, a))"
   ]
  },
  {
   "cell_type": "markdown",
   "metadata": {},
   "source": [
    "# 1.10 Random Arrays\n",
    "Numpy random.random generates an array in which each element is a random floating numbers between 0 and 1"
   ]
  },
  {
   "cell_type": "code",
   "execution_count": null,
   "metadata": {},
   "outputs": [],
   "source": [
    "import numpy as np\n",
    "a = np.random.random((2, 3))\n",
    "print('random array a =', a)\n",
    "b = np.random.random((2, 3))\n",
    "print('random array b =', b)\n",
    "a = np.random.random((2, 3))\n",
    "print('random array a =', a)\n",
    "b = np.random.random((2, 3))\n",
    "print('random array b =', b)"
   ]
  },
  {
   "cell_type": "markdown",
   "metadata": {},
   "source": [
    "Sometimes it is useful to have a sequence of repeatable/predicatble random numbers. The function random.seed(x) tells random.random() function to generate a sequence of random numbers with seed of x. That is, whenever random.seed(x) is called, the following random numbers generated from random.random() are the same."
   ]
  },
  {
   "cell_type": "code",
   "execution_count": null,
   "metadata": {},
   "outputs": [],
   "source": [
    "import numpy as np\n",
    "np.random.seed(5)\n",
    "print('Now the random seed is set to 5. Whenver the seed is set to 5, the sequence of random numbers from random.random() should be the same')\n",
    "a = np.random.random((2, 3))\n",
    "print('random array a =', a)\n",
    "b = np.random.random((2, 3))\n",
    "print('random array b =', b)\n",
    "np.random.seed(5)\n",
    "print(\"Now the random seed is reset to 5. The random numbers generated from random.random() should be repeated as above/\")\n",
    "a = np.random.random((2, 3))\n",
    "print('random array a =', a)\n",
    "b = np.random.random((2, 3))\n",
    "print('random array b =', b)\n",
    "np.random.seed(4)\n",
    "print(\"Now the random seed is reset to 4. The random numbers generated from random.random() should not be the same as above/\")\n",
    "a = np.random.random((2, 3))\n",
    "print('random array a =', a)\n",
    "b = np.random.random((2, 3))\n",
    "print('random array b =', b)"
   ]
  },
  {
   "cell_type": "markdown",
   "metadata": {},
   "source": [
    "# 1.11 Array Indexes: Boolean Indexes\n",
    "Booleans can be used in an array of indexes to select elements from an array x.\n",
    "<ul>\n",
    "    <li> The array of indexes b should have the same shape of array x.\n",
    "    <li> An element of array a is selected by x[b] if its corresponding boolean value in b is True.\n",
    "</ul>"
   ]
  },
  {
   "cell_type": "code",
   "execution_count": null,
   "metadata": {},
   "outputs": [],
   "source": [
    "import numpy as np\n",
    "a = np.random.random(12).reshape(3, 4)\n",
    "print('a =')\n",
    "print(a)\n",
    "b = a > 0.5\n",
    "print('b =')\n",
    "print(b)\n",
    "print('a[b] =')\n",
    "print(a[b])\n",
    "print('a[b].shape =', a[b].shape)\n",
    "print('a[b].ndim =', a[b].ndim)\n",
    "a[b] = 1\n",
    "print('After a[b] = 1')\n",
    "print('a =')\n",
    "print(a)"
   ]
  },
  {
   "cell_type": "markdown",
   "metadata": {},
   "source": [
    "# 1.12 Monte Carlo Estimation of Pi\n",
    "\n",
    "The following example uses Numpy to estimate the value of pi. "
   ]
  },
  {
   "cell_type": "code",
   "execution_count": null,
   "metadata": {},
   "outputs": [],
   "source": [
    "import numpy as np\n",
    "\n",
    "NUM_POINTS = 2000000\n",
    "point = np.random.random((NUM_POINTS, 2))\n",
    "point_index = np.sqrt(point[:,0]**2 + point[:,1]**2) < 1;\n",
    "print(point_index)\n",
    "print(4 * len(point[point_index==True])/NUM_POINTS)"
   ]
  },
  {
   "cell_type": "markdown",
   "metadata": {},
   "source": [
    "# 1.13 Exercise: Negate Array Elements"
   ]
  },
  {
   "cell_type": "code",
   "execution_count": null,
   "metadata": {},
   "outputs": [],
   "source": [
    "import numpy as np\n",
    "\n",
    "a = np.random.randint(10, size = (5, 5))\n",
    "print('Before negation, a =')\n",
    "print(a)\n",
    "# write a program to negatve elements of array a which are between 4 and 6 (including 4 and 6)\n"
   ]
  },
  {
   "cell_type": "code",
   "execution_count": null,
   "metadata": {},
   "outputs": [],
   "source": [
    "# This is a solution to the exercise above\n",
    "\n",
    "import numpy as np\n",
    "\n",
    "a = np.random.randint(10, size = (5, 5))\n",
    "print('Before negation, a =')\n",
    "print(a)\n",
    "# write a program to negatve elements of array a which are between 4 and 6\n",
    "b = a[(3 < a) * (a < 7)]\n",
    "print('boolean index array b =' , b)\n",
    "a[(3 < a) & (a < 7)] *= -1\n",
    "print('After negation, a =')\n",
    "print(a)"
   ]
  },
  {
   "cell_type": "markdown",
   "metadata": {},
   "source": [
    "# 1.14 Array of indexes for One Dimensional Array\n",
    "For a one dimensional array a, an array of indexes from array a can be used to select elements from array to form a new array such that\n",
    "<ul>\n",
    "    <li> Each element in the array of indexes is an index of array a.\n",
    "    <li> The new array b has the same shape as the array of indexes.\n",
    "</ul>"
   ]
  },
  {
   "cell_type": "code",
   "execution_count": null,
   "metadata": {},
   "outputs": [],
   "source": [
    "import numpy as np\n",
    "a = np.arange(12) + 10\n",
    "print('a =', a)\n",
    "array_indexes = np.array([0, 0, 3, 4, 3])\n",
    "print('a[array_indexes] =', a[array_indexes])\n",
    "array_indexes = np.array([[0, 0, 2], [1, 3, 4]])\n",
    "print('array_indexes = ')\n",
    "print(array_indexes)\n",
    "print('To show that the new array has the same shape as the array of indexes')\n",
    "print('a[array_indexes] =')\n",
    "print(a[array_indexes])"
   ]
  },
  {
   "cell_type": "markdown",
   "metadata": {},
   "source": [
    "# 1.15 Array of Indexes for Two Dimensional Array\n",
    "For a two dimensional array a, an array of indexes from array a can be used to select elements from array a to form a new arrray b such that\n",
    "<ul>\n",
    "    <li> Each element in the array of indexes is the first dimension index of array a.\n",
    "    <li> The new array b has one more dimension than the array of indexes.\n",
    "</ul>"
   ]
  },
  {
   "cell_type": "code",
   "execution_count": null,
   "metadata": {},
   "outputs": [],
   "source": [
    "import numpy as np\n",
    "a = np.arange(24).reshape(4, 6)\n",
    "print('a =')\n",
    "print(a)\n",
    "array_indexes = np.array([[0, 0, 2], [1, 3, 3]])\n",
    "b = a[array_indexes]\n",
    "print('b =')\n",
    "print(b)\n",
    "print('a.shape =', a.shape)\n",
    "print('array_indexes.shape =', array_indexes.shape)\n",
    "print('b.shape =', b.shape)"
   ]
  },
  {
   "cell_type": "markdown",
   "metadata": {},
   "source": [
    "# 1.16 Reshape an Array\n",
    "The shape of an array a can be changed by\n",
    "<ul>\n",
    "    <li> a.shape = (): the shape of a is actually changed\n",
    "    <li> a.resize(): the shape of a is actually changed\n",
    "    <li> a.reshape(): the shape of a does not change\n",
    "</ul>"
   ]
  },
  {
   "cell_type": "code",
   "execution_count": null,
   "metadata": {},
   "outputs": [],
   "source": [
    "import numpy as np\n",
    "a = np.arange(24)\n",
    "print('a =', a)\n",
    "b = a.reshape(3, 8)\n",
    "print('After a.reshape(3, 8), b =')\n",
    "print(b)\n",
    "print('After a.reshape(3, 8), a =')\n",
    "print(a)\n",
    "a.shape = (2, 12)\n",
    "print('After a.shape = (2, 12), a =')\n",
    "print(a)\n",
    "a.resize(4, 6)\n",
    "print('After a.resize(4, 6), a =')\n",
    "print(a)"
   ]
  },
  {
   "cell_type": "markdown",
   "metadata": {},
   "source": [
    "# 1.17 Array Assignment: No Copy\n",
    "Recall that assignment 'a = b' makes a refer to the same object as b refers to."
   ]
  },
  {
   "cell_type": "code",
   "execution_count": null,
   "metadata": {},
   "outputs": [],
   "source": [
    "import numpy as np\n",
    "a = np.arange(12)\n",
    "b = a\n",
    "print('a =', a)\n",
    "print('b =', b)\n",
    "print('id(a) =', id(a))\n",
    "print('id(b) =', id(b))\n",
    "b.shape = (3, 4)\n",
    "print('After b.shape = (3, 4)')\n",
    "print('a =', a)\n",
    "print('b =', b)\n",
    "print('id(a) =', id(a))\n",
    "print('id(b) =', id(b))"
   ]
  },
  {
   "cell_type": "markdown",
   "metadata": {},
   "source": [
    "# 1.18 Array View: Shallow Copy\n",
    "For an array a, 'a.view()' creates a new array object which refers to the same data of array a. Note that a slicing of an array returns a view."
   ]
  },
  {
   "cell_type": "code",
   "execution_count": null,
   "metadata": {},
   "outputs": [],
   "source": [
    "import numpy as np\n",
    "a = np.arange(12)\n",
    "print('a = ', a)\n",
    "c = a.view()\n",
    "print('view of a: c =', c)\n",
    "c.resize((3, 4))\n",
    "print('After c.resize((3, 4))')\n",
    "print('c =')\n",
    "print(c)\n",
    "print('a =')\n",
    "print(a)\n",
    "c[1, 2] = -3\n",
    "print('After c[1, 2] = -3')\n",
    "print('c =')\n",
    "print(c)\n",
    "print('a =')\n",
    "print(a)\n",
    "b = c[:, 1:2]\n",
    "print('b =')\n",
    "print(b)\n",
    "b[:] = -10\n",
    "print('After b[:] = -10')\n",
    "print('c =')\n",
    "print(c)"
   ]
  },
  {
   "cell_type": "markdown",
   "metadata": {},
   "source": [
    "# 1.19 Array Copy: Deep Copy\n",
    "For an array a, 'a.copy()' creates a new array object which has its own data which is a copy of data in a."
   ]
  },
  {
   "cell_type": "code",
   "execution_count": null,
   "metadata": {},
   "outputs": [],
   "source": [
    "import numpy as np\n",
    "a = np.arange(24)\n",
    "print('a =', a)\n",
    "d = a.copy()\n",
    "print('d =', d)\n",
    "print('a == d', a == d)\n",
    "print('a is d: ', a is d)\n",
    "d[5] = -10\n",
    "print('After d[5] = -10')\n",
    "print('d =')\n",
    "print(d)\n",
    "print('a =')\n",
    "print(a)\n"
   ]
  },
  {
   "cell_type": "markdown",
   "metadata": {},
   "source": [
    "# 1.20 Exercise: Swap two rows in an array"
   ]
  },
  {
   "cell_type": "code",
   "execution_count": null,
   "metadata": {},
   "outputs": [],
   "source": [
    "import numpy as np\n",
    "\n",
    "a = np.arange(25).reshape(5,5)\n",
    "\n",
    "# create a new array which is a copy of array a\n",
    "\n",
    "\n",
    "# swap the first and second rows in the new array\n",
    "\n",
    "\n",
    "# display the new array\n",
    "\n",
    "\n",
    "print('Original array a =')\n",
    "print(a)"
   ]
  },
  {
   "cell_type": "code",
   "execution_count": null,
   "metadata": {},
   "outputs": [],
   "source": [
    "# This is a solution to the exercise above\n",
    "import numpy as np\n",
    "\n",
    "a = np.arange(25).reshape(5,5)\n",
    "b = a.copy()\n",
    "b[[0,1]] = b[[1,0]]\n",
    "print(a)\n",
    "print('After swap rows, new array =')\n",
    "print(b)\n",
    "print('Original array a =')\n",
    "print(a)\n",
    "\n",
    "# the following is to swap the first two columns\n",
    "#c = a.copy()\n",
    "#c[:,0:2] = c[:,1::-1]\n",
    "#print(c)"
   ]
  },
  {
   "cell_type": "markdown",
   "metadata": {},
   "source": [
    "# 1.21 Broadcasting\n",
    "Broadcasting allows operations on arrays of different shapes. Numpy compares the shapes of two arrays by starting with the trailing dimensions and working its way backward to ensure two arrays compatible. Two dimensions are compatible if\n",
    "<ul>\n",
    "    <li> their sizes are equal, or\n",
    "    <li> one has a size of 1\n",
    "</ul>\n",
    "When one dimensional has a size of 1 in an array, the array is copied along that dimension.\n",
    "Examples of compatible arrays<br>\n",
    "(1) a 2 x 3 x 3<br>\n",
    "    b 2 x 3 x 1<br>\n",
    "(2) a 2 x 3 x 3<br>\n",
    "              3"
   ]
  },
  {
   "cell_type": "code",
   "execution_count": null,
   "metadata": {},
   "outputs": [],
   "source": [
    "import numpy as np\n",
    "a = np.arange(18).reshape(2, 3, 3)\n",
    "b = np.arange(6).reshape(2, 3, 1)\n",
    "print('a =')\n",
    "print(a)\n",
    "print('b =')\n",
    "print(b)\n",
    "print('a + b =')\n",
    "print(a + b)   # broadcasting allows '+' on a and b of different shapes.\n"
   ]
  },
  {
   "cell_type": "markdown",
   "metadata": {},
   "source": [
    "The figure below explains how array b is copied in the program above.\n",
    "<img src ='broadcasting-copy.png' height = 60>"
   ]
  },
  {
   "cell_type": "markdown",
   "metadata": {},
   "source": [
    "# 1.22 Exericse: Subtract the mean of each row in an array"
   ]
  },
  {
   "cell_type": "code",
   "execution_count": null,
   "metadata": {},
   "outputs": [],
   "source": [
    "import numpy as np\n",
    "a = np.arange(30).reshape(5,6)\n",
    "print(a)\n",
    "# write program to get the array b which are the means of each row\n",
    "\n",
    "# show array b\n",
    "\n",
    "# show b - a\n",
    "\n"
   ]
  },
  {
   "cell_type": "code",
   "execution_count": null,
   "metadata": {},
   "outputs": [],
   "source": [
    "# This is a solution to the exercise above\n",
    "\n",
    "import numpy as np\n",
    "a = np.arange(30).reshape(5,6)\n",
    "print(a)\n",
    "b = np.mean(a, axis = 1, keepdims=True)\n",
    "print('mean of rows: ', b)\n",
    "print(a - b)"
   ]
  },
  {
   "cell_type": "markdown",
   "metadata": {},
   "source": [
    "# 2 Matplotlib\n",
    "Matplotlib is a python 2D plotting library. It \n",
    "<ul>\n",
    "    <li> Produces publiction quality figures.\n",
    "    <li> Generates plots, histograms, power spectra, bar charts, etc.\n",
    "    <ul>\n",
    "         <li> The pyplot interface of matplotlib provides a Matlab-like interface.\n",
    "         <li> Full control of line styles, font properties, etc. are provided via an object oriented inteface or a set of functions.\n",
    "         <li> Toolkits are availabe: basemap, cartopy, mplot3d, seaboar, ggplot, etc.\n",
    "    </ul>\n",
    "</ul>\n",
    "\n",
    "# 2.1 Figures\n",
    "A figure contains all plot elements: plot, label, legend, etc.\n",
    "<ul>\n",
    "    <li> The matplotlib.figure moduel provides full contril of figures.\n",
    "    <li> The maplotlib.pyplot provides figure(0 to create a figure.\n",
    "</ul>"
   ]
  },
  {
   "cell_type": "code",
   "execution_count": null,
   "metadata": {},
   "outputs": [],
   "source": [
    "import matplotlib.pyplot as plt\n",
    "fig=plt.figure()      # create an empty figure\n",
    "plt.title('First Figure') #put a title on the new empty figure\n",
    "plt.show()            # display the figure"
   ]
  },
  {
   "cell_type": "markdown",
   "metadata": {},
   "source": [
    "# 2.2 Plotting Data\n",
    "The pyplot.plot() functions plots lines and/or markers to the current figure."
   ]
  },
  {
   "cell_type": "code",
   "execution_count": null,
   "metadata": {},
   "outputs": [],
   "source": [
    "import matplotlib.pyplot as plt\n",
    "plt.plot([1, 2, 3, 4], [1, 4, 9, 16])        # draw lines for the input data x and y\n",
    "plt.plot([3, 4, 5, 9], [9, 16, 5, 2], 'ro')  # draw markers (red o) for the input data x and y\n",
    "plt.show()"
   ]
  },
  {
   "cell_type": "markdown",
   "metadata": {},
   "source": [
    "Now let's draw the figure for the monte carlo estimation of pi."
   ]
  },
  {
   "cell_type": "code",
   "execution_count": null,
   "metadata": {},
   "outputs": [],
   "source": [
    "import numpy as np\n",
    "import matplotlib.pyplot as plt\n",
    "\n",
    "NUM_POINTS = 100000\n",
    "point = np.random.random((NUM_POINTS, 2))\n",
    "point_index = np.sqrt(point[:,0]**2 + point[:,1]**2) < 1;\n",
    "print(point_index)\n",
    "plt.plot(point[point_index,0], point[point_index,1], 'b.')\n",
    "plt.plot(point[point_index == False, 0], point[point_index == False, 1], 'r.')\n",
    "plt.show()\n",
    "print(4 * len(point[point_index==True])/NUM_POINTS)"
   ]
  },
  {
   "cell_type": "markdown",
   "metadata": {},
   "source": [
    "# 2.3 Multiple Figures\n",
    "Multiple figures can be created and plotted."
   ]
  },
  {
   "cell_type": "code",
   "execution_count": null,
   "metadata": {},
   "outputs": [],
   "source": [
    "import matplotlib.pyplot as plt\n",
    "plt.plot([1, 2, 3, 4], [1, 4, 9, 16])\n",
    "plt.title(\"First Figure\")\n",
    "plt.figure()      # create a second figure\n",
    "plt.title(\"Second Figure\")\n",
    "plt.plot([1, 2, 3, 4],  [1, 4, 9, 16], 'ro')\n",
    "plt.figure(1)   # select the first figure to plot data\n",
    "plt.plot([3, 4, 5, 9],  [9, 16, 5, 2], 'ro')\n",
    "plt.figure(2)   # select the second figure to plot data\n",
    "plt.plot([3, 4, 5, 9], [9, 16, 5, 2])\n",
    "plt.show()"
   ]
  },
  {
   "cell_type": "markdown",
   "metadata": {},
   "source": [
    "# 2.4 Axes\n",
    "A fiure can have more than one Axes. Each axes can be plotted separately. The pyplot.axes(left, botoom, hight, width) function creates an axes where all values are in fraction (between 0 and 1) coordinates."
   ]
  },
  {
   "cell_type": "code",
   "execution_count": null,
   "metadata": {},
   "outputs": [],
   "source": [
    "import matplotlib.pyplot as plt\n",
    "fig = plt.figure()\n",
    "axes1 = fig.add_axes([0.1, 0.1, 0.9, 0.9])\n",
    "axes1.set_title('Main Axes/Figure Title')\n",
    "axes2 = fig.add_axes([0.2, 0.2, 0.3, 0.3])\n",
    "axes2.plot([1, 2, 3, 4], [1, 4, 9, 16])\n",
    "axes2.set_title('First Axes')\n",
    "axes3 = fig.add_axes([0.6, 0.6, 0.3, 0.3])\n",
    "axes3.plot([1, 2, 3, 4], [1, 4, 9., 16], 'ro')\n",
    "axes3.set_title('Second Axes')\n",
    "plt.show()"
   ]
  },
  {
   "cell_type": "code",
   "execution_count": null,
   "metadata": {},
   "outputs": [],
   "source": [
    "import matplotlib.pyplot as plt\n",
    "fig = plt.figure()\n",
    "axes1 = fig.add_axes([0.1, 0.1, 0.3, 0.3])\n",
    "axes1.set_title('First Axes')\n",
    "axes1.plot([1, 2, 3, 4], [1, 4, 9, 16])\n",
    "axes2 = fig.add_axes([0.5, 0.5, 0.3, 0.3])\n",
    "axes2.plot([1, 2, 3, 4], [1, 4, 9., 16], 'ro')\n",
    "axes2.set_title('Second Axes')\n",
    "#plt.title('Figure Title')\n",
    "plt.show()\n",
    "# Tasks to do\n",
    "# (1) Execute the statements above\n",
    "# (2) Uncomment the line for \"plt.title(Figure Title)\", then execute the statements above again. Any differences."
   ]
  },
  {
   "cell_type": "markdown",
   "metadata": {},
   "source": [
    "# 2.5 Axis\n",
    "An axes has two or three axis.\n",
    "<ul>\n",
    "    <li> pyplot_xlim(min_x, min_y) sets the data limits on x-axis (ylim for y-axis).\n",
    "    <li>pyplot.xlabel() sets the label for x-axis (ylabel for y-axis)\n",
    "    <li>pyplot.xticks() sets teh ticks/marks on x-axis (yticks for y-axis)\n",
    "</ul>"
   ]
  },
  {
   "cell_type": "code",
   "execution_count": null,
   "metadata": {},
   "outputs": [],
   "source": [
    "import matplotlib.pyplot as plt\n",
    "plt.plot([1, 2, 3, 4], [1, 4, 9, 16])\n",
    "plt.xlim(0, 9)\n",
    "plt.xticks([2, 3, 4, 5])\n",
    "plt.ylabel('apples')\n",
    "plt.show()"
   ]
  },
  {
   "cell_type": "markdown",
   "metadata": {},
   "source": [
    "# 2.6 Legends\n",
    "The pyplot.legend() adds a legend to a figure."
   ]
  },
  {
   "cell_type": "code",
   "execution_count": null,
   "metadata": {},
   "outputs": [],
   "source": [
    "from matplotlib import pyplot as plt\n",
    "from numpy.random import randn\n",
    "z = randn(10)\n",
    "red_dot, = plt.plot(z, \"ro\", markersize = 15)\n",
    "blue_cross, = plt.plot(z[:5], \"b+\", markeredgewidth = 3, markersize = 15)\n",
    "plt.legend([red_dot, (red_dot, blue_cross)], [\"Attr A\", \"Attr A-B\"])\n",
    "plt.title(\"Experiment A\")\n",
    "plt.show()"
   ]
  },
  {
   "cell_type": "markdown",
   "metadata": {},
   "source": [
    "# 2.7 Mandelrot Set"
   ]
  },
  {
   "cell_type": "code",
   "execution_count": null,
   "metadata": {},
   "outputs": [],
   "source": [
    "# Now let's look at the program to generate a mandelrot set\n",
    "\"\"\"\n",
    "Compute the Mandelbrot fractal\n",
    "from https://www.scipy-lectures.org/intro/numpy/exercises.html\n",
    "\"\"\"\n",
    "import numpy as np\n",
    "import matplotlib.pyplot as plt\n",
    "from numpy import newaxis\n",
    "from numba import jit\n",
    "\n",
    "\n",
    "def compute_mandelbrot(N_max, some_threshold, nx, ny):\n",
    "    # A grid of c-values\n",
    "    x = np.linspace(-2, 1, nx)\n",
    "    y = np.linspace(-1.5, 1.5, ny)\n",
    "\n",
    "    c = x[:,newaxis] + 1j*y[newaxis,:]\n",
    "\n",
    "    # Mandelbrot iteration\n",
    "\n",
    "    z = c\n",
    "    for j in range(N_max):\n",
    "        z = z**2 + c\n",
    "\n",
    "    mandelbrot_set = (abs(z) < some_threshold)\n",
    "\n",
    "    return mandelbrot_set\n",
    "\n",
    "# Save\n",
    "\n",
    "mandelbrot_set = compute_mandelbrot(50, 50., 1001, 1001)\n",
    "\n",
    "plt.imshow(mandelbrot_set.T, extent=[-2, 1, -1.5, 1.5])\n",
    "#plt.gray()\n",
    "plt.savefig('mandelbrot.eps')\n",
    "plt.show()"
   ]
  },
  {
   "cell_type": "markdown",
   "metadata": {},
   "source": [
    "# 3 Scipy\n",
    "Scipy is a collection of mathematical algorithms and functions build on Numpy. It is organized into subpackages covering variuos computing domains:\n",
    "<ul>\n",
    "    <li> Cluster: clustering algorithms\n",
    "    <li> Ftppack: fast Fourier Transform routinges\n",
    "    <li> Linalg: linear algebra\n",
    "    <li> Optimzie: optimization and root-finding routines\n",
    "    <li> Sparse: sparse matrices and associated routines\n",
    "    <li> and more ...\n",
    "</ul>"
   ]
  },
  {
   "cell_type": "markdown",
   "metadata": {},
   "source": [
    "# 3.1 Scipy Linear Algebra\n",
    "Sicpy.linalg provides all functions in numpy.linalg, plus some other more advanced functions.\n",
    "<ul>\n",
    "    <li> Scipy.linalg is preferred unless you do not want the dependency on scipy which requires a Fortran compiler since it is a warpping of Fortran LAPACK using f2py.\n",
    "    <li> Scipy.linalg is always compiled with BLAS/LAPACK support (faster), while this is optional for numpy.\n",
    "    <li> All of the BLAS/LAPACK functions are available to use in scipy.\n",
    "</ul>\n",
    "For example, scipy.linalg.solve(A, b) (faster than linalg.inv(A).dot(b)) can be used to solve the following equations:<br>\n",
    "x + 3y = 10<br>\n",
    "2x + 5y = 20"
   ]
  },
  {
   "cell_type": "code",
   "execution_count": null,
   "metadata": {},
   "outputs": [],
   "source": [
    "import numpy as np\n",
    "import scipy.linalg as linalg\n",
    "A = np.array([[1, 3], [2, 5]])\n",
    "b = np.array([[10], [20]])\n",
    "print('A =')\n",
    "print(A)\n",
    "print('b =')\n",
    "print(b)\n",
    "print('The solution of the equations Ax=b is linalg.solve(A, b) =')\n",
    "print(linalg.solve(A, b))"
   ]
  },
  {
   "cell_type": "markdown",
   "metadata": {},
   "source": [
    "# 4 Numba\n",
    "\n",
    "Numba is a just-in-time compiler for Python. It can speedup python program which uses NumpPy arrays, functions, and loops. The following examples are adopted from http://numba.pydata.org/numba-doc/0.12/tutorial_numpy_and_numba.html."
   ]
  },
  {
   "cell_type": "code",
   "execution_count": null,
   "metadata": {},
   "outputs": [],
   "source": [
    "def sum_all(A):\n",
    "    \"\"\"Naive sum of elements of an array... assumes one dimensional array of floats\"\"\"\n",
    "    acc = 0.0\n",
    "    for i in range(A.shape[0]):\n",
    "        acc += A[i]\n",
    "    return acc"
   ]
  },
  {
   "cell_type": "code",
   "execution_count": null,
   "metadata": {},
   "outputs": [],
   "source": [
    "sample_array = np.arange(10000.0)"
   ]
  },
  {
   "cell_type": "code",
   "execution_count": null,
   "metadata": {},
   "outputs": [],
   "source": [
    "%timeit sum_all(sample_array)"
   ]
  },
  {
   "cell_type": "code",
   "execution_count": null,
   "metadata": {},
   "outputs": [],
   "source": [
    "%timeit np.sum(sample_array)"
   ]
  },
  {
   "cell_type": "code",
   "execution_count": null,
   "metadata": {},
   "outputs": [],
   "source": [
    "from numba import jit\n",
    "\n",
    "@jit\n",
    "def sum_all_numba(A):\n",
    "    \"\"\"Naive sum of elements of an array... assumes one dimensional array of floats\"\"\"\n",
    "    acc = 0.0\n",
    "    for i in range(A.shape[0]):\n",
    "        acc += A[i]\n",
    "    return acc"
   ]
  },
  {
   "cell_type": "code",
   "execution_count": null,
   "metadata": {},
   "outputs": [],
   "source": [
    "%timeit sum_all_numba(sample_array)"
   ]
  },
  {
   "cell_type": "markdown",
   "metadata": {},
   "source": [
    "# 5 Errors in Scientific Computing\n",
    "\n",
    "# 5.1 Precision for Floating Point Numbers\n",
    "A floating point number is stored with finite bits in a computer\n",
    "<ul>\n",
    "    <li>A single-precision floating point number is stored as 32 bits\n",
    "    <li>A double-precision floating point number is stored as 64 bits\n",
    "    <li>A floating point number normally is not displayed accurately. It is displayed with fewer digits for better readability.\n",
    "<ul>"
   ]
  },
  {
   "cell_type": "code",
   "execution_count": null,
   "metadata": {},
   "outputs": [],
   "source": [
    "import numpy as np\n",
    "a = np.arange(7.8, 8.4, 0.05)\n",
    "print(a)\n",
    "print('a[12] is actually', '{0:.55f}'.format(a[12]))"
   ]
  },
  {
   "cell_type": "markdown",
   "metadata": {},
   "source": [
    "# 5.2 Error for Comparing Floating Point Numbers\n",
    "The result may surprise you when two floating point numbers are compared"
   ]
  },
  {
   "cell_type": "code",
   "execution_count": null,
   "metadata": {},
   "outputs": [],
   "source": [
    "print(0.1 + 0.1 + 0.1 == 0.3)\n",
    "print('0.1 is actually stored as','{0:.55f}'.format(0.1))\n",
    "print('0.3 is actually stored as','{0:.55f}'.format(0.3))\n",
    "print('0.1 + 0.1 + 0.1 is actually stored as','{0:.55f}'.format(0.1 + 0.1 + 0.1))"
   ]
  },
  {
   "cell_type": "markdown",
   "metadata": {},
   "source": [
    "How to handle issues like this?\n",
    "\n",
    "This cannot be covered in this course. More study on numeric computation is needed. A simple approach is to claim that 0.1 + 0.1 + 0.1 == 0.3 is True if abs(0.1 + 0.1 + 0.1 - 0.3) < epsilon (a small number, e.g., 0.000001). Numpy provides a function allclose() to check whether two numbers/arrays are close eough to be considered equal."
   ]
  },
  {
   "cell_type": "code",
   "execution_count": null,
   "metadata": {},
   "outputs": [],
   "source": [
    "np.allclose(0.1+0.1+0.1, 0.3)"
   ]
  },
  {
   "cell_type": "markdown",
   "metadata": {},
   "source": [
    "# More on Python\n",
    "<ul>\n",
    "    <li>https://www.labri.fr/perso/nrougier/teaching/matplotlib/\n",
    "    <li>http://nbviewer.jupyter.org/github/jrjohansson/scientific-python-lectures/blob/master/Lecture-4-Matplotlib.ipynb\n",
    "</ul>"
   ]
  }
 ],
 "metadata": {
  "kernelspec": {
   "display_name": "Python 3",
   "language": "python",
   "name": "python3"
  },
  "language_info": {
   "codemirror_mode": {
    "name": "ipython",
    "version": 3
   },
   "file_extension": ".py",
   "mimetype": "text/x-python",
   "name": "python",
   "nbconvert_exporter": "python",
   "pygments_lexer": "ipython3",
   "version": "3.6.5"
  }
 },
 "nbformat": 4,
 "nbformat_minor": 2
}
