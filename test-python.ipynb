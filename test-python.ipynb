{
 "cells": [
  {
   "cell_type": "code",
   "execution_count": 1,
   "metadata": {},
   "outputs": [
    {
     "name": "stdout",
     "output_type": "stream",
     "text": [
      "53.57142857142857\n"
     ]
    }
   ],
   "source": [
    "dna = 'atgccgtattggaacccccttgaagtcc'\n",
    "no_c = dna.count('c')  \n",
    "no_g = dna.count('g')\n",
    "dna_length=len(dna)\n",
    "gc_percent=(no_c+no_g)*100.0/dna_length  #compoute gc percentage\n",
    "print(gc_percent)   #print GC% to screen"
   ]
  },
  {
   "cell_type": "code",
   "execution_count": 1,
   "metadata": {},
   "outputs": [
    {
     "name": "stdout",
     "output_type": "stream",
     "text": [
      "Enter DNA sequence:gggggcccnnn\n",
      "dna sequences has 3 undefined bases\n"
     ]
    }
   ],
   "source": [
    "dna = input('Enter DNA sequence:')\n",
    "if 'n' in dna:\n",
    "    nbases=dna.count('n')\n",
    "    print(\"dna sequences has %d undefined bases\" % nbases)"
   ]
  },
  {
   "cell_type": "code",
   "execution_count": 1,
   "metadata": {},
   "outputs": [
    {
     "name": "stdout",
     "output_type": "stream",
     "text": [
      "Enter DNA sequence:agggct\n",
      "dna sequences has no undefined bases\n"
     ]
    }
   ],
   "source": [
    "dna = input('Enter DNA sequence:')\n",
    "if 'n' in dna:\n",
    "    nbases=dna.count('n')\n",
    "    print(\"dna sequences has %d undefined bases\" % nbases)\n",
    "else:\n",
    "    print(\"dna sequences has no undefined bases\")"
   ]
  },
  {
   "cell_type": "code",
   "execution_count": 1,
   "metadata": {},
   "outputs": [
    {
     "name": "stdout",
     "output_type": "stream",
     "text": [
      "Enter DNA sequence:gcatnN\n",
      "dna sequences has 2 undefined bases\n"
     ]
    }
   ],
   "source": [
    "dna = input('Enter DNA sequence:')\n",
    "if 'n' in dna or 'N' in dna:\n",
    "    nbases=dna.count('n') + dna.count('N')\n",
    "    print(\"dna sequences has %d undefined bases\" % nbases)\n",
    "else:\n",
    "    print(\"dna sequences has no undefined bases\")"
   ]
  },
  {
   "cell_type": "markdown",
   "metadata": {},
   "source": [
    "**Problem**: Given a DNA sequence find the position of all canonical donor splice site candidates in the sequence."
   ]
  },
  {
   "cell_type": "code",
   "execution_count": 2,
   "metadata": {},
   "outputs": [
    {
     "name": "stdout",
     "output_type": "stream",
     "text": [
      "Enter DNA sequence:aaaagtcctgagta\n",
      "Donor splice site candidate at position 4\n",
      "Donor splice site candidate at position 11\n"
     ]
    }
   ],
   "source": [
    "dna = input('Enter DNA sequence:')\n",
    "pos=dna.find('gt',0)   # position of donor splice site\n",
    "while pos>-1:\n",
    "    print(\"Donor splice site candidate at position %d\" %pos)\n",
    "    pos=dna.find('gt', pos+1)"
   ]
  },
  {
   "cell_type": "code",
   "execution_count": 1,
   "metadata": {},
   "outputs": [
    {
     "name": "stdout",
     "output_type": "stream",
     "text": [
      "Enter DNA sequence:aaaagtcctgagta\n",
      "Donor splice site candidate at position 4\n",
      "Donor splice site candidate at position 11\n"
     ]
    }
   ],
   "source": [
    "dna = input('Enter DNA sequence:')\n",
    "pos=dna.find('gt',0)   # position of donor splice site\n",
    "while pos>0:\n",
    "    print(\"Donor splice site candidate at position %d\" %pos)\n",
    "    pos=dna.find('gt', pos+1)"
   ]
  },
  {
   "cell_type": "code",
   "execution_count": 3,
   "metadata": {},
   "outputs": [
    {
     "name": "stdout",
     "output_type": "stream",
     "text": [
      "0\n",
      "1\n",
      "2\n",
      "3\n"
     ]
    }
   ],
   "source": [
    "for i in range(4):\n",
    "    print(i)"
   ]
  },
  {
   "cell_type": "code",
   "execution_count": 4,
   "metadata": {},
   "outputs": [
    {
     "name": "stdout",
     "output_type": "stream",
     "text": [
      "1\n",
      "3\n",
      "5\n",
      "7\n",
      "9\n"
     ]
    }
   ],
   "source": [
    "for i in range(1,10,2):     # (start, stop, step)\n",
    "    print(i)"
   ]
  },
  {
   "cell_type": "markdown",
   "metadata": {},
   "source": [
    "**Problem**: Find if all characters in a given protein sequence are valid amino acid."
   ]
  },
  {
   "cell_type": "code",
   "execution_count": 5,
   "metadata": {},
   "outputs": [
    {
     "name": "stdout",
     "output_type": "stream",
     "text": [
      "Protein contains invalid amino acid U at position 8\n",
      "Protein contains invalid amino acid U at position 9\n"
     ]
    }
   ],
   "source": [
    "protein='SDVIHRYKUUPAKSHGW'\n",
    "for i in range(len(protein)):\n",
    "    if protein[i] not in 'ABCDEFGHIKLMNPQRSTVWXYZ':\n",
    "        print(\"Protein contains invalid amino acid %s at position %d\" %(protein[i],i))\n",
    "    "
   ]
  },
  {
   "cell_type": "markdown",
   "metadata": {},
   "source": [
    "**Problem**: Suppose we are only interested in finding if a protein sequence is valid, not where are all the invalid characters in the sequence."
   ]
  },
  {
   "cell_type": "code",
   "execution_count": 6,
   "metadata": {},
   "outputs": [
    {
     "name": "stdout",
     "output_type": "stream",
     "text": [
      "this is not a valid protein sequence\n"
     ]
    }
   ],
   "source": [
    "protein='SDVIHRYKUUPAKSHGW'\n",
    "for i in range(len(protein)):\n",
    "    if protein[i] not in 'ABCDEFGHIKLMNPQRSTVWXYZ':\n",
    "        print(\"this is not a valid protein sequence\")\n",
    "        break"
   ]
  },
  {
   "cell_type": "markdown",
   "metadata": {},
   "source": [
    "**Problem**: Delete all invalid amino acid characters from a protein sequence."
   ]
  },
  {
   "cell_type": "code",
   "execution_count": 7,
   "metadata": {},
   "outputs": [
    {
     "name": "stdout",
     "output_type": "stream",
     "text": [
      "Corrected protein sequence is SDVIHRYKPAKSHGW\n"
     ]
    }
   ],
   "source": [
    "protein='SDVIHRYKUUPAKSHGW'\n",
    "corrected_protein=''\n",
    "for i in range(len(protein)):\n",
    "    if protein[i] not in 'ABCDEFGHIKLMNPQRSTVWXYZ':\n",
    "        continue\n",
    "    corrected_protein=corrected_protein+protein[i]\n",
    "print(\"Corrected protein sequence is %s\" %corrected_protein)"
   ]
  },
  {
   "cell_type": "markdown",
   "metadata": {},
   "source": [
    "**Problem**: Find all prime numbers smaller than a given integer."
   ]
  },
  {
   "cell_type": "code",
   "execution_count": 8,
   "metadata": {},
   "outputs": [
    {
     "name": "stdout",
     "output_type": "stream",
     "text": [
      "2 is a prime number\n",
      "3 is a prime number\n",
      "4 equals 2 * 2\n",
      "5 is a prime number\n",
      "6 equals 2 * 3\n",
      "7 is a prime number\n",
      "8 equals 2 * 4\n",
      "9 equals 3 * 3\n"
     ]
    }
   ],
   "source": [
    "N=10\n",
    "for y in range(2,N):\n",
    "    for x in range(2,y):\n",
    "        if y % x ==0:\n",
    "            print(y, 'equals',x, '*', y//x)\n",
    "            break\n",
    "    else:\n",
    "        print(y, 'is a prime number')"
   ]
  },
  {
   "cell_type": "code",
   "execution_count": null,
   "metadata": {},
   "outputs": [],
   "source": []
  }
 ],
 "metadata": {
  "kernelspec": {
   "display_name": "Python 3",
   "language": "python",
   "name": "python3"
  },
  "language_info": {
   "codemirror_mode": {
    "name": "ipython",
    "version": 3
   },
   "file_extension": ".py",
   "mimetype": "text/x-python",
   "name": "python",
   "nbconvert_exporter": "python",
   "pygments_lexer": "ipython3",
   "version": "3.7.2"
  }
 },
 "nbformat": 4,
 "nbformat_minor": 2
}
